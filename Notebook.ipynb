{
 "cells": [
  {
   "cell_type": "markdown",
   "id": "inclusive-arizona",
   "metadata": {},
   "source": [
    "# FMSI Project Notebook\n",
    "\n",
    "Authors:\n",
    "- Benjamin Peter\n",
    "- Bastien Coutadeur\n",
    "- Alexandre Dias\n",
    "- Mathieu Guérin"
   ]
  },
  {
   "cell_type": "markdown",
   "id": "typical-steam",
   "metadata": {},
   "source": [
    "Importing our work:"
   ]
  },
  {
   "cell_type": "code",
   "execution_count": 1,
   "id": "balanced-telephone",
   "metadata": {},
   "outputs": [],
   "source": [
    "# Generating prime numbers\n",
    "from genPrime import erathosthene, is_prime\n",
    "from miller_rabin import MillerRabin, generate_prime\n",
    "\n",
    "# RSA Implementation\n",
    "from rsa import RSA\n",
    "\n",
    "# Cracking RSA\n",
    "import p_1_pollard\n",
    "import rho_pollard\n",
    "import fermat as ferm\n",
    "\n",
    "# Timer\n",
    "import time_cracking as tm\n",
    "\n",
    "# Plot\n",
    "import matplotlib.pyplot as plt\n",
    "\n",
    "# Helper functions\n",
    "from helper import tuple_val_eq"
   ]
  },
  {
   "cell_type": "markdown",
   "id": "equipped-madonna",
   "metadata": {},
   "source": [
    "## Prime numbers generation"
   ]
  },
  {
   "cell_type": "markdown",
   "id": "discrete-caribbean",
   "metadata": {},
   "source": [
    "### Sieve of Eratosthenes"
   ]
  },
  {
   "cell_type": "code",
   "execution_count": 2,
   "id": "italian-power",
   "metadata": {
    "scrolled": true
   },
   "outputs": [
    {
     "name": "stdout",
     "output_type": "stream",
     "text": [
      "Generating prime numbers between 2 and 1024...\n",
      "[2, 3, 5, 7, 11, 13, 17, 19, 23, 29, 31, 37, 41, 43, 47, 53, 59, 61, 67, 71, 73, 79, 83, 89, 97, 101, 103, 107, 109, 113, 127, 131, 137, 139, 149, 151, 157, 163, 167, 173, 179, 181, 191, 193, 197, 199, 211, 223, 227, 229, 233, 239, 241, 251, 257, 263, 269, 271, 277, 281, 283, 293, 307, 311, 313, 317, 331, 337, 347, 349, 353, 359, 367, 373, 379, 383, 389, 397, 401, 409, 419, 421, 431, 433, 439, 443, 449, 457, 461, 463, 467, 479, 487, 491, 499, 503, 509, 521, 523, 541, 547, 557, 563, 569, 571, 577, 587, 593, 599, 601, 607, 613, 617, 619, 631, 641, 643, 647, 653, 659, 661, 673, 677, 683, 691, 701, 709, 719, 727, 733, 739, 743, 751, 757, 761, 769, 773, 787, 797, 809, 811, 821, 823, 827, 829, 839, 853, 857, 859, 863, 877, 881, 883, 887, 907, 911, 919, 929, 937, 941, 947, 953, 967, 971, 977, 983, 991, 997, 1009, 1013, 1019, 1021]\n",
      "\n",
      "Success: All the numbers are prime numbers!\n"
     ]
    }
   ],
   "source": [
    "print(\"Generating prime numbers between 2 and 1024...\")\n",
    "L = erathosthene(1024)\n",
    "print(L)\n",
    "\n",
    "print()  # Newline\n",
    "not_primes = []\n",
    "for p in L:\n",
    "    if not is_prime(p):\n",
    "        not_primes.append(p)\n",
    "if not not_primes:\n",
    "    print(\"Success: All the numbers are prime numbers!\")\n",
    "else:\n",
    "    print(\"Error: Found non-prime numbers:\", not_primes)"
   ]
  },
  {
   "cell_type": "code",
   "execution_count": 3,
   "id": "consistent-cookie",
   "metadata": {
    "scrolled": false
   },
   "outputs": [
    {
     "name": "stdout",
     "output_type": "stream",
     "text": [
      "Generating prime numbers between 2 and 1048576...\n",
      "Success: All the numbers are prime numbers!\n"
     ]
    }
   ],
   "source": [
    "print(\"Generating prime numbers between 2 and 1048576...\")\n",
    "L = erathosthene(1048576)\n",
    "\n",
    "not_primes = []\n",
    "for p in L:\n",
    "    if not is_prime(p):\n",
    "        not_primes.append(p)\n",
    "if not not_primes:\n",
    "    print(\"Success: All the numbers are prime numbers!\")\n",
    "else:\n",
    "    print(\"Error: Found non-prime numbers:\", not_primes)"
   ]
  },
  {
   "cell_type": "markdown",
   "id": "advised-survivor",
   "metadata": {},
   "source": [
    "### Basic primality test\n",
    "\n",
    "We've implemented a basic primality test (`is_prime`), used above for checking that the sieve of eratosthenes works properly."
   ]
  },
  {
   "cell_type": "markdown",
   "id": "continued-lottery",
   "metadata": {},
   "source": [
    "### Miller-Rabin primality test\n",
    "\n",
    "We've implemented the Miller-Rabin primality test, faster than `is_prime`, for generating large prime numbers:"
   ]
  },
  {
   "cell_type": "code",
   "execution_count": 4,
   "id": "military-louis",
   "metadata": {},
   "outputs": [
    {
     "name": "stdout",
     "output_type": "stream",
     "text": [
      "Generate random prime numbers between 2^127 and 2^128...\n",
      "1: 275171808720465096917259472861937439847\n",
      "2: 293707757098952331225737381341972786951\n",
      "3: 312674183610567132791838316902226700651\n"
     ]
    }
   ],
   "source": [
    "print(\"Generate random prime numbers between 2^127 and 2^128...\")\n",
    "print(\"1:\", generate_prime(128))\n",
    "print(\"2:\", generate_prime(128))\n",
    "print(\"3:\", generate_prime(128))"
   ]
  },
  {
   "cell_type": "code",
   "execution_count": 5,
   "id": "handy-station",
   "metadata": {},
   "outputs": [
    {
     "name": "stdout",
     "output_type": "stream",
     "text": [
      "Generate random prime numbers between 2^1023 and 2^1024...\n",
      "111573650573299075204902698785700831105759642629485558877624325162612398554032348928405692003770154549506312142934181574243995237006644865572190548814787190368187342899903456210948035773151077971961604047258529955281663970352105365168806984171582756294950618385877401285353709724118214686665090635047946112459\n"
     ]
    }
   ],
   "source": [
    "# Works for generating large prime numbers:\n",
    "print(\"Generate random prime numbers between 2^1023 and 2^1024...\")\n",
    "print(generate_prime(1024))"
   ]
  },
  {
   "cell_type": "markdown",
   "id": "stock-savage",
   "metadata": {},
   "source": [
    "## RSA Implementation"
   ]
  },
  {
   "cell_type": "code",
   "execution_count": 6,
   "id": "checked-contamination",
   "metadata": {},
   "outputs": [
    {
     "data": {
      "text/plain": [
       "((3233, 7), (3233, 1783))"
      ]
     },
     "execution_count": 6,
     "metadata": {},
     "output_type": "execute_result"
    }
   ],
   "source": [
    "# Generate RSA public and private keys from given prime numbers\n",
    "RSA.generate_keys(61, 53)"
   ]
  },
  {
   "cell_type": "code",
   "execution_count": 7,
   "id": "enabling-mineral",
   "metadata": {},
   "outputs": [],
   "source": [
    "# Generate a RSA object from given prime numbers\n",
    "r = RSA.generate(61, 53)"
   ]
  },
  {
   "cell_type": "code",
   "execution_count": 8,
   "id": "martial-kingston",
   "metadata": {},
   "outputs": [
    {
     "data": {
      "text/plain": [
       "3233"
      ]
     },
     "execution_count": 8,
     "metadata": {},
     "output_type": "execute_result"
    }
   ],
   "source": [
    "# The RSA ciphering modulus\n",
    "r.n"
   ]
  },
  {
   "cell_type": "code",
   "execution_count": 9,
   "id": "related-trademark",
   "metadata": {},
   "outputs": [
    {
     "data": {
      "text/plain": [
       "7"
      ]
     },
     "execution_count": 9,
     "metadata": {},
     "output_type": "execute_result"
    }
   ],
   "source": [
    "# The RSA public exponent\n",
    "r.e"
   ]
  },
  {
   "cell_type": "code",
   "execution_count": 10,
   "id": "whole-sullivan",
   "metadata": {},
   "outputs": [
    {
     "data": {
      "text/plain": [
       "(3233, 7)"
      ]
     },
     "execution_count": 10,
     "metadata": {},
     "output_type": "execute_result"
    }
   ],
   "source": [
    "# The RSA public key\n",
    "r.pub_key()"
   ]
  },
  {
   "cell_type": "code",
   "execution_count": 11,
   "id": "charming-dairy",
   "metadata": {},
   "outputs": [
    {
     "data": {
      "text/plain": [
       "1783"
      ]
     },
     "execution_count": 11,
     "metadata": {},
     "output_type": "execute_result"
    }
   ],
   "source": [
    "# The RSA private exponent\n",
    "r.d"
   ]
  },
  {
   "cell_type": "code",
   "execution_count": 12,
   "id": "exposed-patrick",
   "metadata": {},
   "outputs": [
    {
     "data": {
      "text/plain": [
       "(3233, 1783)"
      ]
     },
     "execution_count": 12,
     "metadata": {},
     "output_type": "execute_result"
    }
   ],
   "source": [
    "# The RSA private key\n",
    "r.priv_key()"
   ]
  },
  {
   "cell_type": "markdown",
   "id": "excessive-release",
   "metadata": {},
   "source": [
    "### Encryption"
   ]
  },
  {
   "cell_type": "code",
   "execution_count": 13,
   "id": "allied-joining",
   "metadata": {},
   "outputs": [
    {
     "name": "stdout",
     "output_type": "stream",
     "text": [
      "Our message: Hello, world!\n"
     ]
    }
   ],
   "source": [
    "# Our clear message\n",
    "msg = \"Hello, world!\"\n",
    "print(\"Our message:\", msg)"
   ]
  },
  {
   "cell_type": "code",
   "execution_count": 14,
   "id": "blocked-belize",
   "metadata": {},
   "outputs": [
    {
     "name": "stdout",
     "output_type": "stream",
     "text": [
      "Encrypted message: [1087, 3071, 1877, 1877, 3183, 1129, 2774, 863, 3183, 1797, 1877, 2872, 2417]\n"
     ]
    }
   ],
   "source": [
    "# Encrypt a message\n",
    "encrypted_msg = r.encrypt(\"Hello, world!\")\n",
    "print(\"Encrypted message:\", encrypted_msg)"
   ]
  },
  {
   "cell_type": "markdown",
   "id": "buried-relative",
   "metadata": {},
   "source": [
    "Encryption is done character per character."
   ]
  },
  {
   "cell_type": "markdown",
   "id": "excessive-hepatitis",
   "metadata": {},
   "source": [
    "### Decryption"
   ]
  },
  {
   "cell_type": "code",
   "execution_count": 15,
   "id": "stainless-problem",
   "metadata": {
    "scrolled": true
   },
   "outputs": [
    {
     "name": "stdout",
     "output_type": "stream",
     "text": [
      "Decrypted message: Hello, world!\n",
      "This matches our original message!\n"
     ]
    }
   ],
   "source": [
    "decrypted_msg = r.decrypt(encrypted_msg)\n",
    "print(\"Decrypted message:\", decrypted_msg)\n",
    "\n",
    "if decrypted_msg == msg:\n",
    "    print(\"This matches our original message!\")\n",
    "else:\n",
    "    print(\"This does not match our original message..\")"
   ]
  },
  {
   "cell_type": "markdown",
   "id": "preliminary-chemistry",
   "metadata": {},
   "source": [
    "## Cracking RSA\n",
    "\n",
    "We've implemented three cracking algorithms:\n",
    "- Pollard's p-1 Algorithm\n",
    "- Pollard's rho Algorithm\n",
    "- Fermat's factorization Algorithm\n",
    "\n",
    "_Note:  \n",
    "In the examples below, we're using `tuple_val_eq` to check if the cracked primes match what is expected.  \n",
    "This checks if `(a, b)` is equal to `(c, d)` or `(d, c)`._ "
   ]
  },
  {
   "cell_type": "markdown",
   "id": "several-national",
   "metadata": {},
   "source": [
    "### Pollard's p-1 Algorithm"
   ]
  },
  {
   "cell_type": "code",
   "execution_count": 16,
   "id": "cathedral-loading",
   "metadata": {},
   "outputs": [
    {
     "name": "stdout",
     "output_type": "stream",
     "text": [
      "Our message: Hello, world! This is my very secret message.\n",
      "Encrypting using RSA, from prime numbers (661, 673)\n",
      "\n",
      "********** Cracking with Fermat factorisation **********\n",
      "\n",
      "Cracked primes: (673, 661)\n",
      "Success!\n",
      "\n",
      "Cracked message: Hello, world! This is my very secret message.\n",
      "Success!\n"
     ]
    }
   ],
   "source": [
    "msg = \"Hello, world! This is my very secret message.\"\n",
    "print(\"Our message:\", msg)\n",
    "\n",
    "primes = (661, 673)\n",
    "print(\"Encrypting using RSA, from prime numbers\", primes)\n",
    "r = RSA.generate(*primes)\n",
    "encrypted_msg = r.encrypt(msg)\n",
    "# print(\"Encrypted data:\", encrypted_msg)\n",
    "\n",
    "print()  # Newline\n",
    "print(10 * '*', \"Cracking with Fermat factorisation\", 10 * '*')\n",
    "\n",
    "print()  # Newline\n",
    "cracked_primes = p_1_pollard.crack_primes(r.n)\n",
    "print(\"Cracked primes:\", cracked_primes)\n",
    "print(\"Success!\" if tuple_val_eq(cracked_primes, primes) else \"Failure.\")\n",
    "\n",
    "print()  # Newline\n",
    "cracked_msg = p_1_pollard.crack_msg(encrypted_msg, r.n)\n",
    "print(\"Cracked message:\", cracked_msg)\n",
    "print(\"Success!\" if cracked_msg == msg else \"Failure.\")"
   ]
  },
  {
   "cell_type": "markdown",
   "id": "framed-success",
   "metadata": {},
   "source": [
    "### Pollard's rho Algorithm"
   ]
  },
  {
   "cell_type": "code",
   "execution_count": 17,
   "id": "infectious-industry",
   "metadata": {
    "scrolled": true
   },
   "outputs": [
    {
     "name": "stdout",
     "output_type": "stream",
     "text": [
      "Our message: Hello, world! This is my very secret message.\n",
      "Encrypting using RSA, from prime numbers (661, 673)\n",
      "\n",
      "********** Cracking with Fermat factorisation **********\n",
      "\n",
      "Cracked primes: (673, 661)\n",
      "Success!\n",
      "\n",
      "Cracked message: Hello, world! This is my very secret message.\n",
      "Success!\n"
     ]
    }
   ],
   "source": [
    "msg = \"Hello, world! This is my very secret message.\"\n",
    "print(\"Our message:\", msg)\n",
    "\n",
    "primes = (661, 673)\n",
    "print(\"Encrypting using RSA, from prime numbers\", primes)\n",
    "r = RSA.generate(*primes)\n",
    "encrypted_msg = r.encrypt(msg)\n",
    "# print(\"Encrypted data:\", encrypted_msg)\n",
    "\n",
    "print()  # Newline\n",
    "print(10 * '*', \"Cracking with Fermat factorisation\", 10 * '*')\n",
    "\n",
    "print()  # Newline\n",
    "cracked_primes = rho_pollard.crack_primes(r.n)\n",
    "print(\"Cracked primes:\", cracked_primes)\n",
    "print(\"Success!\" if tuple_val_eq(cracked_primes, primes) else \"Failure.\")\n",
    "\n",
    "print()  # Newline\n",
    "cracked_msg = rho_pollard.crack_msg(encrypted_msg, r.n)\n",
    "print(\"Cracked message:\", cracked_msg)\n",
    "print(\"Success!\" if cracked_msg == msg else \"Failure.\")"
   ]
  },
  {
   "cell_type": "markdown",
   "id": "interested-constant",
   "metadata": {},
   "source": [
    "### Fermat's factorization Algorithm"
   ]
  },
  {
   "cell_type": "code",
   "execution_count": 18,
   "id": "selected-creek",
   "metadata": {},
   "outputs": [
    {
     "name": "stdout",
     "output_type": "stream",
     "text": [
      "Our message: Hello, world! This is my very secret message.\n",
      "Encrypting using RSA, from prime numbers (661, 673)\n",
      "\n",
      "********** Cracking with Fermat factorisation **********\n",
      "\n",
      "Cracked primes: (661, 673)\n",
      "Success!\n",
      "\n",
      "Cracked message: Hello, world! This is my very secret message.\n",
      "Success!\n"
     ]
    }
   ],
   "source": [
    "msg = \"Hello, world! This is my very secret message.\"\n",
    "print(\"Our message:\", msg)\n",
    "\n",
    "primes = (661, 673)\n",
    "print(\"Encrypting using RSA, from prime numbers\", primes)\n",
    "r = RSA.generate(*primes)\n",
    "encrypted_msg = r.encrypt(msg)\n",
    "# print(\"Encrypted data:\", encrypted_msg)\n",
    "\n",
    "print()  # Newline\n",
    "print(10 * '*', \"Cracking with Fermat factorisation\", 10 * '*')\n",
    "\n",
    "print()  # Newline\n",
    "cracked_primes = ferm.crack_primes(r.n)\n",
    "print(\"Cracked primes:\", cracked_primes)\n",
    "print(\"Success!\" if tuple_val_eq(cracked_primes, primes) else \"Failure.\")\n",
    "\n",
    "print()  # Newline\n",
    "cracked_msg = ferm.crack_msg(encrypted_msg, r.n)\n",
    "print(\"Cracked message:\", cracked_msg)\n",
    "print(\"Success!\" if cracked_msg == msg else \"Failure.\")"
   ]
  },
  {
   "cell_type": "markdown",
   "id": "violent-trust",
   "metadata": {},
   "source": [
    "### Time comparaison for different algorithms"
   ]
  },
  {
   "cell_type": "code",
   "execution_count": 19,
   "id": "ecf6a82f",
   "metadata": {},
   "outputs": [],
   "source": [
    "# Save time by not regenerating benchmarks\n",
    "skip_live_benchmarking = True"
   ]
  },
  {
   "cell_type": "markdown",
   "id": "architectural-astronomy",
   "metadata": {},
   "source": [
    "#### Pollard's rho Algorithm"
   ]
  },
  {
   "cell_type": "code",
   "execution_count": 20,
   "id": "special-hands",
   "metadata": {},
   "outputs": [
    {
     "name": "stdout",
     "output_type": "stream",
     "text": [
      "Couldn't crack p = 2 q = 3\n",
      "p = 19 q = 17 --- 0.0 seconds ---\n",
      "p = 43 q = 41 --- 0.0001 seconds ---\n",
      "p = 67 q = 71 --- 0.0003 seconds ---\n",
      "p = 97 q = 101 --- 0.0004 seconds ---\n",
      "p = 131 q = 127 --- 0.0025 seconds ---\n",
      "p = 163 q = 157 --- 0.0013 seconds ---\n",
      "p = 191 q = 193 --- 0.0014 seconds ---\n",
      "p = 227 q = 229 --- 0.004 seconds ---\n",
      "p = 257 q = 263 --- 0.0058 seconds ---\n",
      "p = 283 q = 293 --- 0.0022 seconds ---\n",
      "p = 337 q = 331 --- 0.0045 seconds ---\n",
      "p = 367 q = 373 --- 0.007 seconds ---\n",
      "p = 409 q = 401 --- 0.0091 seconds ---\n",
      "p = 443 q = 439 --- 0.0198 seconds ---\n",
      "Couldn't crack p = 467 q = 479\n",
      "p = 509 q = 521 --- 0.0234 seconds ---\n",
      "p = 563 q = 569 --- 0.0283 seconds ---\n",
      "p = 599 q = 601 --- 0.0398 seconds ---\n",
      "p = 641 q = 631 --- 0.0421 seconds ---\n",
      "p = 673 q = 661 --- 0.0043 seconds ---\n",
      "p = 709 q = 719 --- 0.0132 seconds ---\n",
      "p = 757 q = 751 --- 0.0137 seconds ---\n",
      "p = 809 q = 797 --- 0.0548 seconds ---\n",
      "p = 839 q = 829 --- 0.0192 seconds ---\n",
      "p = 881 q = 877 --- 0.0581 seconds ---\n",
      "p = 919 q = 929 --- 0.0217 seconds ---\n",
      "p = 967 q = 971 --- 0.0321 seconds ---\n",
      "p = 1013 q = 1009 --- 0.1037 seconds ---\n",
      "p = 1039 q = 1049 --- 0.0275 seconds ---\n",
      "p = 1091 q = 1087 --- 0.0873 seconds ---\n",
      "p = 1123 q = 1117 --- 0.0638 seconds ---\n",
      "p = 1181 q = 1171 --- 0.1265 seconds ---\n",
      "p = 1217 q = 1223 --- 0.1263 seconds ---\n",
      "p = 1277 q = 1259 --- 0.139 seconds ---\n",
      "p = 1297 q = 1301 --- 0.1232 seconds ---\n",
      "p = 1361 q = 1327 --- 0.0328 seconds ---\n",
      "p = 1423 q = 1409 --- 0.2064 seconds ---\n",
      "p = 1451 q = 1447 --- 0.1925 seconds ---\n",
      "p = 1487 q = 1483 --- 0.1132 seconds ---\n",
      "p = 1531 q = 1523 --- 0.1706 seconds ---\n",
      "p = 1567 q = 1571 --- 0.0883 seconds ---\n",
      "p = 1609 q = 1607 --- 0.1971 seconds ---\n",
      "p = 1637 q = 1657 --- 0.2767 seconds ---\n",
      "p = 1697 q = 1699 --- 0.2255 seconds ---\n",
      "p = 1741 q = 1747 --- 0.2255 seconds ---\n",
      "p = 1789 q = 1787 --- 0.2719 seconds ---\n",
      "p = 1861 q = 1847 --- 0.3221 seconds ---\n",
      "p = 1879 q = 1889 --- 0.0964 seconds ---\n",
      "p = 1933 q = 1949 --- 0.4277 seconds ---\n",
      "p = 1997 q = 1993 --- 0.2287 seconds ---\n",
      "p = 2029 q = 2027 --- 0.351 seconds ---\n",
      "p = 2081 q = 2083 --- 0.1652 seconds ---\n",
      "p = 2113 q = 2129 --- 0.4595 seconds ---\n",
      "p = 2153 q = 2161 --- 0.3783 seconds ---\n",
      "p = 2237 q = 2221 --- 0.1816 seconds ---\n",
      "p = 2273 q = 2269 --- 0.5448 seconds ---\n",
      "p = 2309 q = 2311 --- 0.3684 seconds ---\n",
      "p = 2357 q = 2351 --- 0.4714 seconds ---\n",
      "p = 2389 q = 2393 --- 0.5946 seconds ---\n",
      "p = 2441 q = 2437 --- 0.682 seconds ---\n",
      "p = 2503 q = 2477 --- 0.3166 seconds ---\n",
      "p = 2551 q = 2549 --- 0.3013 seconds ---\n",
      "p = 2617 q = 2609 --- 0.5223 seconds ---\n",
      "p = 2663 q = 2659 --- 0.7123 seconds ---\n",
      "p = 2689 q = 2693 --- 0.7292 seconds ---\n",
      "p = 2719 q = 2729 --- 0.1886 seconds ---\n",
      "p = 2777 q = 2767 --- 0.7757 seconds ---\n",
      "p = 2803 q = 2819 --- 0.7929 seconds ---\n",
      "p = 2861 q = 2857 --- 0.3293 seconds ---\n",
      "p = 2917 q = 2909 --- 0.6456 seconds ---\n",
      "Couldn't crack p = 2963 q = 2969\n",
      "p = 3023 q = 3019 --- 0.9148 seconds ---\n",
      "p = 3067 q = 3079 --- 0.7176 seconds ---\n",
      "p = 3137 q = 3121 --- 0.3389 seconds ---\n",
      "p = 3187 q = 3191 --- 0.7267 seconds ---\n",
      "p = 3229 q = 3251 --- 0.5666 seconds ---\n",
      "p = 3301 q = 3299 --- 0.3936 seconds ---\n",
      "p = 3331 q = 3329 --- 1.1958 seconds ---\n",
      "p = 3373 q = 3371 --- 1.2492 seconds ---\n",
      "p = 3433 q = 3449 --- 1.1888 seconds ---\n",
      "p = 3491 q = 3469 --- 0.8685 seconds ---\n",
      "p = 3529 q = 3533 --- 1.2501 seconds ---\n",
      "p = 3571 q = 3559 --- 0.5805 seconds ---\n",
      "p = 3617 q = 3613 --- 0.6564 seconds ---\n",
      "p = 3659 q = 3671 --- 1.1225 seconds ---\n",
      "p = 3709 q = 3701 --- 0.246 seconds ---\n",
      "p = 3767 q = 3761 --- 1.1868 seconds ---\n",
      "p = 3821 q = 3803 --- 1.22 seconds ---\n",
      "p = 3863 q = 3853 --- 0.3864 seconds ---\n",
      "p = 3917 q = 3911 --- 1.3383 seconds ---\n",
      "p = 3947 q = 3943 --- 0.8727 seconds ---\n",
      "p = 4013 q = 4007 --- 1.5118 seconds ---\n",
      "p = 4051 q = 4057 --- 1.1913 seconds ---\n",
      "p = 4099 q = 4111 --- 0.6075 seconds ---\n",
      "p = 4153 q = 4157 --- 0.8658 seconds ---\n",
      "p = 4217 q = 4219 --- 1.341 seconds ---\n",
      "p = 4253 q = 4259 --- 1.5212 seconds ---\n",
      "p = 4289 q = 4297 --- 1.386 seconds ---\n",
      "p = 4363 q = 4357 --- 0.9538 seconds ---\n",
      "p = 4423 q = 4421 --- 2.0971 seconds ---\n",
      "p = 4481 q = 4463 --- 1.6789 seconds ---\n",
      "p = 4517 q = 4519 --- 1.5432 seconds ---\n",
      "p = 4583 q = 4567 --- 1.0492 seconds ---\n",
      "p = 4639 q = 4637 --- 1.6174 seconds ---\n",
      "p = 4663 q = 4673 --- 0.5515 seconds ---\n",
      "p = 4729 q = 4723 --- 2.2335 seconds ---\n",
      "p = 4787 q = 4789 --- 1.7272 seconds ---\n",
      "p = 4817 q = 4831 --- 1.5921 seconds ---\n",
      "p = 4909 q = 4903 --- 2.4305 seconds ---\n",
      "p = 4951 q = 4943 --- 2.6021 seconds ---\n",
      "p = 4987 q = 4993 --- 1.2633 seconds ---\n",
      "p = 5023 q = 5021 --- 0.9143 seconds ---\n",
      "p = 5087 q = 5081 --- 2.1613 seconds ---\n",
      "p = 5119 q = 5147 --- 1.9893 seconds ---\n",
      "p = 5189 q = 5197 --- 2.0442 seconds ---\n",
      "p = 5237 q = 5261 --- 2.3109 seconds ---\n",
      "p = 5303 q = 5309 --- 2.3606 seconds ---\n",
      "p = 5387 q = 5381 --- 2.4246 seconds ---\n",
      "p = 5419 q = 5417 --- 2.2102 seconds ---\n",
      "p = 5449 q = 5471 --- 0.5361 seconds ---\n",
      "p = 5503 q = 5507 --- 1.5281 seconds ---\n",
      "p = 5557 q = 5563 --- 1.5516 seconds ---\n",
      "p = 5639 q = 5623 --- 3.1935 seconds ---\n",
      "p = 5659 q = 5657 --- 2.4323 seconds ---\n",
      "p = 5711 q = 5701 --- 1.1772 seconds ---\n",
      "p = 5749 q = 5779 --- 0.8498 seconds ---\n",
      "p = 5821 q = 5813 --- 0.6532 seconds ---\n",
      "p = 5857 q = 5851 --- 0.6381 seconds ---\n",
      "p = 5897 q = 5881 --- 2.0749 seconds ---\n",
      "p = 5981 q = 5953 --- 3.2191 seconds ---\n",
      "p = 6043 q = 6037 --- 1.8711 seconds ---\n",
      "p = 6079 q = 6089 --- 0.9618 seconds ---\n",
      "p = 6131 q = 6133 --- 3.5436 seconds ---\n",
      "p = 6197 q = 6199 --- 2.9531 seconds ---\n",
      "p = 6229 q = 6247 --- 2.983 seconds ---\n",
      "p = 6277 q = 6287 --- 4.1482 seconds ---\n",
      "p = 6329 q = 6323 --- 3.4198 seconds ---\n",
      "p = 6367 q = 6361 --- 2.991 seconds ---\n",
      "p = 6421 q = 6427 --- 3.3491 seconds ---\n",
      "p = 6481 q = 6491 --- 3.0202 seconds ---\n",
      "p = 6553 q = 6563 --- 1.0812 seconds ---\n",
      "p = 6607 q = 6599 --- 3.2926 seconds ---\n",
      "p = 6661 q = 6673 --- 1.5996 seconds ---\n",
      "p = 6703 q = 6709 --- 4.5192 seconds ---\n",
      "p = 6763 q = 6779 --- 4.6699 seconds ---\n",
      "p = 6827 q = 6823 --- 2.4558 seconds ---\n",
      "p = 6869 q = 6863 --- 4.1463 seconds ---\n",
      "p = 6917 q = 6911 --- 4.085 seconds ---\n",
      "p = 6971 q = 6967 --- 3.5319 seconds ---\n",
      "p = 7013 q = 7001 --- 4.6676 seconds ---\n",
      "p = 7057 q = 7069 --- 3.7605 seconds ---\n",
      "p = 7127 q = 7129 --- 3.8279 seconds ---\n",
      "p = 7207 q = 7193 --- 2.6038 seconds ---\n",
      "p = 7237 q = 7243 --- 2.6353 seconds ---\n",
      "p = 7309 q = 7307 --- 4.0227 seconds ---\n",
      "p = 7369 q = 7351 --- 1.8659 seconds ---\n",
      "p = 7451 q = 7457 --- 4.6498 seconds ---\n",
      "p = 7489 q = 7499 --- 1.4129 seconds ---\n",
      "p = 7537 q = 7541 --- 5.1168 seconds ---\n",
      "Couldn't crack p = 7573 q = 7577\n",
      "p = 7621 q = 7607 --- 3.1638 seconds ---\n",
      "p = 7681 q = 7673 --- 0.6904 seconds ---\n",
      "p = 7717 q = 7723 --- 3.0663 seconds ---\n",
      "p = 7759 q = 7789 --- 1.5379 seconds ---\n",
      "p = 7853 q = 7841 --- 5.1875 seconds ---\n",
      "p = 7883 q = 7901 --- 5.287 seconds ---\n",
      "p = 7949 q = 7937 --- 5.3096 seconds ---\n",
      "p = 8011 q = 8017 --- 3.4572 seconds ---\n",
      "p = 8081 q = 8087 --- 5.4846 seconds ---\n",
      "p = 8123 q = 8117 --- 5.5202 seconds ---\n",
      "p = 8179 q = 8191 --- 3.0649 seconds ---\n",
      "p = 8233 q = 8237 --- 3.4064 seconds ---\n",
      "p = 8287 q = 8291 --- 2.4784 seconds ---\n",
      "p = 8353 q = 8329 --- 6.9934 seconds ---\n",
      "p = 8419 q = 8389 --- 1.7824 seconds ---\n",
      "p = 8461 q = 8447 --- 3.8431 seconds ---\n",
      "p = 8527 q = 8537 --- 7.3354 seconds ---\n",
      "p = 8597 q = 8581 --- 7.0977 seconds ---\n",
      "p = 8641 q = 8629 --- 8.0418 seconds ---\n",
      "p = 8689 q = 8681 --- 5.204 seconds ---\n",
      "p = 8731 q = 8719 --- 2.7653 seconds ---\n",
      "p = 8761 q = 8779 --- 8.19 seconds ---\n",
      "p = 8831 q = 8821 --- 7.9825 seconds ---\n",
      "p = 8863 q = 8867 --- 3.9322 seconds ---\n",
      "p = 8941 q = 8933 --- 7.7024 seconds ---\n",
      "p = 8999 q = 9001 --- 8.7324 seconds ---\n",
      "p = 9043 q = 9041 --- 8.7742 seconds ---\n",
      "p = 9103 q = 9109 --- 8.3125 seconds ---\n",
      "p = 9161 q = 9157 --- 0.9581 seconds ---\n",
      "p = 9203 q = 9209 --- 7.068 seconds ---\n",
      "p = 9277 q = 9257 --- 8.5934 seconds ---\n",
      "p = 9319 q = 9323 --- 8.715 seconds ---\n",
      "p = 9371 q = 9377 --- 7.3685 seconds ---\n",
      "p = 9419 q = 9421 --- 9.5438 seconds ---\n",
      "p = 9461 q = 9463 --- 9.6385 seconds ---\n",
      "p = 9497 q = 9511 --- 4.8799 seconds ---\n",
      "p = 9551 q = 9587 --- 7.6761 seconds ---\n",
      "p = 9631 q = 9629 --- 9.9879 seconds ---\n",
      "p = 9689 q = 9679 --- 2.346 seconds ---\n",
      "p = 9743 q = 9739 --- 9.5592 seconds ---\n",
      "p = 9791 q = 9787 --- 8.3492 seconds ---\n",
      "p = 9833 q = 9839 --- 8.2101 seconds ---\n"
     ]
    },
    {
     "name": "stdout",
     "output_type": "stream",
     "text": [
      "p = 9883 q = 9887 --- 4.98 seconds ---\n",
      "p = 9931 q = 9941 --- 11.3826 seconds ---\n",
      "Sucess rate: 201/4\n",
      "[0.0, 0.0001, 0.0003, 0.0004, 0.0025, 0.0013, 0.0014, 0.004, 0.0058, 0.0022, 0.0045, 0.007, 0.0091, 0.0198, 0.0234, 0.0283, 0.0398, 0.0421, 0.0043, 0.0132, 0.0137, 0.0548, 0.0192, 0.0581, 0.0217, 0.0321, 0.1037, 0.0275, 0.0873, 0.0638, 0.1265, 0.1263, 0.139, 0.1232, 0.0328, 0.2064, 0.1925, 0.1132, 0.1706, 0.0883, 0.1971, 0.2767, 0.2255, 0.2255, 0.2719, 0.3221, 0.0964, 0.4277, 0.2287, 0.351, 0.1652, 0.4595, 0.3783, 0.1816, 0.5448, 0.3684, 0.4714, 0.5946, 0.682, 0.3166, 0.3013, 0.5223, 0.7123, 0.7292, 0.1886, 0.7757, 0.7929, 0.3293, 0.6456, 0.9148, 0.7176, 0.3389, 0.7267, 0.5666, 0.3936, 1.1958, 1.2492, 1.1888, 0.8685, 1.2501, 0.5805, 0.6564, 1.1225, 0.246, 1.1868, 1.22, 0.3864, 1.3383, 0.8727, 1.5118, 1.1913, 0.6075, 0.8658, 1.341, 1.5212, 1.386, 0.9538, 2.0971, 1.6789, 1.5432, 1.0492, 1.6174, 0.5515, 2.2335, 1.7272, 1.5921, 2.4305, 2.6021, 1.2633, 0.9143, 2.1613, 1.9893, 2.0442, 2.3109, 2.3606, 2.4246, 2.2102, 0.5361, 1.5281, 1.5516, 3.1935, 2.4323, 1.1772, 0.8498, 0.6532, 0.6381, 2.0749, 3.2191, 1.8711, 0.9618, 3.5436, 2.9531, 2.983, 4.1482, 3.4198, 2.991, 3.3491, 3.0202, 1.0812, 3.2926, 1.5996, 4.5192, 4.6699, 2.4558, 4.1463, 4.085, 3.5319, 4.6676, 3.7605, 3.8279, 2.6038, 2.6353, 4.0227, 1.8659, 4.6498, 1.4129, 5.1168, 3.1638, 0.6904, 3.0663, 1.5379, 5.1875, 5.287, 5.3096, 3.4572, 5.4846, 5.5202, 3.0649, 3.4064, 2.4784, 6.9934, 1.7824, 3.8431, 7.3354, 7.0977, 8.0418, 5.204, 2.7653, 8.19, 7.9825, 3.9322, 7.7024, 8.7324, 8.7742, 8.3125, 0.9581, 7.068, 8.5934, 8.715, 7.3685, 9.5438, 9.6385, 4.8799, 7.6761, 9.9879, 2.346, 9.5592, 8.3492, 8.2101, 4.98, 11.3826]\n",
      "[323, 1763, 4757, 9797, 16637, 25591, 36863, 51983, 67591, 82919, 111547, 136891, 164009, 194477, 265189, 320347, 359999, 404471, 444853, 509771, 568507, 644773, 695531, 772637, 853751, 938957, 1022117, 1089911, 1185917, 1254391, 1382951, 1488391, 1607743, 1687397, 1806047, 2005007, 2099597, 2205221, 2331713, 2461757, 2585663, 2712509, 2883203, 3041527, 3196943, 3437267, 3549431, 3767417, 3980021, 4112783, 4334723, 4498577, 4652633, 4968377, 5157437, 5336099, 5541307, 5716877, 5948717, 6199931, 6502499, 6827753, 7080917, 7241477, 7420151, 7683959, 7901657, 8173877, 8485553, 9126437, 9443293, 9790577, 10169717, 10497479, 10889999, 11088899, 11370383, 11840417, 12110279, 12467957, 12709189, 13068221, 13432189, 13727009, 14167687, 14531263, 14884139, 15319387, 15563021, 16080091, 16434907, 16850989, 17264021, 17791523, 18113527, 18429833, 19009591, 19554083, 19998703, 20412323, 20930561, 21511043, 21790199, 22335067, 22924943, 23270927, 24068827, 24472793, 24900091, 25220483, 25847047, 26347493, 26967233, 27551857, 28153627, 28987447, 29354723, 29811479, 30305021, 30913591, 31708097, 32012963, 32558411, 33223471, 33837473, 34269307, 34680257, 35604893, 36481591, 37015031, 37601423, 38415203, 38912563, 39463499, 40018267, 40500487, 41267767, 42068171, 43007339, 43599593, 44448853, 44970427, 45846377, 46580621, 47141947, 47803387, 48566957, 49098013, 49885933, 50808383, 51839951, 52417591, 53406863, 54169519, 55562107, 56160011, 56836517, 57972947, 58936313, 59598391, 60434851, 61575373, 62283583, 63091213, 64224187, 65351047, 65934391, 66994189, 67815221, 68707517, 69572137, 70626991, 71470067, 72794999, 73770857, 74563189, 75429209, 76125589, 76912819, 77898251, 78588221, 79869953, 80999999, 81757763, 82919227, 83887277, 84750427, 85877189, 86881037, 87871867, 88736399, 89529443, 90325967, 91565437, 92736899, 93779831, 94887077, 95824517, 96746887, 97713221, 98724071]\n"
     ]
    }
   ],
   "source": [
    "# 10000 represent the maximum prime that will be generated\n",
    "if not skip_live_benchmarking:\n",
    "    time_array_rho, prime_array_rho = tm.time_crack(rho_pollard.crack_primes, 10000)\n",
    "else:\n",
    "    print(\"Skipping live benchmarking.\")"
   ]
  },
  {
   "cell_type": "markdown",
   "id": "cathedral-practice",
   "metadata": {},
   "source": [
    "Expected success rate: 202/3  \n",
    "Pre-calculated values for up to 10000:"
   ]
  },
  {
   "cell_type": "code",
   "execution_count": 21,
   "id": "private-murray",
   "metadata": {},
   "outputs": [],
   "source": [
    "time_array_rho = [0.0, 0.0001, 0.0001, 0.0003, 0.0004, 0.0022, 0.0015, 0.0032, 0.0106, 0.0088, 0.0026, 0.0051, 0.0079, 0.014, 0.0219, 0.0226, 0.025, 0.0342, 0.0408, 0.0039, 0.0172, 0.0128, 0.053, 0.0163, 0.052, 0.0178, 0.0293, 0.1042, 0.0294, 0.0785, 0.0554, 0.1254, 0.1069, 0.1372, 0.1134, 0.0288, 0.1956, 0.1984, 0.2006, 0.2098, 0.101, 0.2158, 0.2566, 0.2086, 0.2128, 0.315, 0.3169, 0.1056, 0.3757, 0.1993, 0.3135, 0.1443, 0.4537, 0.3519, 0.1723, 0.4914, 0.4245, 0.514, 0.6494, 0.7109, 0.3256, 0.2695, 0.4898, 0.7988, 0.6877, 0.1666, 0.7458, 0.8711, 0.3322, 0.6827, 0.9639, 0.7635, 0.417, 0.8226, 0.5387, 0.422, 1.1741, 1.2285, 1.3259, 1.2349, 1.328, 0.525, 0.6761, 1.0239, 0.2203, 1.4379, 1.4836, 0.3903, 1.2986, 1.0889, 1.432, 1.1458, 0.6131, 0.947, 1.3, 1.4991, 1.3208, 0.9602, 2.1076, 1.6503, 1.5014, 0.9936, 1.5101, 0.5198, 2.2232, 1.8269, 1.5873, 2.4936, 2.4993, 1.2519, 0.979, 2.387, 2.3598, 2.0883, 2.344, 2.4012, 2.3089, 2.1327, 0.5363, 1.541, 1.7619, 3.0871, 2.656, 1.2783, 1.0338, 0.5991, 0.5948, 2.009, 3.6872, 1.9164, 0.9372, 3.4094, 2.7169, 2.8892, 4.0216, 3.3282, 3.1572, 3.8634, 2.9925, 1.0143, 3.098, 1.5456, 4.5204, 4.5304, 2.3364, 4.5141, 4.1206, 4.0091, 4.4849, 4.2813, 4.0907, 2.5899, 2.612, 3.9125, 1.8955, 4.8265, 1.5092, 5.7389, 3.2041, 0.7273, 3.0639, 1.5517, 5.0352, 5.2943, 5.2711, 3.7822, 5.6818, 5.694, 2.9565, 3.3363, 2.5784, 6.7062, 1.7, 3.6832, 7.6507, 6.877, 7.6216, 4.8301, 2.6478, 7.7124, 7.4552, 3.6331, 7.7717, 9.0953, 9.2279, 8.4999, 1.0656, 7.6717, 9.0685, 9.3504, 8.2633, 9.6673, 10.6646, 5.1518, 8.1452, 10.4738, 2.6179, 10.4077, 8.5293, 8.2327, 5.1565, 12.4187]\n",
    "prime_array_rho = [6, 323, 1763, 4757, 9797, 16637, 25591, 36863, 51983, 67591, 82919, 111547, 136891, 164009, 194477, 265189, 320347, 359999, 404471, 444853, 509771, 568507, 644773, 695531, 772637, 853751, 938957, 1022117, 1089911, 1185917, 1254391, 1382951, 1488391, 1607743, 1687397, 1806047, 2005007, 2099597, 2205221, 2331713, 2461757, 2585663, 2712509, 2883203, 3041527, 3196943, 3437267, 3549431, 3767417, 3980021, 4112783, 4334723, 4498577, 4652633, 4968377, 5157437, 5336099, 5541307, 5716877, 5948717, 6199931, 6502499, 6827753, 7080917, 7241477, 7420151, 7683959, 7901657, 8173877, 8485553, 9126437, 9443293, 9790577, 10169717, 10497479, 10889999, 11088899, 11370383, 11840417, 12110279, 12467957, 12709189, 13068221, 13432189, 13727009, 14167687, 14531263, 14884139, 15319387, 15563021, 16080091, 16434907, 16850989, 17264021, 17791523, 18113527, 18429833, 19009591, 19554083, 19998703, 20412323, 20930561, 21511043, 21790199, 22335067, 22924943, 23270927, 24068827, 24472793, 24900091, 25220483, 25847047, 26347493, 26967233, 27551857, 28153627, 28987447, 29354723, 29811479, 30305021, 30913591, 31708097, 32012963, 32558411, 33223471, 33837473, 34269307, 34680257, 35604893, 36481591, 37015031, 37601423, 38415203, 38912563, 39463499, 40018267, 40500487, 41267767, 42068171, 43007339, 43599593, 44448853, 44970427, 45846377, 46580621, 47141947, 47803387, 48566957, 49098013, 49885933, 50808383, 51839951, 52417591, 53406863, 54169519, 55562107, 56160011, 56836517, 57972947, 58936313, 59598391, 60434851, 61575373, 62283583, 63091213, 64224187, 65351047, 65934391, 66994189, 67815221, 68707517, 69572137, 70626991, 71470067, 72794999, 73770857, 74563189, 75429209, 76125589, 76912819, 77898251, 78588221, 79869953, 80999999, 81757763, 82919227, 83887277, 84750427, 85877189, 86881037, 87871867, 88736399, 89529443, 90325967, 91565437, 92736899, 93779831, 94887077, 95824517, 96746887, 97713221, 98724071]"
   ]
  },
  {
   "cell_type": "code",
   "execution_count": 22,
   "id": "urban-cloud",
   "metadata": {},
   "outputs": [
    {
     "data": {
      "image/png": "[encoded data removed]",
      "text/plain": [
       "<Figure size 432x288 with 1 Axes>"
      ]
     },
     "metadata": {
      "needs_background": "light"
     },
     "output_type": "display_data"
    }
   ],
   "source": [
    "fig, rho = plt.subplots()\n",
    "\n",
    "rho.plot(prime_array_rho, time_array_rho, 'o')\n",
    "rho.set(xlabel = \"n (module de chiffrement)\",\n",
    "        ylabel = \"time (s)\",\n",
    "        title = \"Pollard's rho Algorithm\")\n",
    "rho.grid()\n",
    "\n",
    "plt.xscale(\"log\")\n",
    "# fig.savefig(\"rho_big.png\")\n",
    "plt.show()"
   ]
  },
  {
   "cell_type": "code",
   "execution_count": 23,
   "id": "neither-bottle",
   "metadata": {},
   "outputs": [],
   "source": [
    "bits_rho = [6, 10, 12, 14, 16, 18, 20, 22, 24, 26, 28, 30, 32, 34, 36, 38, 40, 42, 44, 46, 48, 50, 52, 54, 56, 58, 60, 62] \n",
    "time_rho = [0.0, 0.0, 0.0, 0.0, 0.0, 0.0, 0.0, 0.0, 0.0, 0.0, 0.0001, 0.0001, 0.0005, 0.0002, 0.0008, 0.0009, 0.001, 0.0023, 0.0043, 0.0023, 0.0008, 0.0002, 0.0069, 0.0199, 0.0183, 0.0079, 0.029, 0.023]"
   ]
  },
  {
   "cell_type": "code",
   "execution_count": 24,
   "id": "miniature-boulder",
   "metadata": {
    "scrolled": true
   },
   "outputs": [
    {
     "data": {
      "image/png": "[encoded data removed]",
      "text/plain": [
       "<Figure size 432x288 with 1 Axes>"
      ]
     },
     "metadata": {
      "needs_background": "light"
     },
     "output_type": "display_data"
    }
   ],
   "source": [
    "fig, rho = plt.subplots()\n",
    "\n",
    "rho.plot(bits_rho, time_rho, 'o')\n",
    "rho.set(xlabel = \"bits\",\n",
    "        ylabel = \"time (s)\",\n",
    "        title = \"Pollard's rho Algorithm\")\n",
    "rho.grid()\n",
    "\n",
    "# fig.savefig(\"rho_small.png\")\n",
    "plt.show()"
   ]
  },
  {
   "cell_type": "markdown",
   "id": "handed-discharge",
   "metadata": {},
   "source": [
    "#### Fermat's factorization Algorithm"
   ]
  },
  {
   "cell_type": "code",
   "execution_count": 25,
   "id": "stupid-skirt",
   "metadata": {
    "scrolled": true
   },
   "outputs": [
    {
     "name": "stdout",
     "output_type": "stream",
     "text": [
      "Couldn't crack p = 2 q = 3\n",
      "p = 17 q = 19 --- 0.0 seconds ---\n",
      "p = 41 q = 43 --- 0.0001 seconds ---\n",
      "p = 67 q = 71 --- 0.0003 seconds ---\n",
      "p = 97 q = 101 --- 0.0004 seconds ---\n",
      "p = 127 q = 131 --- 0.0019 seconds ---\n",
      "p = 157 q = 163 --- 0.0014 seconds ---\n",
      "p = 191 q = 193 --- 0.0014 seconds ---\n",
      "p = 227 q = 229 --- 0.0038 seconds ---\n",
      "p = 257 q = 263 --- 0.006 seconds ---\n",
      "p = 283 q = 293 --- 0.0022 seconds ---\n",
      "p = 331 q = 337 --- 0.0043 seconds ---\n",
      "p = 367 q = 373 --- 0.0067 seconds ---\n",
      "p = 401 q = 409 --- 0.0091 seconds ---\n",
      "p = 439 q = 443 --- 0.02 seconds ---\n",
      "p = 467 q = 479 --- 0.0188 seconds ---\n",
      "p = 509 q = 521 --- 0.0229 seconds ---\n",
      "p = 563 q = 569 --- 0.0296 seconds ---\n",
      "p = 599 q = 601 --- 0.0415 seconds ---\n",
      "p = 631 q = 641 --- 0.0441 seconds ---\n",
      "p = 661 q = 673 --- 0.0047 seconds ---\n",
      "p = 709 q = 719 --- 0.0151 seconds ---\n",
      "p = 751 q = 757 --- 0.0148 seconds ---\n",
      "p = 797 q = 809 --- 0.056 seconds ---\n",
      "p = 829 q = 839 --- 0.0192 seconds ---\n",
      "p = 877 q = 881 --- 0.0578 seconds ---\n",
      "p = 919 q = 929 --- 0.0221 seconds ---\n",
      "p = 967 q = 971 --- 0.033 seconds ---\n",
      "p = 1009 q = 1013 --- 0.1046 seconds ---\n",
      "p = 1039 q = 1049 --- 0.0278 seconds ---\n",
      "p = 1087 q = 1091 --- 0.0876 seconds ---\n",
      "p = 1117 q = 1123 --- 0.0647 seconds ---\n",
      "p = 1171 q = 1181 --- 0.1265 seconds ---\n",
      "p = 1217 q = 1223 --- 0.1286 seconds ---\n",
      "p = 1259 q = 1277 --- 0.1425 seconds ---\n",
      "p = 1297 q = 1301 --- 0.1244 seconds ---\n",
      "p = 1327 q = 1361 --- 0.0337 seconds ---\n",
      "p = 1409 q = 1423 --- 0.2032 seconds ---\n",
      "p = 1447 q = 1451 --- 0.1933 seconds ---\n",
      "p = 1483 q = 1487 --- 0.1132 seconds ---\n",
      "p = 1523 q = 1531 --- 0.1695 seconds ---\n",
      "p = 1567 q = 1571 --- 0.089 seconds ---\n",
      "p = 1607 q = 1609 --- 0.1971 seconds ---\n",
      "p = 1637 q = 1657 --- 0.2806 seconds ---\n",
      "p = 1697 q = 1699 --- 0.2343 seconds ---\n",
      "p = 1741 q = 1747 --- 0.2252 seconds ---\n",
      "p = 1787 q = 1789 --- 0.2473 seconds ---\n",
      "p = 1847 q = 1861 --- 0.3287 seconds ---\n",
      "p = 1879 q = 1889 --- 0.0916 seconds ---\n",
      "p = 1933 q = 1949 --- 0.3876 seconds ---\n",
      "p = 1993 q = 1997 --- 0.202 seconds ---\n",
      "p = 2027 q = 2029 --- 0.3142 seconds ---\n",
      "p = 2081 q = 2083 --- 0.1581 seconds ---\n",
      "p = 2113 q = 2129 --- 0.455 seconds ---\n",
      "p = 2153 q = 2161 --- 0.3401 seconds ---\n",
      "p = 2221 q = 2237 --- 0.1835 seconds ---\n",
      "p = 2269 q = 2273 --- 0.5231 seconds ---\n",
      "p = 2309 q = 2311 --- 0.37 seconds ---\n",
      "p = 2351 q = 2357 --- 0.4691 seconds ---\n",
      "p = 2389 q = 2393 --- 0.5777 seconds ---\n",
      "p = 2437 q = 2441 --- 0.686 seconds ---\n",
      "p = 2477 q = 2503 --- 0.3167 seconds ---\n",
      "p = 2549 q = 2551 --- 0.3033 seconds ---\n",
      "p = 2609 q = 2617 --- 0.5235 seconds ---\n",
      "p = 2659 q = 2663 --- 0.7168 seconds ---\n",
      "p = 2689 q = 2693 --- 0.7367 seconds ---\n",
      "p = 2719 q = 2729 --- 0.1891 seconds ---\n",
      "p = 2767 q = 2777 --- 0.7783 seconds ---\n",
      "p = 2803 q = 2819 --- 0.7971 seconds ---\n",
      "p = 2857 q = 2861 --- 0.3281 seconds ---\n",
      "p = 2909 q = 2917 --- 0.6511 seconds ---\n",
      "p = 2963 q = 2969 --- 0.7432 seconds ---\n",
      "p = 3019 q = 3023 --- 0.9185 seconds ---\n",
      "p = 3067 q = 3079 --- 0.7205 seconds ---\n",
      "p = 3121 q = 3137 --- 0.3412 seconds ---\n",
      "p = 3187 q = 3191 --- 0.7379 seconds ---\n",
      "p = 3229 q = 3251 --- 0.5725 seconds ---\n",
      "p = 3299 q = 3301 --- 0.3954 seconds ---\n",
      "p = 3329 q = 3331 --- 1.2071 seconds ---\n",
      "p = 3371 q = 3373 --- 1.237 seconds ---\n",
      "p = 3433 q = 3449 --- 1.2239 seconds ---\n",
      "p = 3469 q = 3491 --- 0.921 seconds ---\n",
      "p = 3529 q = 3533 --- 1.3071 seconds ---\n",
      "p = 3559 q = 3571 --- 0.6474 seconds ---\n",
      "p = 3613 q = 3617 --- 0.7553 seconds ---\n",
      "p = 3659 q = 3671 --- 1.1315 seconds ---\n",
      "p = 3701 q = 3709 --- 0.2506 seconds ---\n",
      "p = 3761 q = 3767 --- 1.1927 seconds ---\n",
      "p = 3803 q = 3821 --- 1.2252 seconds ---\n",
      "p = 3853 q = 3863 --- 0.383 seconds ---\n",
      "p = 3911 q = 3917 --- 1.2819 seconds ---\n",
      "p = 3943 q = 3947 --- 0.7878 seconds ---\n",
      "p = 4007 q = 4013 --- 1.3434 seconds ---\n",
      "p = 4051 q = 4057 --- 1.1797 seconds ---\n",
      "p = 4099 q = 4111 --- 0.6103 seconds ---\n",
      "p = 4153 q = 4157 --- 0.8766 seconds ---\n",
      "p = 4217 q = 4219 --- 1.3463 seconds ---\n",
      "p = 4253 q = 4259 --- 1.5199 seconds ---\n",
      "p = 4289 q = 4297 --- 1.3934 seconds ---\n",
      "p = 4357 q = 4363 --- 0.9591 seconds ---\n",
      "p = 4421 q = 4423 --- 2.1161 seconds ---\n",
      "p = 4463 q = 4481 --- 1.6765 seconds ---\n",
      "p = 4517 q = 4519 --- 1.5467 seconds ---\n",
      "p = 4567 q = 4583 --- 1.059 seconds ---\n",
      "p = 4637 q = 4639 --- 1.6332 seconds ---\n",
      "p = 4663 q = 4673 --- 0.5528 seconds ---\n",
      "p = 4723 q = 4729 --- 2.2368 seconds ---\n",
      "p = 4787 q = 4789 --- 1.7276 seconds ---\n",
      "p = 4817 q = 4831 --- 1.6068 seconds ---\n",
      "p = 4903 q = 4909 --- 2.4211 seconds ---\n",
      "p = 4943 q = 4951 --- 2.6245 seconds ---\n",
      "p = 4987 q = 4993 --- 1.27 seconds ---\n",
      "p = 5021 q = 5023 --- 0.9119 seconds ---\n",
      "p = 5081 q = 5087 --- 2.1698 seconds ---\n",
      "p = 5119 q = 5147 --- 1.9861 seconds ---\n",
      "p = 5189 q = 5197 --- 2.0508 seconds ---\n",
      "p = 5237 q = 5261 --- 2.3302 seconds ---\n",
      "p = 5303 q = 5309 --- 2.3748 seconds ---\n",
      "p = 5381 q = 5387 --- 2.4347 seconds ---\n",
      "p = 5417 q = 5419 --- 2.3543 seconds ---\n",
      "p = 5449 q = 5471 --- 0.5695 seconds ---\n",
      "p = 5503 q = 5507 --- 1.7204 seconds ---\n",
      "p = 5557 q = 5563 --- 1.7514 seconds ---\n",
      "p = 5623 q = 5639 --- 3.1883 seconds ---\n",
      "p = 5657 q = 5659 --- 2.4179 seconds ---\n",
      "p = 5701 q = 5711 --- 1.1793 seconds ---\n",
      "p = 5749 q = 5779 --- 0.8423 seconds ---\n",
      "p = 5813 q = 5821 --- 0.6181 seconds ---\n",
      "p = 5851 q = 5857 --- 0.6234 seconds ---\n",
      "p = 5881 q = 5897 --- 2.0048 seconds ---\n",
      "p = 5953 q = 5981 --- 3.1901 seconds ---\n",
      "p = 6037 q = 6043 --- 1.8357 seconds ---\n",
      "p = 6079 q = 6089 --- 0.9353 seconds ---\n",
      "p = 6131 q = 6133 --- 3.4383 seconds ---\n",
      "p = 6197 q = 6199 --- 2.8976 seconds ---\n",
      "p = 6229 q = 6247 --- 2.9363 seconds ---\n",
      "p = 6277 q = 6287 --- 3.9647 seconds ---\n",
      "p = 6323 q = 6329 --- 3.3501 seconds ---\n",
      "p = 6361 q = 6367 --- 2.8988 seconds ---\n",
      "p = 6421 q = 6427 --- 3.3222 seconds ---\n",
      "p = 6481 q = 6491 --- 3.0288 seconds ---\n",
      "p = 6553 q = 6563 --- 1.0863 seconds ---\n",
      "p = 6599 q = 6607 --- 3.2933 seconds ---\n",
      "p = 6661 q = 6673 --- 1.605 seconds ---\n",
      "p = 6703 q = 6709 --- 4.5127 seconds ---\n",
      "p = 6763 q = 6779 --- 4.6095 seconds ---\n",
      "p = 6823 q = 6827 --- 2.3658 seconds ---\n",
      "p = 6863 q = 6869 --- 3.9592 seconds ---\n",
      "p = 6911 q = 6917 --- 4.0245 seconds ---\n",
      "p = 6967 q = 6971 --- 3.5465 seconds ---\n",
      "p = 7001 q = 7013 --- 4.2367 seconds ---\n",
      "p = 7057 q = 7069 --- 3.7836 seconds ---\n",
      "p = 7127 q = 7129 --- 3.8555 seconds ---\n",
      "p = 7193 q = 7207 --- 2.6197 seconds ---\n",
      "p = 7237 q = 7243 --- 2.6418 seconds ---\n",
      "p = 7307 q = 7309 --- 4.0263 seconds ---\n",
      "p = 7351 q = 7369 --- 1.8764 seconds ---\n",
      "p = 7451 q = 7457 --- 4.659 seconds ---\n",
      "p = 7489 q = 7499 --- 1.4166 seconds ---\n",
      "p = 7537 q = 7541 --- 5.1043 seconds ---\n",
      "p = 7573 q = 7577 --- 2.8913 seconds ---\n",
      "p = 7607 q = 7621 --- 3.1359 seconds ---\n",
      "p = 7673 q = 7681 --- 0.6793 seconds ---\n",
      "p = 7717 q = 7723 --- 2.9858 seconds ---\n",
      "p = 7759 q = 7789 --- 1.5186 seconds ---\n",
      "p = 7841 q = 7853 --- 5.1518 seconds ---\n",
      "p = 7883 q = 7901 --- 5.2206 seconds ---\n",
      "p = 7937 q = 7949 --- 5.3095 seconds ---\n",
      "p = 8011 q = 8017 --- 3.4809 seconds ---\n",
      "p = 8081 q = 8087 --- 5.4746 seconds ---\n",
      "p = 8117 q = 8123 --- 5.5205 seconds ---\n",
      "p = 8179 q = 8191 --- 3.0746 seconds ---\n",
      "p = 8233 q = 8237 --- 3.4184 seconds ---\n",
      "p = 8287 q = 8291 --- 2.4814 seconds ---\n",
      "p = 8329 q = 8353 --- 6.9784 seconds ---\n",
      "p = 8389 q = 8419 --- 1.7872 seconds ---\n",
      "p = 8447 q = 8461 --- 3.864 seconds ---\n",
      "p = 8527 q = 8537 --- 7.3246 seconds ---\n",
      "p = 8581 q = 8597 --- 7.1049 seconds ---\n",
      "p = 8629 q = 8641 --- 8.0244 seconds ---\n",
      "p = 8681 q = 8689 --- 5.1835 seconds ---\n",
      "p = 8719 q = 8731 --- 2.7706 seconds ---\n",
      "p = 8761 q = 8779 --- 8.5432 seconds ---\n",
      "p = 8821 q = 8831 --- 8.3159 seconds ---\n",
      "p = 8863 q = 8867 --- 4.4636 seconds ---\n",
      "p = 8933 q = 8941 --- 8.6833 seconds ---\n",
      "p = 8999 q = 9001 --- 8.744 seconds ---\n",
      "p = 9041 q = 9043 --- 8.7955 seconds ---\n",
      "p = 9103 q = 9109 --- 8.3519 seconds ---\n",
      "p = 9157 q = 9161 --- 0.9712 seconds ---\n",
      "p = 9203 q = 9209 --- 7.1391 seconds ---\n",
      "p = 9257 q = 9277 --- 8.6284 seconds ---\n",
      "p = 9319 q = 9323 --- 8.7526 seconds ---\n",
      "p = 9371 q = 9377 --- 7.3677 seconds ---\n",
      "p = 9419 q = 9421 --- 9.5349 seconds ---\n",
      "p = 9461 q = 9463 --- 9.6383 seconds ---\n",
      "p = 9497 q = 9511 --- 4.8785 seconds ---\n",
      "p = 9551 q = 9587 --- 7.6409 seconds ---\n",
      "p = 9629 q = 9631 --- 9.9615 seconds ---\n",
      "p = 9679 q = 9689 --- 2.3606 seconds ---\n",
      "p = 9739 q = 9743 --- 9.5681 seconds ---\n",
      "p = 9787 q = 9791 --- 8.3345 seconds ---\n",
      "p = 9833 q = 9839 --- 8.0879 seconds ---\n"
     ]
    },
    {
     "name": "stdout",
     "output_type": "stream",
     "text": [
      "p = 9883 q = 9887 --- 4.9158 seconds ---\n",
      "p = 9931 q = 9941 --- 11.264 seconds ---\n",
      "Sucess rate: 204/1\n",
      "[0.0, 0.0001, 0.0003, 0.0004, 0.0019, 0.0014, 0.0014, 0.0038, 0.006, 0.0022, 0.0043, 0.0067, 0.0091, 0.02, 0.0188, 0.0229, 0.0296, 0.0415, 0.0441, 0.0047, 0.0151, 0.0148, 0.056, 0.0192, 0.0578, 0.0221, 0.033, 0.1046, 0.0278, 0.0876, 0.0647, 0.1265, 0.1286, 0.1425, 0.1244, 0.0337, 0.2032, 0.1933, 0.1132, 0.1695, 0.089, 0.1971, 0.2806, 0.2343, 0.2252, 0.2473, 0.3287, 0.0916, 0.3876, 0.202, 0.3142, 0.1581, 0.455, 0.3401, 0.1835, 0.5231, 0.37, 0.4691, 0.5777, 0.686, 0.3167, 0.3033, 0.5235, 0.7168, 0.7367, 0.1891, 0.7783, 0.7971, 0.3281, 0.6511, 0.7432, 0.9185, 0.7205, 0.3412, 0.7379, 0.5725, 0.3954, 1.2071, 1.237, 1.2239, 0.921, 1.3071, 0.6474, 0.7553, 1.1315, 0.2506, 1.1927, 1.2252, 0.383, 1.2819, 0.7878, 1.3434, 1.1797, 0.6103, 0.8766, 1.3463, 1.5199, 1.3934, 0.9591, 2.1161, 1.6765, 1.5467, 1.059, 1.6332, 0.5528, 2.2368, 1.7276, 1.6068, 2.4211, 2.6245, 1.27, 0.9119, 2.1698, 1.9861, 2.0508, 2.3302, 2.3748, 2.4347, 2.3543, 0.5695, 1.7204, 1.7514, 3.1883, 2.4179, 1.1793, 0.8423, 0.6181, 0.6234, 2.0048, 3.1901, 1.8357, 0.9353, 3.4383, 2.8976, 2.9363, 3.9647, 3.3501, 2.8988, 3.3222, 3.0288, 1.0863, 3.2933, 1.605, 4.5127, 4.6095, 2.3658, 3.9592, 4.0245, 3.5465, 4.2367, 3.7836, 3.8555, 2.6197, 2.6418, 4.0263, 1.8764, 4.659, 1.4166, 5.1043, 2.8913, 3.1359, 0.6793, 2.9858, 1.5186, 5.1518, 5.2206, 5.3095, 3.4809, 5.4746, 5.5205, 3.0746, 3.4184, 2.4814, 6.9784, 1.7872, 3.864, 7.3246, 7.1049, 8.0244, 5.1835, 2.7706, 8.5432, 8.3159, 4.4636, 8.6833, 8.744, 8.7955, 8.3519, 0.9712, 7.1391, 8.6284, 8.7526, 7.3677, 9.5349, 9.6383, 4.8785, 7.6409, 9.9615, 2.3606, 9.5681, 8.3345, 8.0879, 4.9158, 11.264]\n",
      "[323, 1763, 4757, 9797, 16637, 25591, 36863, 51983, 67591, 82919, 111547, 136891, 164009, 194477, 223693, 265189, 320347, 359999, 404471, 444853, 509771, 568507, 644773, 695531, 772637, 853751, 938957, 1022117, 1089911, 1185917, 1254391, 1382951, 1488391, 1607743, 1687397, 1806047, 2005007, 2099597, 2205221, 2331713, 2461757, 2585663, 2712509, 2883203, 3041527, 3196943, 3437267, 3549431, 3767417, 3980021, 4112783, 4334723, 4498577, 4652633, 4968377, 5157437, 5336099, 5541307, 5716877, 5948717, 6199931, 6502499, 6827753, 7080917, 7241477, 7420151, 7683959, 7901657, 8173877, 8485553, 8797147, 9126437, 9443293, 9790577, 10169717, 10497479, 10889999, 11088899, 11370383, 11840417, 12110279, 12467957, 12709189, 13068221, 13432189, 13727009, 14167687, 14531263, 14884139, 15319387, 15563021, 16080091, 16434907, 16850989, 17264021, 17791523, 18113527, 18429833, 19009591, 19554083, 19998703, 20412323, 20930561, 21511043, 21790199, 22335067, 22924943, 23270927, 24068827, 24472793, 24900091, 25220483, 25847047, 26347493, 26967233, 27551857, 28153627, 28987447, 29354723, 29811479, 30305021, 30913591, 31708097, 32012963, 32558411, 33223471, 33837473, 34269307, 34680257, 35604893, 36481591, 37015031, 37601423, 38415203, 38912563, 39463499, 40018267, 40500487, 41267767, 42068171, 43007339, 43599593, 44448853, 44970427, 45846377, 46580621, 47141947, 47803387, 48566957, 49098013, 49885933, 50808383, 51839951, 52417591, 53406863, 54169519, 55562107, 56160011, 56836517, 57380621, 57972947, 58936313, 59598391, 60434851, 61575373, 62283583, 63091213, 64224187, 65351047, 65934391, 66994189, 67815221, 68707517, 69572137, 70626991, 71470067, 72794999, 73770857, 74563189, 75429209, 76125589, 76912819, 77898251, 78588221, 79869953, 80999999, 81757763, 82919227, 83887277, 84750427, 85877189, 86881037, 87871867, 88736399, 89529443, 90325967, 91565437, 92736899, 93779831, 94887077, 95824517, 96746887, 97713221, 98724071]\n"
     ]
    }
   ],
   "source": [
    "if not skip_live_benchmarking:\n",
    "    time_array_fermat, prime_array_fermat = tm.time_crack(ferm.crack_primes, 10000)\n",
    "else:\n",
    "    print(\"Skipping live benchmarking.\")"
   ]
  },
  {
   "cell_type": "markdown",
   "id": "inside-copying",
   "metadata": {},
   "source": [
    "Expected success rate: 204/1  \n",
    "Pre-calculated values for up to 10000:"
   ]
  },
  {
   "cell_type": "code",
   "execution_count": 26,
   "id": "expressed-uruguay",
   "metadata": {},
   "outputs": [],
   "source": [
    "time_array_fermat = [0.0001, 0.0001, 0.0003, 0.0005, 0.0026, 0.0016, 0.0014, 0.0044, 0.0064, 0.0023, 0.0049, 0.0153, 0.0087, 0.0235, 0.0206, 0.0197, 0.026, 0.0361, 0.0443, 0.0041, 0.0186, 0.0142, 0.0569, 0.0176, 0.0494, 0.0195, 0.0307, 0.1008, 0.0241, 0.0829, 0.0675, 0.1231, 0.1243, 0.1326, 0.1222, 0.0289, 0.1948, 0.2103, 0.1403, 0.1533, 0.0766, 0.195, 0.2622, 0.2925, 0.246, 0.2267, 0.3901, 0.0922, 0.4052, 0.2021, 0.3081, 0.1738, 0.4913, 0.2843, 0.1514, 0.4397, 0.3021, 0.4026, 0.5863, 0.5812, 0.272, 0.2602, 0.4796, 0.7493, 0.6525, 0.1558, 0.7809, 0.7451, 0.3755, 0.5593, 0.6638, 0.9685, 0.6602, 0.3152, 0.6755, 0.5496, 0.3689, 1.3034, 1.2079, 1.1335, 0.8055, 1.4236, 0.6119, 0.6249, 1.2016, 0.2651, 1.1034, 1.1959, 0.3852, 1.3006, 0.7028, 1.2101, 1.092, 0.6161, 0.8442, 1.2944, 1.5889, 1.3933, 1.0849, 1.9544, 1.5792, 1.5, 0.9875, 1.512, 0.532, 2.103, 1.6648, 1.5475, 2.1935, 2.4966, 1.1803, 0.8501, 2.2316, 1.8999, 1.891, 2.3179, 2.299, 2.3072, 2.3217, 0.5385, 1.4273, 1.4879, 3.3262, 2.344, 1.093, 0.7986, 0.5988, 0.6375, 1.9435, 3.0267, 1.8067, 0.9051, 3.4219, 2.9328, 2.9134, 3.9913, 3.55, 3.4075, 3.4015, 3.0534, 1.257, 3.5046, 1.8387, 4.4902, 4.716, 2.3644, 3.7381, 4.0524, 3.5921, 4.2716, 3.9497, 3.9007, 2.5626, 2.4736, 3.8604, 1.8125, 4.7324, 1.5268, 5.6682, 2.9581, 3.2966, 0.6926, 3.0761, 1.4874, 5.0568, 5.1483, 5.208, 3.5258, 5.5522, 5.6685, 2.9445, 3.552, 2.3554, 6.8711, 1.6889, 3.7798, 8.75, 7.2993, 7.5098, 5.1172, 2.7103, 8.134, 7.6038, 3.7508, 7.2771, 8.5252, 8.5519, 8.1985, 0.9747, 6.9, 8.3217, 8.8035, 7.2466, 9.8034, 10.3513, 5.3129, 7.7111, 9.4676, 2.3101, 9.4102, 8.4091, 8.2935, 4.9216, 12.2592]\n",
    "prime_array_fermat = [323, 1763, 4757, 9797, 16637, 25591, 36863, 51983, 67591, 82919, 111547, 136891, 164009, 194477, 223693, 265189, 320347, 359999, 404471, 444853, 509771, 568507, 644773, 695531, 772637, 853751, 938957, 1022117, 1089911, 1185917, 1254391, 1382951, 1488391, 1607743, 1687397, 1806047, 2005007, 2099597, 2205221, 2331713, 2461757, 2585663, 2712509, 2883203, 3041527, 3196943, 3437267, 3549431, 3767417, 3980021, 4112783, 4334723, 4498577, 4652633, 4968377, 5157437, 5336099, 5541307, 5716877, 5948717, 6199931, 6502499, 6827753, 7080917, 7241477, 7420151, 7683959, 7901657, 8173877, 8485553, 8797147, 9126437, 9443293, 9790577, 10169717, 10497479, 10889999, 11088899, 11370383, 11840417, 12110279, 12467957, 12709189, 13068221, 13432189, 13727009, 14167687, 14531263, 14884139, 15319387, 15563021, 16080091, 16434907, 16850989, 17264021, 17791523, 18113527, 18429833, 19009591, 19554083, 19998703, 20412323, 20930561, 21511043, 21790199, 22335067, 22924943, 23270927, 24068827, 24472793, 24900091, 25220483, 25847047, 26347493, 26967233, 27551857, 28153627, 28987447, 29354723, 29811479, 30305021, 30913591, 31708097, 32012963, 32558411, 33223471, 33837473, 34269307, 34680257, 35604893, 36481591, 37015031, 37601423, 38415203, 38912563, 39463499, 40018267, 40500487, 41267767, 42068171, 43007339, 43599593, 44448853, 44970427, 45846377, 46580621, 47141947, 47803387, 48566957, 49098013, 49885933, 50808383, 51839951, 52417591, 53406863, 54169519, 55562107, 56160011, 56836517, 57380621, 57972947, 58936313, 59598391, 60434851, 61575373, 62283583, 63091213, 64224187, 65351047, 65934391, 66994189, 67815221, 68707517, 69572137, 70626991, 71470067, 72794999, 73770857, 74563189, 75429209, 76125589, 76912819, 77898251, 78588221, 79869953, 80999999, 81757763, 82919227, 83887277, 84750427, 85877189, 86881037, 87871867, 88736399, 89529443, 90325967, 91565437, 92736899, 93779831, 94887077, 95824517, 96746887, 97713221, 98724071]"
   ]
  },
  {
   "cell_type": "code",
   "execution_count": 27,
   "id": "unique-novelty",
   "metadata": {},
   "outputs": [
    {
     "data": {
      "image/png": "[encoded data removed]",
      "text/plain": [
       "<Figure size 432x288 with 1 Axes>"
      ]
     },
     "metadata": {
      "needs_background": "light"
     },
     "output_type": "display_data"
    }
   ],
   "source": [
    "fig, fermat = plt.subplots()\n",
    "\n",
    "fermat.plot(prime_array_fermat, time_array_fermat, 'o')\n",
    "fermat.set(xlabel = \"n (module de chiffrement)\",\n",
    "           ylabel = \"time (s)\",\n",
    "           title = \"Fermat's factorization Algorithm\")\n",
    "fermat.grid()\n",
    "\n",
    "plt.xscale(\"log\")\n",
    "# fig.savefig(\"fermat_big.png\")\n",
    "plt.show()"
   ]
  },
  {
   "cell_type": "markdown",
   "id": "narrow-medline",
   "metadata": {},
   "source": [
    "Pre calulcated values for big numbers not done in the notebook (because it's too slow)"
   ]
  },
  {
   "cell_type": "code",
   "execution_count": 28,
   "id": "center-notice",
   "metadata": {},
   "outputs": [],
   "source": [
    "bits_fermat = [6, 8, 10, 12,14, 16,18, 20, 22, 24, 26, 28, 30, 32, 34, 36, 38, 40, 42, 44, 46, 48, 50, 52, 54, 56, 58, 60, 62]\n",
    "time_fermat = [0.0, 0.0, 0.0, 0.0, 0.0, 0.0, 0.0, 0.0, 0.0, 0.0, 0.0, 0.0, 0.0001, 0.0001, 0.0, 0.0012, 0.0086, 0.0012, 0.0005, 0.0089, 0.0018, 0.0515, 0.366, 0.0613, 1.6567, 0.0003, 1.9363, 14.548, 24.9772]"
   ]
  },
  {
   "cell_type": "code",
   "execution_count": 29,
   "id": "recreational-support",
   "metadata": {
    "scrolled": true
   },
   "outputs": [
    {
     "data": {
      "image/png": "[encoded data removed]",
      "text/plain": [
       "<Figure size 432x288 with 1 Axes>"
      ]
     },
     "metadata": {
      "needs_background": "light"
     },
     "output_type": "display_data"
    }
   ],
   "source": [
    "fig, fermat = plt.subplots()\n",
    "\n",
    "fermat.plot(bits_fermat, time_fermat, 'o')\n",
    "fermat.set(xlabel = \"bits\",\n",
    "           ylabel = \"time (s)\",\n",
    "           title = \"Fermat's factorization Algorithm\")\n",
    "fermat.grid()\n",
    "\n",
    "# fig.savefig(\"fermat_small.png\")\n",
    "plt.show()"
   ]
  },
  {
   "cell_type": "markdown",
   "id": "ignored-twenty",
   "metadata": {},
   "source": [
    "#### Pollard's p-1 Algorithm"
   ]
  },
  {
   "cell_type": "code",
   "execution_count": 30,
   "id": "adjacent-roads",
   "metadata": {},
   "outputs": [
    {
     "name": "stdout",
     "output_type": "stream",
     "text": [
      "p = 3 q = 2 --- 0.0 seconds ---\n",
      "p = 17 q = 19 --- 0.0001 seconds ---\n",
      "p = 41 q = 43 --- 0.0001 seconds ---\n",
      "p = 71 q = 67 --- 0.0003 seconds ---\n",
      "p = 97 q = 101 --- 0.0004 seconds ---\n",
      "p = 127 q = 131 --- 0.002 seconds ---\n",
      "p = 163 q = 157 --- 0.0014 seconds ---\n",
      "p = 193 q = 191 --- 0.0014 seconds ---\n",
      "p = 229 q = 227 --- 0.0041 seconds ---\n",
      "p = 257 q = 263 --- 0.006 seconds ---\n",
      "p = 283 q = 293 --- 0.0036 seconds ---\n",
      "p = 331 q = 337 --- 0.0046 seconds ---\n",
      "p = 373 q = 367 --- 0.008 seconds ---\n",
      "p = 401 q = 409 --- 0.0094 seconds ---\n",
      "p = 443 q = 439 --- 0.033 seconds ---\n",
      "p = 467 q = 479 --- 0.0632 seconds ---\n",
      "p = 521 q = 509 --- 0.0231 seconds ---\n",
      "p = 569 q = 563 --- 0.031 seconds ---\n",
      "p = 601 q = 599 --- 0.0397 seconds ---\n",
      "p = 631 q = 641 --- 0.0437 seconds ---\n",
      "p = 673 q = 661 --- 0.0044 seconds ---\n",
      "p = 709 q = 719 --- 0.0156 seconds ---\n",
      "p = 757 q = 751 --- 0.0134 seconds ---\n",
      "p = 809 q = 797 --- 0.0617 seconds ---\n",
      "p = 829 q = 839 --- 0.0184 seconds ---\n",
      "p = 881 q = 877 --- 0.0563 seconds ---\n",
      "p = 919 q = 929 --- 0.023 seconds ---\n",
      "p = 967 q = 971 --- 0.0354 seconds ---\n",
      "p = 1009 q = 1013 --- 0.1056 seconds ---\n",
      "p = 1049 q = 1039 --- 0.0385 seconds ---\n",
      "p = 1091 q = 1087 --- 0.096 seconds ---\n",
      "p = 1123 q = 1117 --- 0.0651 seconds ---\n",
      "p = 1171 q = 1181 --- 0.1273 seconds ---\n",
      "p = 1217 q = 1223 --- 0.1291 seconds ---\n",
      "p = 1277 q = 1259 --- 0.1366 seconds ---\n",
      "p = 1297 q = 1301 --- 0.1263 seconds ---\n",
      "Couldn't crack p = 1327 q = 1361\n",
      "p = 1409 q = 1423 --- 0.2031 seconds ---\n",
      "p = 1451 q = 1447 --- 0.1926 seconds ---\n",
      "p = 1483 q = 1487 --- 0.1158 seconds ---\n",
      "p = 1531 q = 1523 --- 0.1707 seconds ---\n",
      "p = 1567 q = 1571 --- 0.0909 seconds ---\n",
      "p = 1609 q = 1607 --- 0.204 seconds ---\n",
      "p = 1657 q = 1637 --- 0.2791 seconds ---\n",
      "p = 1697 q = 1699 --- 0.2203 seconds ---\n",
      "p = 1741 q = 1747 --- 0.2238 seconds ---\n",
      "p = 1787 q = 1789 --- 0.2472 seconds ---\n",
      "p = 1861 q = 1847 --- 0.3098 seconds ---\n",
      "p = 1889 q = 1879 --- 0.0928 seconds ---\n",
      "p = 1933 q = 1949 --- 0.3845 seconds ---\n",
      "p = 1993 q = 1997 --- 0.2068 seconds ---\n",
      "p = 2029 q = 2027 --- 0.3155 seconds ---\n",
      "p = 2081 q = 2083 --- 0.1581 seconds ---\n",
      "p = 2113 q = 2129 --- 0.4563 seconds ---\n",
      "p = 2161 q = 2153 --- 0.3377 seconds ---\n",
      "p = 2221 q = 2237 --- 0.1804 seconds ---\n",
      "p = 2269 q = 2273 --- 0.519 seconds ---\n",
      "p = 2311 q = 2309 --- 0.3667 seconds ---\n",
      "p = 2357 q = 2351 --- 0.4719 seconds ---\n",
      "p = 2393 q = 2389 --- 0.5813 seconds ---\n",
      "p = 2437 q = 2441 --- 0.6932 seconds ---\n",
      "p = 2503 q = 2477 --- 0.3275 seconds ---\n",
      "p = 2549 q = 2551 --- 0.3046 seconds ---\n",
      "p = 2617 q = 2609 --- 0.536 seconds ---\n",
      "p = 2663 q = 2659 --- 0.7167 seconds ---\n",
      "p = 2689 q = 2693 --- 0.7343 seconds ---\n",
      "p = 2729 q = 2719 --- 0.1892 seconds ---\n",
      "p = 2777 q = 2767 --- 0.8748 seconds ---\n",
      "p = 2803 q = 2819 --- 1.0008 seconds ---\n",
      "p = 2861 q = 2857 --- 0.3681 seconds ---\n",
      "p = 2917 q = 2909 --- 0.6453 seconds ---\n",
      "p = 2969 q = 2963 --- 0.8349 seconds ---\n",
      "p = 3019 q = 3023 --- 1.1105 seconds ---\n",
      "p = 3079 q = 3067 --- 0.7153 seconds ---\n",
      "p = 3121 q = 3137 --- 0.3381 seconds ---\n",
      "p = 3191 q = 3187 --- 0.7408 seconds ---\n",
      "p = 3251 q = 3229 --- 0.568 seconds ---\n",
      "p = 3301 q = 3299 --- 0.3978 seconds ---\n",
      "p = 3329 q = 3331 --- 1.1865 seconds ---\n",
      "p = 3373 q = 3371 --- 1.2833 seconds ---\n",
      "p = 3433 q = 3449 --- 1.1893 seconds ---\n",
      "p = 3469 q = 3491 --- 0.8729 seconds ---\n",
      "p = 3529 q = 3533 --- 1.2592 seconds ---\n",
      "p = 3571 q = 3559 --- 0.5885 seconds ---\n",
      "p = 3613 q = 3617 --- 0.666 seconds ---\n",
      "p = 3659 q = 3671 --- 1.1524 seconds ---\n",
      "p = 3701 q = 3709 --- 0.2501 seconds ---\n",
      "p = 3761 q = 3767 --- 1.1979 seconds ---\n",
      "p = 3821 q = 3803 --- 1.2562 seconds ---\n",
      "p = 3853 q = 3863 --- 0.3884 seconds ---\n",
      "p = 3911 q = 3917 --- 1.2955 seconds ---\n",
      "p = 3943 q = 3947 --- 0.7928 seconds ---\n",
      "p = 4013 q = 4007 --- 1.3546 seconds ---\n",
      "p = 4051 q = 4057 --- 1.1817 seconds ---\n",
      "p = 4111 q = 4099 --- 0.6251 seconds ---\n",
      "p = 4153 q = 4157 --- 0.895 seconds ---\n",
      "p = 4217 q = 4219 --- 1.3439 seconds ---\n",
      "p = 4253 q = 4259 --- 2.3946 seconds ---\n",
      "p = 4289 q = 4297 --- 1.3941 seconds ---\n",
      "p = 4357 q = 4363 --- 0.9617 seconds ---\n",
      "p = 4421 q = 4423 --- 2.111 seconds ---\n",
      "p = 4481 q = 4463 --- 1.6716 seconds ---\n",
      "p = 4519 q = 4517 --- 1.5865 seconds ---\n",
      "p = 4583 q = 4567 --- 1.0624 seconds ---\n",
      "p = 4637 q = 4639 --- 1.6358 seconds ---\n",
      "p = 4663 q = 4673 --- 0.5568 seconds ---\n",
      "p = 4729 q = 4723 --- 2.2821 seconds ---\n",
      "p = 4789 q = 4787 --- 1.7256 seconds ---\n",
      "p = 4831 q = 4817 --- 1.6052 seconds ---\n",
      "p = 4903 q = 4909 --- 2.4228 seconds ---\n",
      "p = 4951 q = 4943 --- 2.61 seconds ---\n",
      "p = 4993 q = 4987 --- 1.2661 seconds ---\n",
      "p = 5023 q = 5021 --- 0.9145 seconds ---\n",
      "p = 5081 q = 5087 --- 2.1749 seconds ---\n",
      "p = 5147 q = 5119 --- 2.0014 seconds ---\n",
      "p = 5197 q = 5189 --- 2.1727 seconds ---\n",
      "p = 5237 q = 5261 --- 2.3122 seconds ---\n",
      "p = 5303 q = 5309 --- 2.4056 seconds ---\n",
      "p = 5381 q = 5387 --- 2.4887 seconds ---\n",
      "p = 5419 q = 5417 --- 2.2141 seconds ---\n",
      "p = 5449 q = 5471 --- 0.575 seconds ---\n",
      "p = 5503 q = 5507 --- 1.5444 seconds ---\n",
      "p = 5563 q = 5557 --- 1.5692 seconds ---\n",
      "p = 5623 q = 5639 --- 3.8608 seconds ---\n",
      "p = 5659 q = 5657 --- 2.4163 seconds ---\n",
      "p = 5701 q = 5711 --- 1.179 seconds ---\n",
      "p = 5779 q = 5749 --- 0.8513 seconds ---\n",
      "p = 5821 q = 5813 --- 0.6209 seconds ---\n",
      "p = 5851 q = 5857 --- 0.6184 seconds ---\n",
      "p = 5881 q = 5897 --- 2.0154 seconds ---\n",
      "p = 5981 q = 5953 --- 3.1882 seconds ---\n",
      "p = 6043 q = 6037 --- 1.8549 seconds ---\n",
      "p = 6089 q = 6079 --- 1.377 seconds ---\n",
      "p = 6133 q = 6131 --- 3.4297 seconds ---\n",
      "p = 6199 q = 6197 --- 3.7233 seconds ---\n",
      "p = 6229 q = 6247 --- 3.0797 seconds ---\n",
      "p = 6287 q = 6277 --- 4.143 seconds ---\n",
      "p = 6323 q = 6329 --- 3.3847 seconds ---\n",
      "p = 6361 q = 6367 --- 2.9502 seconds ---\n",
      "p = 6427 q = 6421 --- 3.4369 seconds ---\n",
      "p = 6481 q = 6491 --- 3.1508 seconds ---\n",
      "p = 6553 q = 6563 --- 1.2056 seconds ---\n",
      "p = 6607 q = 6599 --- 3.8109 seconds ---\n",
      "p = 6661 q = 6673 --- 1.6167 seconds ---\n",
      "p = 6709 q = 6703 --- 4.5226 seconds ---\n",
      "p = 6763 q = 6779 --- 4.6041 seconds ---\n",
      "p = 6823 q = 6827 --- 2.4568 seconds ---\n",
      "p = 6863 q = 6869 --- 3.9863 seconds ---\n",
      "p = 6917 q = 6911 --- 4.0207 seconds ---\n",
      "p = 6971 q = 6967 --- 3.5522 seconds ---\n",
      "p = 7001 q = 7013 --- 4.1298 seconds ---\n",
      "p = 7057 q = 7069 --- 3.7884 seconds ---\n",
      "p = 7129 q = 7127 --- 3.8576 seconds ---\n",
      "p = 7193 q = 7207 --- 2.6149 seconds ---\n",
      "p = 7237 q = 7243 --- 2.6349 seconds ---\n",
      "p = 7309 q = 7307 --- 4.0403 seconds ---\n",
      "p = 7351 q = 7369 --- 1.8681 seconds ---\n",
      "p = 7451 q = 7457 --- 4.6666 seconds ---\n",
      "p = 7489 q = 7499 --- 1.4185 seconds ---\n",
      "p = 7541 q = 7537 --- 5.1119 seconds ---\n",
      "p = 7573 q = 7577 --- 3.1749 seconds ---\n",
      "p = 7621 q = 7607 --- 3.1424 seconds ---\n",
      "p = 7681 q = 7673 --- 0.6872 seconds ---\n",
      "p = 7723 q = 7717 --- 3.0022 seconds ---\n",
      "p = 7789 q = 7759 --- 1.52 seconds ---\n",
      "p = 7841 q = 7853 --- 5.171 seconds ---\n",
      "p = 7901 q = 7883 --- 5.2182 seconds ---\n",
      "p = 7937 q = 7949 --- 5.2881 seconds ---\n",
      "p = 8011 q = 8017 --- 3.4815 seconds ---\n",
      "p = 8081 q = 8087 --- 5.5457 seconds ---\n",
      "p = 8123 q = 8117 --- 5.5328 seconds ---\n",
      "p = 8191 q = 8179 --- 3.0669 seconds ---\n",
      "p = 8233 q = 8237 --- 3.4166 seconds ---\n",
      "p = 8291 q = 8287 --- 2.9992 seconds ---\n",
      "p = 8353 q = 8329 --- 7.0471 seconds ---\n",
      "p = 8419 q = 8389 --- 1.796 seconds ---\n",
      "p = 8461 q = 8447 --- 3.848 seconds ---\n",
      "p = 8527 q = 8537 --- 7.3203 seconds ---\n",
      "p = 8581 q = 8597 --- 7.0945 seconds ---\n",
      "p = 8641 q = 8629 --- 8.0469 seconds ---\n",
      "p = 8681 q = 8689 --- 5.2722 seconds ---\n",
      "p = 8731 q = 8719 --- 2.7894 seconds ---\n",
      "p = 8779 q = 8761 --- 8.7932 seconds ---\n",
      "p = 8821 q = 8831 --- 8.3634 seconds ---\n",
      "p = 8867 q = 8863 --- 4.2257 seconds ---\n",
      "p = 8933 q = 8941 --- 8.1676 seconds ---\n",
      "p = 9001 q = 8999 --- 9.1473 seconds ---\n",
      "p = 9041 q = 9043 --- 8.9529 seconds ---\n",
      "p = 9109 q = 9103 --- 8.5302 seconds ---\n",
      "p = 9157 q = 9161 --- 0.9873 seconds ---\n",
      "p = 9203 q = 9209 --- 7.154 seconds ---\n",
      "p = 9257 q = 9277 --- 8.718 seconds ---\n",
      "p = 9323 q = 9319 --- 8.8168 seconds ---\n",
      "p = 9377 q = 9371 --- 7.4632 seconds ---\n",
      "p = 9421 q = 9419 --- 9.6378 seconds ---\n",
      "p = 9461 q = 9463 --- 9.7119 seconds ---\n",
      "p = 9511 q = 9497 --- 4.9794 seconds ---\n",
      "p = 9551 q = 9587 --- 7.7513 seconds ---\n",
      "p = 9629 q = 9631 --- 10.0945 seconds ---\n",
      "p = 9689 q = 9679 --- 2.4043 seconds ---\n",
      "p = 9739 q = 9743 --- 10.14 seconds ---\n",
      "p = 9791 q = 9787 --- 8.3726 seconds ---\n",
      "p = 9833 q = 9839 --- 9.4439 seconds ---\n"
     ]
    },
    {
     "name": "stdout",
     "output_type": "stream",
     "text": [
      "p = 9883 q = 9887 --- 5.0642 seconds ---\n",
      "p = 9941 q = 9931 --- 11.7723 seconds ---\n",
      "Sucess rate: 204/1\n",
      "[0.0, 0.0001, 0.0001, 0.0003, 0.0004, 0.002, 0.0014, 0.0014, 0.0041, 0.006, 0.0036, 0.0046, 0.008, 0.0094, 0.033, 0.0632, 0.0231, 0.031, 0.0397, 0.0437, 0.0044, 0.0156, 0.0134, 0.0617, 0.0184, 0.0563, 0.023, 0.0354, 0.1056, 0.0385, 0.096, 0.0651, 0.1273, 0.1291, 0.1366, 0.1263, 0.2031, 0.1926, 0.1158, 0.1707, 0.0909, 0.204, 0.2791, 0.2203, 0.2238, 0.2472, 0.3098, 0.0928, 0.3845, 0.2068, 0.3155, 0.1581, 0.4563, 0.3377, 0.1804, 0.519, 0.3667, 0.4719, 0.5813, 0.6932, 0.3275, 0.3046, 0.536, 0.7167, 0.7343, 0.1892, 0.8748, 1.0008, 0.3681, 0.6453, 0.8349, 1.1105, 0.7153, 0.3381, 0.7408, 0.568, 0.3978, 1.1865, 1.2833, 1.1893, 0.8729, 1.2592, 0.5885, 0.666, 1.1524, 0.2501, 1.1979, 1.2562, 0.3884, 1.2955, 0.7928, 1.3546, 1.1817, 0.6251, 0.895, 1.3439, 2.3946, 1.3941, 0.9617, 2.111, 1.6716, 1.5865, 1.0624, 1.6358, 0.5568, 2.2821, 1.7256, 1.6052, 2.4228, 2.61, 1.2661, 0.9145, 2.1749, 2.0014, 2.1727, 2.3122, 2.4056, 2.4887, 2.2141, 0.575, 1.5444, 1.5692, 3.8608, 2.4163, 1.179, 0.8513, 0.6209, 0.6184, 2.0154, 3.1882, 1.8549, 1.377, 3.4297, 3.7233, 3.0797, 4.143, 3.3847, 2.9502, 3.4369, 3.1508, 1.2056, 3.8109, 1.6167, 4.5226, 4.6041, 2.4568, 3.9863, 4.0207, 3.5522, 4.1298, 3.7884, 3.8576, 2.6149, 2.6349, 4.0403, 1.8681, 4.6666, 1.4185, 5.1119, 3.1749, 3.1424, 0.6872, 3.0022, 1.52, 5.171, 5.2182, 5.2881, 3.4815, 5.5457, 5.5328, 3.0669, 3.4166, 2.9992, 7.0471, 1.796, 3.848, 7.3203, 7.0945, 8.0469, 5.2722, 2.7894, 8.7932, 8.3634, 4.2257, 8.1676, 9.1473, 8.9529, 8.5302, 0.9873, 7.154, 8.718, 8.8168, 7.4632, 9.6378, 9.7119, 4.9794, 7.7513, 10.0945, 2.4043, 10.14, 8.3726, 9.4439, 5.0642, 11.7723]\n",
      "[6, 323, 1763, 4757, 9797, 16637, 25591, 36863, 51983, 67591, 82919, 111547, 136891, 164009, 194477, 223693, 265189, 320347, 359999, 404471, 444853, 509771, 568507, 644773, 695531, 772637, 853751, 938957, 1022117, 1089911, 1185917, 1254391, 1382951, 1488391, 1607743, 1687397, 2005007, 2099597, 2205221, 2331713, 2461757, 2585663, 2712509, 2883203, 3041527, 3196943, 3437267, 3549431, 3767417, 3980021, 4112783, 4334723, 4498577, 4652633, 4968377, 5157437, 5336099, 5541307, 5716877, 5948717, 6199931, 6502499, 6827753, 7080917, 7241477, 7420151, 7683959, 7901657, 8173877, 8485553, 8797147, 9126437, 9443293, 9790577, 10169717, 10497479, 10889999, 11088899, 11370383, 11840417, 12110279, 12467957, 12709189, 13068221, 13432189, 13727009, 14167687, 14531263, 14884139, 15319387, 15563021, 16080091, 16434907, 16850989, 17264021, 17791523, 18113527, 18429833, 19009591, 19554083, 19998703, 20412323, 20930561, 21511043, 21790199, 22335067, 22924943, 23270927, 24068827, 24472793, 24900091, 25220483, 25847047, 26347493, 26967233, 27551857, 28153627, 28987447, 29354723, 29811479, 30305021, 30913591, 31708097, 32012963, 32558411, 33223471, 33837473, 34269307, 34680257, 35604893, 36481591, 37015031, 37601423, 38415203, 38912563, 39463499, 40018267, 40500487, 41267767, 42068171, 43007339, 43599593, 44448853, 44970427, 45846377, 46580621, 47141947, 47803387, 48566957, 49098013, 49885933, 50808383, 51839951, 52417591, 53406863, 54169519, 55562107, 56160011, 56836517, 57380621, 57972947, 58936313, 59598391, 60434851, 61575373, 62283583, 63091213, 64224187, 65351047, 65934391, 66994189, 67815221, 68707517, 69572137, 70626991, 71470067, 72794999, 73770857, 74563189, 75429209, 76125589, 76912819, 77898251, 78588221, 79869953, 80999999, 81757763, 82919227, 83887277, 84750427, 85877189, 86881037, 87871867, 88736399, 89529443, 90325967, 91565437, 92736899, 93779831, 94887077, 95824517, 96746887, 97713221, 98724071]\n"
     ]
    }
   ],
   "source": [
    "if not skip_live_benchmarking:\n",
    "    time_array_p_1, prime_array_p_1 = tm.time_crack(p_1_pollard.crack_primes, 10000)\n",
    "else:\n",
    "    print(\"Skipping live benchmarking.\")"
   ]
  },
  {
   "cell_type": "markdown",
   "id": "reflected-locking",
   "metadata": {},
   "source": [
    "Expected success rate: 204/1  \n",
    "Pre-calculated values for up to 10000:"
   ]
  },
  {
   "cell_type": "code",
   "execution_count": 31,
   "id": "authentic-norwegian",
   "metadata": {},
   "outputs": [],
   "source": [
    "time_array_p_1 = [0.0, 0.0001, 0.0001, 0.0003, 0.0003, 0.002, 0.0019, 0.0016, 0.0046, 0.0072, 0.005, 0.0053, 0.0144, 0.0109, 0.0171, 0.0541, 0.0183, 0.0255, 0.037, 0.0454, 0.0045, 0.0133, 0.0113, 0.0588, 0.0243, 0.0584, 0.021, 0.034, 0.0951, 0.0446, 0.0951, 0.0576, 0.1095, 0.1182, 0.1576, 0.134, 0.1823, 0.1921, 0.1415, 0.1626, 0.0801, 0.2095, 0.281, 0.2093, 0.2318, 0.3549, 0.3266, 0.087, 0.4357, 0.2272, 0.3207, 0.1417, 0.467, 0.3688, 0.1994, 0.4994, 0.3407, 0.4379, 0.5269, 0.6485, 0.3285, 0.2821, 0.5315, 0.7108, 0.8379, 0.1919, 0.8199, 0.9006, 0.3154, 0.6876, 0.7778, 1.2373, 0.8053, 0.3737, 0.8271, 0.8183, 0.6564, 1.2104, 1.3017, 1.2963, 1.1832, 1.259, 0.7239, 0.6696, 1.1632, 0.2398, 1.2053, 1.3875, 0.4172, 1.4002, 0.8907, 1.3152, 1.3812, 0.577, 0.892, 1.4087, 2.6808, 1.4096, 0.924, 2.1559, 1.97, 1.5635, 1.2707, 1.7319, 0.7735, 2.4481, 1.7858, 1.6227, 2.6543, 2.9991, 1.3164, 0.9631, 2.2616, 1.9545, 2.2084, 2.3113, 2.6392, 2.5502, 2.4239, 0.602, 1.6834, 1.7443, 4.0155, 2.5827, 1.1642, 0.896, 0.5716, 0.5781, 2.1127, 3.8943, 1.9005, 1.4171, 3.4037, 3.8823, 3.0669, 4.4261, 3.6036, 3.1638, 3.6444, 2.9615, 1.12, 3.4972, 1.6108, 4.4809, 4.7448, 2.7512, 4.0245, 3.9428, 3.4408, 4.3342, 4.0228, 4.0749, 2.7078, 2.7202, 4.4515, 1.9519, 5.6055, 1.5651, 5.4449, 3.4822, 3.3174, 0.7313, 3.065, 1.7151, 5.3468, 5.7065, 5.5176, 3.5401, 5.4838, 5.9387, 3.1999, 4.0808, 4.1737, 7.4243, 1.8565, 4.9708, 8.4855, 6.8496, 9.9372, 5.8576, 3.0353, 8.4402, 8.5004, 4.5633, 8.3461, 9.6529, 9.353, 8.9358, 0.9723, 8.1987, 9.5935, 9.6645, 8.8883, 11.5081, 12.6517, 5.6759, 8.6167, 11.0262, 2.4345, 10.6413, 9.1108, 9.8131, 5.4559, 12.1245]\n",
    "prime_array_p_1 = [6, 323, 1763, 4757, 9797, 16637, 25591, 36863, 51983, 67591, 82919, 111547, 136891, 164009, 194477, 223693, 265189, 320347, 359999, 404471, 444853, 509771, 568507, 644773, 695531, 772637, 853751, 938957, 1022117, 1089911, 1185917, 1254391, 1382951, 1488391, 1607743, 1687397, 2005007, 2099597, 2205221, 2331713, 2461757, 2585663, 2712509, 2883203, 3041527, 3196943, 3437267, 3549431, 3767417, 3980021, 4112783, 4334723, 4498577, 4652633, 4968377, 5157437, 5336099, 5541307, 5716877, 5948717, 6199931, 6502499, 6827753, 7080917, 7241477, 7420151, 7683959, 7901657, 8173877, 8485553, 8797147, 9126437, 9443293, 9790577, 10169717, 10497479, 10889999, 11088899, 11370383, 11840417, 12110279, 12467957, 12709189, 13068221, 13432189, 13727009, 14167687, 14531263, 14884139, 15319387, 15563021, 16080091, 16434907, 16850989, 17264021, 17791523, 18113527, 18429833, 19009591, 19554083, 19998703, 20412323, 20930561, 21511043, 21790199, 22335067, 22924943, 23270927, 24068827, 24472793, 24900091, 25220483, 25847047, 26347493, 26967233, 27551857, 28153627, 28987447, 29354723, 29811479, 30305021, 30913591, 31708097, 32012963, 32558411, 33223471, 33837473, 34269307, 34680257, 35604893, 36481591, 37015031, 37601423, 38415203, 38912563, 39463499, 40018267, 40500487, 41267767, 42068171, 43007339, 43599593, 44448853, 44970427, 45846377, 46580621, 47141947, 47803387, 48566957, 49098013, 49885933, 50808383, 51839951, 52417591, 53406863, 54169519, 55562107, 56160011, 56836517, 57380621, 57972947, 58936313, 59598391, 60434851, 61575373, 62283583, 63091213, 64224187, 65351047, 65934391, 66994189, 67815221, 68707517, 69572137, 70626991, 71470067, 72794999, 73770857, 74563189, 75429209, 76125589, 76912819, 77898251, 78588221, 79869953, 80999999, 81757763, 82919227, 83887277, 84750427, 85877189, 86881037, 87871867, 88736399, 89529443, 90325967, 91565437, 92736899, 93779831, 94887077, 95824517, 96746887, 97713221, 98724071]"
   ]
  },
  {
   "cell_type": "code",
   "execution_count": 32,
   "id": "altered-thursday",
   "metadata": {},
   "outputs": [
    {
     "data": {
      "image/png": "[encoded data removed]",
      "text/plain": [
       "<Figure size 432x288 with 1 Axes>"
      ]
     },
     "metadata": {
      "needs_background": "light"
     },
     "output_type": "display_data"
    }
   ],
   "source": [
    "fig, p_1 = plt.subplots()\n",
    "\n",
    "p_1.plot(prime_array_p_1, time_array_p_1, 'o')\n",
    "p_1.set(xlabel = \"n (module de chiffrement)\",\n",
    "        ylabel = \"time (s)\",\n",
    "        title = \"Pollard's p-1 Algorithm\")\n",
    "p_1.grid()\n",
    "\n",
    "plt.xscale(\"log\")\n",
    "# fig.savefig(\"p_one_big.png\")\n",
    "plt.show()\n"
   ]
  },
  {
   "cell_type": "markdown",
   "id": "compact-valve",
   "metadata": {},
   "source": [
    "Pre calulcated values for big numbers not done in the notebook (because it's too slow)"
   ]
  },
  {
   "cell_type": "code",
   "execution_count": 33,
   "id": "saved-hacker",
   "metadata": {},
   "outputs": [],
   "source": [
    "bits_p_1 = [6, 8, 10, 12, 14, 16, 18, 20, 22, 26, 28, 30, 32, 34, 36, 42, 48, 56, 62] \n",
    "time_p_1 =  [0.0, 0.0, 0.0, 0.0, 0.0, 0.0, 0.0, 0.0001, 0.02, 0.0815, 0.052, 0.0011, 0.0013, 0.0409, 0.4159, 0.6083, 1.2154, 1.0691, 0.1458]"
   ]
  },
  {
   "cell_type": "code",
   "execution_count": 34,
   "id": "applicable-preserve",
   "metadata": {},
   "outputs": [
    {
     "data": {
      "image/png": "[encoded data removed]",
      "text/plain": [
       "<Figure size 432x288 with 1 Axes>"
      ]
     },
     "metadata": {
      "needs_background": "light"
     },
     "output_type": "display_data"
    }
   ],
   "source": [
    "fig, p_1 = plt.subplots()\n",
    "\n",
    "p_1.plot(bits_p_1, time_p_1, 'o')\n",
    "p_1.set(xlabel = \"bits\",\n",
    "        ylabel = \"time (s)\",\n",
    "        title = \"Pollard's p-1 Algorithm\")\n",
    "p_1.grid()\n",
    "\n",
    "# fig.savefig(\"p_one_small.png\")\n",
    "plt.show()"
   ]
  }
 ],
 "metadata": {
  "kernelspec": {
   "display_name": "Python 3",
   "language": "python",
   "name": "python3"
  },
  "language_info": {
   "codemirror_mode": {
    "name": "ipython",
    "version": 3
   },
   "file_extension": ".py",
   "mimetype": "text/x-python",
   "name": "python",
   "nbconvert_exporter": "python",
   "pygments_lexer": "ipython3",
   "version": "3.8.5"
  }
 },
 "nbformat": 4,
 "nbformat_minor": 5
}
