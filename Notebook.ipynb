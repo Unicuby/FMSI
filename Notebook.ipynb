{
 "cells": [
  {
   "cell_type": "markdown",
   "id": "c3b390e8",
   "metadata": {},
   "source": [
    "# FMSI Project Notebook\n",
    "\n",
    "Authors:\n",
    "- Benjamin Peter\n",
    "- Bastien Coutadeur\n",
    "- Alexandre Dias\n",
    "- Mathieu Guérin"
   ]
  },
  {
   "cell_type": "markdown",
   "id": "d8d0f83b",
   "metadata": {},
   "source": [
    "Importing our work:"
   ]
  },
  {
   "cell_type": "code",
   "execution_count": 1,
   "id": "ccf66d6d",
   "metadata": {},
   "outputs": [],
   "source": [
    "# Generating prime numbers\n",
    "from genPrime import erathosthene, is_prime\n",
    "from miller_rabin import MillerRabin, generate_prime\n",
    "\n",
    "# RSA Implementation\n",
    "from rsa import RSA\n",
    "\n",
    "# Cracking RSA\n",
    "import p_1_pollard\n",
    "import rho_pollard\n",
    "import fermat\n",
    "\n",
    "#Timer\n",
    "import time_cracking as tm\n",
    "\n",
    "#Plot\n",
    "import matplotlib.pyplot as plt\n",
    "\n",
    "# Helper functions\n",
    "from helper import tuple_val_eq"
   ]
  },
  {
   "cell_type": "markdown",
   "id": "0fe11eb5",
   "metadata": {},
   "source": [
    "## Prime numbers generation"
   ]
  },
  {
   "cell_type": "markdown",
   "id": "ccae91ce",
   "metadata": {},
   "source": [
    "### Sieve of Eratosthenes"
   ]
  },
  {
   "cell_type": "code",
   "execution_count": 30,
   "id": "9f2d0f8e",
   "metadata": {
    "scrolled": true
   },
   "outputs": [
    {
     "name": "stdout",
     "output_type": "stream",
     "text": [
      "Generating prime numbers between 2 and 1024...\n",
      "[2, 3, 5, 7, 11, 13, 17, 19, 23, 29, 31, 37, 41, 43, 47, 53, 59, 61, 67, 71, 73, 79, 83, 89, 97, 101, 103, 107, 109, 113, 127, 131, 137, 139, 149, 151, 157, 163, 167, 173, 179, 181, 191, 193, 197, 199, 211, 223, 227, 229, 233, 239, 241, 251, 257, 263, 269, 271, 277, 281, 283, 293, 307, 311, 313, 317, 331, 337, 347, 349, 353, 359, 367, 373, 379, 383, 389, 397, 401, 409, 419, 421, 431, 433, 439, 443, 449, 457, 461, 463, 467, 479, 487, 491, 499, 503, 509, 521, 523, 541, 547, 557, 563, 569, 571, 577, 587, 593, 599, 601, 607, 613, 617, 619, 631, 641, 643, 647, 653, 659, 661, 673, 677, 683, 691, 701, 709, 719, 727, 733, 739, 743, 751, 757, 761, 769, 773, 787, 797, 809, 811, 821, 823, 827, 829, 839, 853, 857, 859, 863, 877, 881, 883, 887, 907, 911, 919, 929, 937, 941, 947, 953, 967, 971, 977, 983, 991, 997, 1009, 1013, 1019, 1021]\n",
      "\n",
      "Success: All the numbers are prime numbers!\n"
     ]
    }
   ],
   "source": [
    "print(\"Generating prime numbers between 2 and 1024...\")\n",
    "L = erathosthene(1024)\n",
    "print(L)\n",
    "\n",
    "print()  # Newline\n",
    "not_primes = []\n",
    "for p in L:\n",
    "    if not is_prime(p):\n",
    "        not_primes.append(p)\n",
    "if not not_primes:\n",
    "    print(\"Success: All the numbers are prime numbers!\")\n",
    "else:\n",
    "    print(\"Error: Found non-prime numbers:\", not_primes)"
   ]
  },
  {
   "cell_type": "code",
   "execution_count": 31,
   "id": "866a6f84",
   "metadata": {
    "scrolled": false
   },
   "outputs": [
    {
     "name": "stdout",
     "output_type": "stream",
     "text": [
      "Generating prime numbers between 2 and 1048576...\n",
      "Success: All the numbers are prime numbers!\n"
     ]
    }
   ],
   "source": [
    "print(\"Generating prime numbers between 2 and 1048576...\")\n",
    "L = erathosthene(1048576)\n",
    "\n",
    "not_primes = []\n",
    "for p in L:\n",
    "    if not is_prime(p):\n",
    "        not_primes.append(p)\n",
    "if not not_primes:\n",
    "    print(\"Success: All the numbers are prime numbers!\")\n",
    "else:\n",
    "    print(\"Error: Found non-prime numbers:\", not_primes)"
   ]
  },
  {
   "cell_type": "markdown",
   "id": "e9d653a6",
   "metadata": {},
   "source": [
    "### Basic primality test\n",
    "\n",
    "We've implemented a basic primality test (`is_prime`), used above for checking that the sieve of eratosthenes works properly."
   ]
  },
  {
   "cell_type": "markdown",
   "id": "c58b0dd8",
   "metadata": {},
   "source": [
    "### Miller-Rabin primality test\n",
    "\n",
    "We've implemented the Miller-Rabin primality test, faster than `is_prime`, for generating large prime numbers:"
   ]
  },
  {
   "cell_type": "code",
   "execution_count": 32,
   "id": "e47524a4",
   "metadata": {},
   "outputs": [
    {
     "name": "stdout",
     "output_type": "stream",
     "text": [
      "Generate random prime numbers between 2^127 and 2^128...\n",
      "1: 212659407101257677537315165326047185203\n",
      "2: 329455217275556876933008068050725541447\n",
      "3: 233659037363431862337099720621374144431\n"
     ]
    }
   ],
   "source": [
    "print(\"Generate random prime numbers between 2^127 and 2^128...\")\n",
    "print(\"1:\", generate_prime(128))\n",
    "print(\"2:\", generate_prime(128))\n",
    "print(\"3:\", generate_prime(128))"
   ]
  },
  {
   "cell_type": "code",
   "execution_count": 33,
   "id": "0acc3f5a",
   "metadata": {},
   "outputs": [
    {
     "name": "stdout",
     "output_type": "stream",
     "text": [
      "Generate random prime numbers between 2^1023 and 2^1024...\n",
      "94419281295186173518848948488404535637615727332979012770006999533981123303045213633616250862405901105159870392603765699393161187899836010197535132295173544486165968460896901823631188108024250095159664698791361469452532534745829449353083008312161057200084212442368985455135460855032715048806314030762073320511\n"
     ]
    }
   ],
   "source": [
    "# Works for generating large prime numbers:\n",
    "print(\"Generate random prime numbers between 2^1023 and 2^1024...\")\n",
    "print(generate_prime(1024))"
   ]
  },
  {
   "cell_type": "markdown",
   "id": "803bb5f3",
   "metadata": {},
   "source": [
    "## RSA Implementation"
   ]
  },
  {
   "cell_type": "code",
   "execution_count": 34,
   "id": "62f5fdda",
   "metadata": {},
   "outputs": [
    {
     "data": {
      "text/plain": [
       "((3233, 7), (3233, 1783))"
      ]
     },
     "execution_count": 34,
     "metadata": {},
     "output_type": "execute_result"
    }
   ],
   "source": [
    "# Generate RSA public and private keys from given prime numbers\n",
    "RSA.generate_keys(61, 53)"
   ]
  },
  {
   "cell_type": "code",
   "execution_count": 35,
   "id": "80f33222",
   "metadata": {},
   "outputs": [],
   "source": [
    "# Generate a RSA object from given prime numbers\n",
    "r = RSA.generate(61, 53)"
   ]
  },
  {
   "cell_type": "code",
   "execution_count": 36,
   "id": "62896979",
   "metadata": {},
   "outputs": [
    {
     "data": {
      "text/plain": [
       "3233"
      ]
     },
     "execution_count": 36,
     "metadata": {},
     "output_type": "execute_result"
    }
   ],
   "source": [
    "# The RSA ciphering modulus\n",
    "r.n"
   ]
  },
  {
   "cell_type": "code",
   "execution_count": 37,
   "id": "90bbd887",
   "metadata": {},
   "outputs": [
    {
     "data": {
      "text/plain": [
       "7"
      ]
     },
     "execution_count": 37,
     "metadata": {},
     "output_type": "execute_result"
    }
   ],
   "source": [
    "# The RSA public exponent\n",
    "r.e"
   ]
  },
  {
   "cell_type": "code",
   "execution_count": 38,
   "id": "a0c4207c",
   "metadata": {},
   "outputs": [
    {
     "data": {
      "text/plain": [
       "(3233, 7)"
      ]
     },
     "execution_count": 38,
     "metadata": {},
     "output_type": "execute_result"
    }
   ],
   "source": [
    "# The RSA public key\n",
    "r.pub_key()"
   ]
  },
  {
   "cell_type": "code",
   "execution_count": 39,
   "id": "d3438557",
   "metadata": {},
   "outputs": [
    {
     "data": {
      "text/plain": [
       "1783"
      ]
     },
     "execution_count": 39,
     "metadata": {},
     "output_type": "execute_result"
    }
   ],
   "source": [
    "# The RSA private exponent\n",
    "r.d"
   ]
  },
  {
   "cell_type": "code",
   "execution_count": 40,
   "id": "ea4f14e5",
   "metadata": {},
   "outputs": [
    {
     "data": {
      "text/plain": [
       "(3233, 1783)"
      ]
     },
     "execution_count": 40,
     "metadata": {},
     "output_type": "execute_result"
    }
   ],
   "source": [
    "# The RSA private key\n",
    "r.priv_key()"
   ]
  },
  {
   "cell_type": "markdown",
   "id": "8ad05312",
   "metadata": {},
   "source": [
    "### Encryption"
   ]
  },
  {
   "cell_type": "code",
   "execution_count": 41,
   "id": "3fd731d2",
   "metadata": {},
   "outputs": [
    {
     "name": "stdout",
     "output_type": "stream",
     "text": [
      "Our message: Hello, world!\n"
     ]
    }
   ],
   "source": [
    "# Our clear message\n",
    "msg = \"Hello, world!\"\n",
    "print(\"Our message:\", msg)"
   ]
  },
  {
   "cell_type": "code",
   "execution_count": 42,
   "id": "8a6010ee",
   "metadata": {},
   "outputs": [
    {
     "name": "stdout",
     "output_type": "stream",
     "text": [
      "Encrypted message: [1087, 3071, 1877, 1877, 3183, 1129, 2774, 863, 3183, 1797, 1877, 2872, 2417]\n"
     ]
    }
   ],
   "source": [
    "# Encrypt a message\n",
    "encrypted_msg = r.encrypt(\"Hello, world!\")\n",
    "print(\"Encrypted message:\", encrypted_msg)"
   ]
  },
  {
   "cell_type": "markdown",
   "id": "ef89e11b",
   "metadata": {},
   "source": [
    "Encryption is done character per character."
   ]
  },
  {
   "cell_type": "markdown",
   "id": "c25723c7",
   "metadata": {},
   "source": [
    "### Decryption"
   ]
  },
  {
   "cell_type": "code",
   "execution_count": 43,
   "id": "f6b191c0",
   "metadata": {
    "scrolled": true
   },
   "outputs": [
    {
     "name": "stdout",
     "output_type": "stream",
     "text": [
      "Decrypted message: Hello, world!\n",
      "This matches our original message!\n"
     ]
    }
   ],
   "source": [
    "decrypted_msg = r.decrypt(encrypted_msg)\n",
    "print(\"Decrypted message:\", decrypted_msg)\n",
    "if decrypted_msg == msg:\n",
    "    print(\"This matches our original message!\")\n",
    "else:\n",
    "    print(\"This does not match our original message..\")"
   ]
  },
  {
   "cell_type": "markdown",
   "id": "b4f99986",
   "metadata": {},
   "source": [
    "## Cracking RSA\n",
    "\n",
    "We've implemented three cracking algorithms:\n",
    "- Pollard's p-1 Algorithm\n",
    "- Pollard's rho Algorithm\n",
    "- Fermat's factorization Algorithm\n",
    "\n",
    "_Note:  \n",
    "In the examples below, we're using `tuple_val_eq` to check if the cracked primes match what is expected.  \n",
    "This checks if `(p1, q1) == (p2, q2)` or `(p1, q1) == (q2, p2)`_ "
   ]
  },
  {
   "cell_type": "markdown",
   "id": "e34e3c91",
   "metadata": {},
   "source": [
    "### Pollard's p-1 Algorithm"
   ]
  },
  {
   "cell_type": "code",
   "execution_count": 44,
   "id": "f14a9f47",
   "metadata": {},
   "outputs": [
    {
     "name": "stdout",
     "output_type": "stream",
     "text": [
      "Our message: Hello, world! This is my very secret message.\n",
      "Encrypting using RSA, from prime numbers (661, 673)\n",
      "\n",
      "********** Cracking with Fermat factorisation **********\n",
      "\n",
      "Cracked primes: (673, 661)\n",
      "Success!\n",
      "\n",
      "Cracked message: Hello, world! This is my very secret message.\n",
      "Success!\n"
     ]
    }
   ],
   "source": [
    "msg = \"Hello, world! This is my very secret message.\"\n",
    "print(\"Our message:\", msg)\n",
    "\n",
    "primes = (661, 673)\n",
    "print(\"Encrypting using RSA, from prime numbers\", primes)\n",
    "r = RSA.generate(*primes)\n",
    "encrypted_msg = r.encrypt(msg)\n",
    "# print(\"Encrypted data:\", encrypted_msg)\n",
    "\n",
    "print()  # Newline\n",
    "print(10 * '*', \"Cracking with Fermat factorisation\", 10 * '*')\n",
    "\n",
    "print()  # Newline\n",
    "cracked_primes = p_1_pollard.crack_primes(r.n)\n",
    "print(\"Cracked primes:\", cracked_primes)\n",
    "print(\"Success!\" if tuple_val_eq(cracked_primes, primes) else \"Failure.\")\n",
    "\n",
    "print()  # Newline\n",
    "cracked_msg = p_1_pollard.crack_msg(encrypted_msg, r.n)\n",
    "print(\"Cracked message:\", cracked_msg)\n",
    "print(\"Success!\" if cracked_msg == msg else \"Failure.\")"
   ]
  },
  {
   "cell_type": "markdown",
   "id": "d669bc58",
   "metadata": {},
   "source": [
    "### Pollard's rho Algorithm"
   ]
  },
  {
   "cell_type": "code",
   "execution_count": 45,
   "id": "1c357b39",
   "metadata": {},
   "outputs": [
    {
     "name": "stdout",
     "output_type": "stream",
     "text": [
      "Our message: Hello, world! This is my very secret message.\n",
      "Encrypting using RSA, from prime numbers (661, 673)\n",
      "\n",
      "********** Cracking with Fermat factorisation **********\n",
      "\n",
      "Cracked primes: (673, 661)\n",
      "Success!\n",
      "\n",
      "Cracked message: Hello, world! This is my very secret message.\n",
      "Success!\n"
     ]
    }
   ],
   "source": [
    "msg = \"Hello, world! This is my very secret message.\"\n",
    "print(\"Our message:\", msg)\n",
    "\n",
    "primes = (661, 673)\n",
    "print(\"Encrypting using RSA, from prime numbers\", primes)\n",
    "r = RSA.generate(*primes)\n",
    "encrypted_msg = r.encrypt(msg)\n",
    "# print(\"Encrypted data:\", encrypted_msg)\n",
    "\n",
    "print()  # Newline\n",
    "print(10 * '*', \"Cracking with Fermat factorisation\", 10 * '*')\n",
    "\n",
    "print()  # Newline\n",
    "cracked_primes = rho_pollard.crack_primes(r.n)\n",
    "print(\"Cracked primes:\", cracked_primes)\n",
    "print(\"Success!\" if tuple_val_eq(cracked_primes, primes) else \"Failure.\")\n",
    "\n",
    "print()  # Newline\n",
    "cracked_msg = rho_pollard.crack_msg(encrypted_msg, r.n)\n",
    "print(\"Cracked message:\", cracked_msg)\n",
    "print(\"Success!\" if cracked_msg == msg else \"Failure.\")"
   ]
  },
  {
   "cell_type": "markdown",
   "id": "cfa928c2",
   "metadata": {},
   "source": [
    "### Fermat's factorization Algorithm"
   ]
  },
  {
   "cell_type": "code",
   "execution_count": 46,
   "id": "3352b17b",
   "metadata": {},
   "outputs": [
    {
     "name": "stdout",
     "output_type": "stream",
     "text": [
      "Our message: Hello, world! This is my very secret message.\n",
      "Encrypting using RSA, from prime numbers (661, 673)\n",
      "\n",
      "********** Cracking with Fermat factorisation **********\n",
      "\n",
      "Cracked primes: (661, 673)\n",
      "Success!\n",
      "\n",
      "Cracked message: Hello, world! This is my very secret message.\n",
      "Success!\n"
     ]
    }
   ],
   "source": [
    "msg = \"Hello, world! This is my very secret message.\"\n",
    "print(\"Our message:\", msg)\n",
    "\n",
    "primes = (661, 673)\n",
    "print(\"Encrypting using RSA, from prime numbers\", primes)\n",
    "r = RSA.generate(*primes)\n",
    "encrypted_msg = r.encrypt(msg)\n",
    "# print(\"Encrypted data:\", encrypted_msg)\n",
    "\n",
    "print()  # Newline\n",
    "print(10 * '*', \"Cracking with Fermat factorisation\", 10 * '*')\n",
    "\n",
    "print()  # Newline\n",
    "cracked_primes = fermat.crack_primes(r.n)\n",
    "print(\"Cracked primes:\", cracked_primes)\n",
    "print(\"Success!\" if tuple_val_eq(cracked_primes, primes) else \"Failure.\")\n",
    "\n",
    "print()  # Newline\n",
    "cracked_msg = fermat.crack_msg(encrypted_msg, r.n)\n",
    "print(\"Cracked message:\", cracked_msg)\n",
    "print(\"Success!\" if cracked_msg == msg else \"Failure.\")"
   ]
  },
  {
   "cell_type": "markdown",
   "id": "manufactured-oracle",
   "metadata": {},
   "source": [
    "### Time Comparaison for different Algorithm"
   ]
  },
  {
   "cell_type": "markdown",
   "id": "genuine-thesaurus",
   "metadata": {},
   "source": [
    "Rho pollard:"
   ]
  },
  {
   "cell_type": "code",
   "execution_count": 2,
   "id": "third-comfort",
   "metadata": {},
   "outputs": [
    {
     "name": "stdout",
     "output_type": "stream",
     "text": [
      "p = 3 q = 2 --- 0.0 seconds ---\n",
      "p = 19 q = 17 --- 0.0001 seconds ---\n",
      "p = 43 q = 41 --- 0.0001 seconds ---\n",
      "p = 67 q = 71 --- 0.0003 seconds ---\n",
      "p = 97 q = 101 --- 0.0004 seconds ---\n",
      "p = 131 q = 127 --- 0.0022 seconds ---\n",
      "p = 163 q = 157 --- 0.0015 seconds ---\n",
      "p = 191 q = 193 --- 0.0032 seconds ---\n",
      "p = 227 q = 229 --- 0.0106 seconds ---\n",
      "p = 257 q = 263 --- 0.0088 seconds ---\n",
      "p = 283 q = 293 --- 0.0026 seconds ---\n",
      "p = 337 q = 331 --- 0.0051 seconds ---\n",
      "p = 367 q = 373 --- 0.0079 seconds ---\n",
      "p = 409 q = 401 --- 0.014 seconds ---\n",
      "p = 443 q = 439 --- 0.0219 seconds ---\n",
      "Couldn't crack p = 467 q = 479\n",
      "p = 509 q = 521 --- 0.0226 seconds ---\n",
      "p = 563 q = 569 --- 0.025 seconds ---\n",
      "p = 599 q = 601 --- 0.0342 seconds ---\n",
      "p = 641 q = 631 --- 0.0408 seconds ---\n",
      "p = 673 q = 661 --- 0.0039 seconds ---\n",
      "p = 709 q = 719 --- 0.0172 seconds ---\n",
      "p = 757 q = 751 --- 0.0128 seconds ---\n",
      "p = 809 q = 797 --- 0.053 seconds ---\n",
      "p = 839 q = 829 --- 0.0163 seconds ---\n",
      "p = 881 q = 877 --- 0.052 seconds ---\n",
      "p = 919 q = 929 --- 0.0178 seconds ---\n",
      "p = 967 q = 971 --- 0.0293 seconds ---\n",
      "p = 1013 q = 1009 --- 0.1042 seconds ---\n",
      "p = 1039 q = 1049 --- 0.0294 seconds ---\n",
      "p = 1091 q = 1087 --- 0.0785 seconds ---\n",
      "p = 1123 q = 1117 --- 0.0554 seconds ---\n",
      "p = 1181 q = 1171 --- 0.1254 seconds ---\n",
      "p = 1217 q = 1223 --- 0.1069 seconds ---\n",
      "p = 1277 q = 1259 --- 0.1372 seconds ---\n",
      "p = 1297 q = 1301 --- 0.1134 seconds ---\n",
      "p = 1361 q = 1327 --- 0.0288 seconds ---\n",
      "p = 1423 q = 1409 --- 0.1956 seconds ---\n",
      "p = 1451 q = 1447 --- 0.1984 seconds ---\n",
      "p = 1487 q = 1483 --- 0.2006 seconds ---\n",
      "p = 1531 q = 1523 --- 0.2098 seconds ---\n",
      "p = 1567 q = 1571 --- 0.101 seconds ---\n",
      "p = 1609 q = 1607 --- 0.2158 seconds ---\n",
      "p = 1637 q = 1657 --- 0.2566 seconds ---\n",
      "p = 1697 q = 1699 --- 0.2086 seconds ---\n",
      "p = 1741 q = 1747 --- 0.2128 seconds ---\n",
      "p = 1789 q = 1787 --- 0.315 seconds ---\n",
      "p = 1861 q = 1847 --- 0.3169 seconds ---\n",
      "p = 1879 q = 1889 --- 0.1056 seconds ---\n",
      "p = 1933 q = 1949 --- 0.3757 seconds ---\n",
      "p = 1997 q = 1993 --- 0.1993 seconds ---\n",
      "p = 2029 q = 2027 --- 0.3135 seconds ---\n",
      "p = 2081 q = 2083 --- 0.1443 seconds ---\n",
      "p = 2113 q = 2129 --- 0.4537 seconds ---\n",
      "p = 2153 q = 2161 --- 0.3519 seconds ---\n",
      "p = 2237 q = 2221 --- 0.1723 seconds ---\n",
      "p = 2273 q = 2269 --- 0.4914 seconds ---\n",
      "p = 2309 q = 2311 --- 0.4245 seconds ---\n",
      "p = 2357 q = 2351 --- 0.514 seconds ---\n",
      "p = 2389 q = 2393 --- 0.6494 seconds ---\n",
      "p = 2441 q = 2437 --- 0.7109 seconds ---\n",
      "p = 2503 q = 2477 --- 0.3256 seconds ---\n",
      "p = 2551 q = 2549 --- 0.2695 seconds ---\n",
      "p = 2617 q = 2609 --- 0.4898 seconds ---\n",
      "p = 2663 q = 2659 --- 0.7988 seconds ---\n",
      "p = 2689 q = 2693 --- 0.6877 seconds ---\n",
      "p = 2719 q = 2729 --- 0.1666 seconds ---\n",
      "p = 2777 q = 2767 --- 0.7458 seconds ---\n",
      "p = 2803 q = 2819 --- 0.8711 seconds ---\n",
      "p = 2861 q = 2857 --- 0.3322 seconds ---\n",
      "p = 2917 q = 2909 --- 0.6827 seconds ---\n",
      "Couldn't crack p = 2963 q = 2969\n",
      "p = 3023 q = 3019 --- 0.9639 seconds ---\n",
      "p = 3067 q = 3079 --- 0.7635 seconds ---\n",
      "p = 3137 q = 3121 --- 0.417 seconds ---\n",
      "p = 3187 q = 3191 --- 0.8226 seconds ---\n",
      "p = 3229 q = 3251 --- 0.5387 seconds ---\n",
      "p = 3301 q = 3299 --- 0.422 seconds ---\n",
      "p = 3331 q = 3329 --- 1.1741 seconds ---\n",
      "p = 3373 q = 3371 --- 1.2285 seconds ---\n",
      "p = 3433 q = 3449 --- 1.3259 seconds ---\n",
      "p = 3491 q = 3469 --- 1.2349 seconds ---\n",
      "p = 3529 q = 3533 --- 1.328 seconds ---\n",
      "p = 3571 q = 3559 --- 0.525 seconds ---\n",
      "p = 3617 q = 3613 --- 0.6761 seconds ---\n",
      "p = 3659 q = 3671 --- 1.0239 seconds ---\n",
      "p = 3709 q = 3701 --- 0.2203 seconds ---\n",
      "p = 3767 q = 3761 --- 1.4379 seconds ---\n",
      "p = 3821 q = 3803 --- 1.4836 seconds ---\n",
      "p = 3863 q = 3853 --- 0.3903 seconds ---\n",
      "p = 3917 q = 3911 --- 1.2986 seconds ---\n",
      "p = 3943 q = 3947 --- 1.0889 seconds ---\n",
      "p = 4013 q = 4007 --- 1.432 seconds ---\n",
      "p = 4051 q = 4057 --- 1.1458 seconds ---\n",
      "p = 4099 q = 4111 --- 0.6131 seconds ---\n",
      "p = 4153 q = 4157 --- 0.947 seconds ---\n",
      "p = 4217 q = 4219 --- 1.3 seconds ---\n",
      "p = 4253 q = 4259 --- 1.4991 seconds ---\n",
      "p = 4289 q = 4297 --- 1.3208 seconds ---\n",
      "p = 4363 q = 4357 --- 0.9602 seconds ---\n",
      "p = 4423 q = 4421 --- 2.1076 seconds ---\n",
      "p = 4481 q = 4463 --- 1.6503 seconds ---\n",
      "p = 4517 q = 4519 --- 1.5014 seconds ---\n",
      "p = 4583 q = 4567 --- 0.9936 seconds ---\n",
      "p = 4639 q = 4637 --- 1.5101 seconds ---\n",
      "p = 4663 q = 4673 --- 0.5198 seconds ---\n",
      "p = 4729 q = 4723 --- 2.2232 seconds ---\n",
      "p = 4787 q = 4789 --- 1.8269 seconds ---\n",
      "p = 4817 q = 4831 --- 1.5873 seconds ---\n",
      "p = 4909 q = 4903 --- 2.4936 seconds ---\n",
      "p = 4951 q = 4943 --- 2.4993 seconds ---\n",
      "p = 4987 q = 4993 --- 1.2519 seconds ---\n",
      "p = 5023 q = 5021 --- 0.979 seconds ---\n",
      "p = 5087 q = 5081 --- 2.387 seconds ---\n",
      "p = 5119 q = 5147 --- 2.3598 seconds ---\n",
      "p = 5189 q = 5197 --- 2.0883 seconds ---\n",
      "p = 5237 q = 5261 --- 2.344 seconds ---\n",
      "p = 5303 q = 5309 --- 2.4012 seconds ---\n",
      "p = 5387 q = 5381 --- 2.3089 seconds ---\n",
      "p = 5419 q = 5417 --- 2.1327 seconds ---\n",
      "p = 5449 q = 5471 --- 0.5363 seconds ---\n",
      "p = 5503 q = 5507 --- 1.541 seconds ---\n",
      "p = 5557 q = 5563 --- 1.7619 seconds ---\n",
      "p = 5639 q = 5623 --- 3.0871 seconds ---\n",
      "p = 5659 q = 5657 --- 2.656 seconds ---\n",
      "p = 5711 q = 5701 --- 1.2783 seconds ---\n",
      "p = 5749 q = 5779 --- 1.0338 seconds ---\n",
      "p = 5821 q = 5813 --- 0.5991 seconds ---\n",
      "p = 5857 q = 5851 --- 0.5948 seconds ---\n",
      "p = 5897 q = 5881 --- 2.009 seconds ---\n",
      "p = 5981 q = 5953 --- 3.6872 seconds ---\n",
      "p = 6043 q = 6037 --- 1.9164 seconds ---\n",
      "p = 6079 q = 6089 --- 0.9372 seconds ---\n",
      "p = 6131 q = 6133 --- 3.4094 seconds ---\n",
      "p = 6197 q = 6199 --- 2.7169 seconds ---\n",
      "p = 6229 q = 6247 --- 2.8892 seconds ---\n",
      "p = 6277 q = 6287 --- 4.0216 seconds ---\n",
      "p = 6329 q = 6323 --- 3.3282 seconds ---\n",
      "p = 6367 q = 6361 --- 3.1572 seconds ---\n",
      "p = 6421 q = 6427 --- 3.8634 seconds ---\n",
      "p = 6481 q = 6491 --- 2.9925 seconds ---\n",
      "p = 6553 q = 6563 --- 1.0143 seconds ---\n",
      "p = 6607 q = 6599 --- 3.098 seconds ---\n",
      "p = 6661 q = 6673 --- 1.5456 seconds ---\n",
      "p = 6703 q = 6709 --- 4.5204 seconds ---\n",
      "p = 6763 q = 6779 --- 4.5304 seconds ---\n",
      "p = 6827 q = 6823 --- 2.3364 seconds ---\n",
      "p = 6869 q = 6863 --- 4.5141 seconds ---\n",
      "p = 6917 q = 6911 --- 4.1206 seconds ---\n",
      "p = 6971 q = 6967 --- 4.0091 seconds ---\n",
      "p = 7013 q = 7001 --- 4.4849 seconds ---\n",
      "p = 7057 q = 7069 --- 4.2813 seconds ---\n",
      "p = 7127 q = 7129 --- 4.0907 seconds ---\n",
      "p = 7207 q = 7193 --- 2.5899 seconds ---\n",
      "p = 7237 q = 7243 --- 2.612 seconds ---\n",
      "p = 7309 q = 7307 --- 3.9125 seconds ---\n",
      "p = 7369 q = 7351 --- 1.8955 seconds ---\n",
      "p = 7451 q = 7457 --- 4.8265 seconds ---\n",
      "p = 7489 q = 7499 --- 1.5092 seconds ---\n",
      "p = 7537 q = 7541 --- 5.7389 seconds ---\n",
      "Couldn't crack p = 7573 q = 7577\n",
      "p = 7621 q = 7607 --- 3.2041 seconds ---\n",
      "p = 7681 q = 7673 --- 0.7273 seconds ---\n",
      "p = 7717 q = 7723 --- 3.0639 seconds ---\n",
      "p = 7759 q = 7789 --- 1.5517 seconds ---\n",
      "p = 7853 q = 7841 --- 5.0352 seconds ---\n",
      "p = 7883 q = 7901 --- 5.2943 seconds ---\n",
      "p = 7949 q = 7937 --- 5.2711 seconds ---\n",
      "p = 8011 q = 8017 --- 3.7822 seconds ---\n",
      "p = 8081 q = 8087 --- 5.6818 seconds ---\n",
      "p = 8123 q = 8117 --- 5.694 seconds ---\n",
      "p = 8179 q = 8191 --- 2.9565 seconds ---\n",
      "p = 8233 q = 8237 --- 3.3363 seconds ---\n",
      "p = 8287 q = 8291 --- 2.5784 seconds ---\n",
      "p = 8353 q = 8329 --- 6.7062 seconds ---\n",
      "p = 8419 q = 8389 --- 1.7 seconds ---\n",
      "p = 8461 q = 8447 --- 3.6832 seconds ---\n",
      "p = 8527 q = 8537 --- 7.6507 seconds ---\n",
      "p = 8597 q = 8581 --- 6.877 seconds ---\n",
      "p = 8641 q = 8629 --- 7.6216 seconds ---\n",
      "p = 8689 q = 8681 --- 4.8301 seconds ---\n",
      "p = 8731 q = 8719 --- 2.6478 seconds ---\n",
      "p = 8761 q = 8779 --- 7.7124 seconds ---\n",
      "p = 8831 q = 8821 --- 7.4552 seconds ---\n",
      "p = 8863 q = 8867 --- 3.6331 seconds ---\n",
      "p = 8941 q = 8933 --- 7.7717 seconds ---\n",
      "p = 8999 q = 9001 --- 9.0953 seconds ---\n",
      "p = 9043 q = 9041 --- 9.2279 seconds ---\n",
      "p = 9103 q = 9109 --- 8.4999 seconds ---\n",
      "p = 9161 q = 9157 --- 1.0656 seconds ---\n",
      "p = 9203 q = 9209 --- 7.6717 seconds ---\n",
      "p = 9277 q = 9257 --- 9.0685 seconds ---\n",
      "p = 9319 q = 9323 --- 9.3504 seconds ---\n",
      "p = 9371 q = 9377 --- 8.2633 seconds ---\n",
      "p = 9419 q = 9421 --- 9.6673 seconds ---\n",
      "p = 9461 q = 9463 --- 10.6646 seconds ---\n",
      "p = 9497 q = 9511 --- 5.1518 seconds ---\n",
      "p = 9551 q = 9587 --- 8.1452 seconds ---\n",
      "p = 9631 q = 9629 --- 10.4738 seconds ---\n",
      "p = 9689 q = 9679 --- 2.6179 seconds ---\n",
      "p = 9743 q = 9739 --- 10.4077 seconds ---\n",
      "p = 9791 q = 9787 --- 8.5293 seconds ---\n",
      "p = 9833 q = 9839 --- 8.2327 seconds ---\n"
     ]
    },
    {
     "name": "stdout",
     "output_type": "stream",
     "text": [
      "p = 9883 q = 9887 --- 5.1565 seconds ---\n",
      "p = 9931 q = 9941 --- 12.4187 seconds ---\n",
      "Sucess rate: 202/3\n",
      "[0.0, 0.0001, 0.0001, 0.0003, 0.0004, 0.0022, 0.0015, 0.0032, 0.0106, 0.0088, 0.0026, 0.0051, 0.0079, 0.014, 0.0219, 0.0226, 0.025, 0.0342, 0.0408, 0.0039, 0.0172, 0.0128, 0.053, 0.0163, 0.052, 0.0178, 0.0293, 0.1042, 0.0294, 0.0785, 0.0554, 0.1254, 0.1069, 0.1372, 0.1134, 0.0288, 0.1956, 0.1984, 0.2006, 0.2098, 0.101, 0.2158, 0.2566, 0.2086, 0.2128, 0.315, 0.3169, 0.1056, 0.3757, 0.1993, 0.3135, 0.1443, 0.4537, 0.3519, 0.1723, 0.4914, 0.4245, 0.514, 0.6494, 0.7109, 0.3256, 0.2695, 0.4898, 0.7988, 0.6877, 0.1666, 0.7458, 0.8711, 0.3322, 0.6827, 0.9639, 0.7635, 0.417, 0.8226, 0.5387, 0.422, 1.1741, 1.2285, 1.3259, 1.2349, 1.328, 0.525, 0.6761, 1.0239, 0.2203, 1.4379, 1.4836, 0.3903, 1.2986, 1.0889, 1.432, 1.1458, 0.6131, 0.947, 1.3, 1.4991, 1.3208, 0.9602, 2.1076, 1.6503, 1.5014, 0.9936, 1.5101, 0.5198, 2.2232, 1.8269, 1.5873, 2.4936, 2.4993, 1.2519, 0.979, 2.387, 2.3598, 2.0883, 2.344, 2.4012, 2.3089, 2.1327, 0.5363, 1.541, 1.7619, 3.0871, 2.656, 1.2783, 1.0338, 0.5991, 0.5948, 2.009, 3.6872, 1.9164, 0.9372, 3.4094, 2.7169, 2.8892, 4.0216, 3.3282, 3.1572, 3.8634, 2.9925, 1.0143, 3.098, 1.5456, 4.5204, 4.5304, 2.3364, 4.5141, 4.1206, 4.0091, 4.4849, 4.2813, 4.0907, 2.5899, 2.612, 3.9125, 1.8955, 4.8265, 1.5092, 5.7389, 3.2041, 0.7273, 3.0639, 1.5517, 5.0352, 5.2943, 5.2711, 3.7822, 5.6818, 5.694, 2.9565, 3.3363, 2.5784, 6.7062, 1.7, 3.6832, 7.6507, 6.877, 7.6216, 4.8301, 2.6478, 7.7124, 7.4552, 3.6331, 7.7717, 9.0953, 9.2279, 8.4999, 1.0656, 7.6717, 9.0685, 9.3504, 8.2633, 9.6673, 10.6646, 5.1518, 8.1452, 10.4738, 2.6179, 10.4077, 8.5293, 8.2327, 5.1565, 12.4187]\n",
      "[6, 323, 1763, 4757, 9797, 16637, 25591, 36863, 51983, 67591, 82919, 111547, 136891, 164009, 194477, 265189, 320347, 359999, 404471, 444853, 509771, 568507, 644773, 695531, 772637, 853751, 938957, 1022117, 1089911, 1185917, 1254391, 1382951, 1488391, 1607743, 1687397, 1806047, 2005007, 2099597, 2205221, 2331713, 2461757, 2585663, 2712509, 2883203, 3041527, 3196943, 3437267, 3549431, 3767417, 3980021, 4112783, 4334723, 4498577, 4652633, 4968377, 5157437, 5336099, 5541307, 5716877, 5948717, 6199931, 6502499, 6827753, 7080917, 7241477, 7420151, 7683959, 7901657, 8173877, 8485553, 9126437, 9443293, 9790577, 10169717, 10497479, 10889999, 11088899, 11370383, 11840417, 12110279, 12467957, 12709189, 13068221, 13432189, 13727009, 14167687, 14531263, 14884139, 15319387, 15563021, 16080091, 16434907, 16850989, 17264021, 17791523, 18113527, 18429833, 19009591, 19554083, 19998703, 20412323, 20930561, 21511043, 21790199, 22335067, 22924943, 23270927, 24068827, 24472793, 24900091, 25220483, 25847047, 26347493, 26967233, 27551857, 28153627, 28987447, 29354723, 29811479, 30305021, 30913591, 31708097, 32012963, 32558411, 33223471, 33837473, 34269307, 34680257, 35604893, 36481591, 37015031, 37601423, 38415203, 38912563, 39463499, 40018267, 40500487, 41267767, 42068171, 43007339, 43599593, 44448853, 44970427, 45846377, 46580621, 47141947, 47803387, 48566957, 49098013, 49885933, 50808383, 51839951, 52417591, 53406863, 54169519, 55562107, 56160011, 56836517, 57972947, 58936313, 59598391, 60434851, 61575373, 62283583, 63091213, 64224187, 65351047, 65934391, 66994189, 67815221, 68707517, 69572137, 70626991, 71470067, 72794999, 73770857, 74563189, 75429209, 76125589, 76912819, 77898251, 78588221, 79869953, 80999999, 81757763, 82919227, 83887277, 84750427, 85877189, 86881037, 87871867, 88736399, 89529443, 90325967, 91565437, 92736899, 93779831, 94887077, 95824517, 96746887, 97713221, 98724071]\n"
     ]
    }
   ],
   "source": [
    "#1000 represent the maximum prime thar will be generated\n",
    "time_array_rho, prime_array_rho = tm.time_crack(rho_pollard.crack_primes,10000)"
   ]
  },
  {
   "cell_type": "code",
   "execution_count": 12,
   "id": "quiet-purple",
   "metadata": {},
   "outputs": [],
   "source": [
    "time_array_rho = [0.0, 0.0001, 0.0001, 0.0003, 0.0004, 0.0022, 0.0015, 0.0032, 0.0106, 0.0088, 0.0026, 0.0051, 0.0079, 0.014, 0.0219, 0.0226, 0.025, 0.0342, 0.0408, 0.0039, 0.0172, 0.0128, 0.053, 0.0163, 0.052, 0.0178, 0.0293, 0.1042, 0.0294, 0.0785, 0.0554, 0.1254, 0.1069, 0.1372, 0.1134, 0.0288, 0.1956, 0.1984, 0.2006, 0.2098, 0.101, 0.2158, 0.2566, 0.2086, 0.2128, 0.315, 0.3169, 0.1056, 0.3757, 0.1993, 0.3135, 0.1443, 0.4537, 0.3519, 0.1723, 0.4914, 0.4245, 0.514, 0.6494, 0.7109, 0.3256, 0.2695, 0.4898, 0.7988, 0.6877, 0.1666, 0.7458, 0.8711, 0.3322, 0.6827, 0.9639, 0.7635, 0.417, 0.8226, 0.5387, 0.422, 1.1741, 1.2285, 1.3259, 1.2349, 1.328, 0.525, 0.6761, 1.0239, 0.2203, 1.4379, 1.4836, 0.3903, 1.2986, 1.0889, 1.432, 1.1458, 0.6131, 0.947, 1.3, 1.4991, 1.3208, 0.9602, 2.1076, 1.6503, 1.5014, 0.9936, 1.5101, 0.5198, 2.2232, 1.8269, 1.5873, 2.4936, 2.4993, 1.2519, 0.979, 2.387, 2.3598, 2.0883, 2.344, 2.4012, 2.3089, 2.1327, 0.5363, 1.541, 1.7619, 3.0871, 2.656, 1.2783, 1.0338, 0.5991, 0.5948, 2.009, 3.6872, 1.9164, 0.9372, 3.4094, 2.7169, 2.8892, 4.0216, 3.3282, 3.1572, 3.8634, 2.9925, 1.0143, 3.098, 1.5456, 4.5204, 4.5304, 2.3364, 4.5141, 4.1206, 4.0091, 4.4849, 4.2813, 4.0907, 2.5899, 2.612, 3.9125, 1.8955, 4.8265, 1.5092, 5.7389, 3.2041, 0.7273, 3.0639, 1.5517, 5.0352, 5.2943, 5.2711, 3.7822, 5.6818, 5.694, 2.9565, 3.3363, 2.5784, 6.7062, 1.7, 3.6832, 7.6507, 6.877, 7.6216, 4.8301, 2.6478, 7.7124, 7.4552, 3.6331, 7.7717, 9.0953, 9.2279, 8.4999, 1.0656, 7.6717, 9.0685, 9.3504, 8.2633, 9.6673, 10.6646, 5.1518, 8.1452, 10.4738, 2.6179, 10.4077, 8.5293, 8.2327, 5.1565, 12.4187]\n",
    "prime_array_rho = [6, 323, 1763, 4757, 9797, 16637, 25591, 36863, 51983, 67591, 82919, 111547, 136891, 164009, 194477, 265189, 320347, 359999, 404471, 444853, 509771, 568507, 644773, 695531, 772637, 853751, 938957, 1022117, 1089911, 1185917, 1254391, 1382951, 1488391, 1607743, 1687397, 1806047, 2005007, 2099597, 2205221, 2331713, 2461757, 2585663, 2712509, 2883203, 3041527, 3196943, 3437267, 3549431, 3767417, 3980021, 4112783, 4334723, 4498577, 4652633, 4968377, 5157437, 5336099, 5541307, 5716877, 5948717, 6199931, 6502499, 6827753, 7080917, 7241477, 7420151, 7683959, 7901657, 8173877, 8485553, 9126437, 9443293, 9790577, 10169717, 10497479, 10889999, 11088899, 11370383, 11840417, 12110279, 12467957, 12709189, 13068221, 13432189, 13727009, 14167687, 14531263, 14884139, 15319387, 15563021, 16080091, 16434907, 16850989, 17264021, 17791523, 18113527, 18429833, 19009591, 19554083, 19998703, 20412323, 20930561, 21511043, 21790199, 22335067, 22924943, 23270927, 24068827, 24472793, 24900091, 25220483, 25847047, 26347493, 26967233, 27551857, 28153627, 28987447, 29354723, 29811479, 30305021, 30913591, 31708097, 32012963, 32558411, 33223471, 33837473, 34269307, 34680257, 35604893, 36481591, 37015031, 37601423, 38415203, 38912563, 39463499, 40018267, 40500487, 41267767, 42068171, 43007339, 43599593, 44448853, 44970427, 45846377, 46580621, 47141947, 47803387, 48566957, 49098013, 49885933, 50808383, 51839951, 52417591, 53406863, 54169519, 55562107, 56160011, 56836517, 57972947, 58936313, 59598391, 60434851, 61575373, 62283583, 63091213, 64224187, 65351047, 65934391, 66994189, 67815221, 68707517, 69572137, 70626991, 71470067, 72794999, 73770857, 74563189, 75429209, 76125589, 76912819, 77898251, 78588221, 79869953, 80999999, 81757763, 82919227, 83887277, 84750427, 85877189, 86881037, 87871867, 88736399, 89529443, 90325967, 91565437, 92736899, 93779831, 94887077, 95824517, 96746887, 97713221, 98724071]"
   ]
  },
  {
   "cell_type": "code",
   "execution_count": 13,
   "id": "coordinate-original",
   "metadata": {},
   "outputs": [
    {
     "data": {
      "image/png": "[encoded data removed]",
      "text/plain": [
       "<Figure size 432x288 with 1 Axes>"
      ]
     },
     "metadata": {
      "needs_background": "light"
     },
     "output_type": "display_data"
    }
   ],
   "source": [
    "fig, rho = plt.subplots()\n",
    "rho.plot(prime_array_fermat, time_array_fermat,'o')\n",
    "\n",
    "rho.set(xlabel='n (module de chiffrement)', ylabel='time (s)',\n",
    "       title='Fermat Algorithm')\n",
    "rho.grid()\n",
    "plt.xscale(\"log\")\n",
    "#fig.savefig(\"test.png\")\n",
    "plt.show()"
   ]
  },
  {
   "cell_type": "code",
   "execution_count": 3,
   "id": "enabling-execution",
   "metadata": {},
   "outputs": [
    {
     "name": "stdout",
     "output_type": "stream",
     "text": [
      "Couldn't crack p = 2 q = 3\n",
      "p = 17 q = 19 --- 0.0001 seconds ---\n",
      "p = 41 q = 43 --- 0.0001 seconds ---\n",
      "p = 67 q = 71 --- 0.0003 seconds ---\n",
      "p = 97 q = 101 --- 0.0005 seconds ---\n",
      "p = 127 q = 131 --- 0.0026 seconds ---\n",
      "p = 157 q = 163 --- 0.0016 seconds ---\n",
      "p = 191 q = 193 --- 0.0014 seconds ---\n",
      "p = 227 q = 229 --- 0.0044 seconds ---\n",
      "p = 257 q = 263 --- 0.0064 seconds ---\n",
      "p = 283 q = 293 --- 0.0023 seconds ---\n",
      "p = 331 q = 337 --- 0.0049 seconds ---\n",
      "p = 367 q = 373 --- 0.0153 seconds ---\n",
      "p = 401 q = 409 --- 0.0087 seconds ---\n",
      "p = 439 q = 443 --- 0.0235 seconds ---\n",
      "p = 467 q = 479 --- 0.0206 seconds ---\n",
      "p = 509 q = 521 --- 0.0197 seconds ---\n",
      "p = 563 q = 569 --- 0.026 seconds ---\n",
      "p = 599 q = 601 --- 0.0361 seconds ---\n",
      "p = 631 q = 641 --- 0.0443 seconds ---\n",
      "p = 661 q = 673 --- 0.0041 seconds ---\n",
      "p = 709 q = 719 --- 0.0186 seconds ---\n",
      "p = 751 q = 757 --- 0.0142 seconds ---\n",
      "p = 797 q = 809 --- 0.0569 seconds ---\n",
      "p = 829 q = 839 --- 0.0176 seconds ---\n",
      "p = 877 q = 881 --- 0.0494 seconds ---\n",
      "p = 919 q = 929 --- 0.0195 seconds ---\n",
      "p = 967 q = 971 --- 0.0307 seconds ---\n",
      "p = 1009 q = 1013 --- 0.1008 seconds ---\n",
      "p = 1039 q = 1049 --- 0.0241 seconds ---\n",
      "p = 1087 q = 1091 --- 0.0829 seconds ---\n",
      "p = 1117 q = 1123 --- 0.0675 seconds ---\n",
      "p = 1171 q = 1181 --- 0.1231 seconds ---\n",
      "p = 1217 q = 1223 --- 0.1243 seconds ---\n",
      "p = 1259 q = 1277 --- 0.1326 seconds ---\n",
      "p = 1297 q = 1301 --- 0.1222 seconds ---\n",
      "p = 1327 q = 1361 --- 0.0289 seconds ---\n",
      "p = 1409 q = 1423 --- 0.1948 seconds ---\n",
      "p = 1447 q = 1451 --- 0.2103 seconds ---\n",
      "p = 1483 q = 1487 --- 0.1403 seconds ---\n",
      "p = 1523 q = 1531 --- 0.1533 seconds ---\n",
      "p = 1567 q = 1571 --- 0.0766 seconds ---\n",
      "p = 1607 q = 1609 --- 0.195 seconds ---\n",
      "p = 1637 q = 1657 --- 0.2622 seconds ---\n",
      "p = 1697 q = 1699 --- 0.2925 seconds ---\n",
      "p = 1741 q = 1747 --- 0.246 seconds ---\n",
      "p = 1787 q = 1789 --- 0.2267 seconds ---\n",
      "p = 1847 q = 1861 --- 0.3901 seconds ---\n",
      "p = 1879 q = 1889 --- 0.0922 seconds ---\n",
      "p = 1933 q = 1949 --- 0.4052 seconds ---\n",
      "p = 1993 q = 1997 --- 0.2021 seconds ---\n",
      "p = 2027 q = 2029 --- 0.3081 seconds ---\n",
      "p = 2081 q = 2083 --- 0.1738 seconds ---\n",
      "p = 2113 q = 2129 --- 0.4913 seconds ---\n",
      "p = 2153 q = 2161 --- 0.2843 seconds ---\n",
      "p = 2221 q = 2237 --- 0.1514 seconds ---\n",
      "p = 2269 q = 2273 --- 0.4397 seconds ---\n",
      "p = 2309 q = 2311 --- 0.3021 seconds ---\n",
      "p = 2351 q = 2357 --- 0.4026 seconds ---\n",
      "p = 2389 q = 2393 --- 0.5863 seconds ---\n",
      "p = 2437 q = 2441 --- 0.5812 seconds ---\n",
      "p = 2477 q = 2503 --- 0.272 seconds ---\n",
      "p = 2549 q = 2551 --- 0.2602 seconds ---\n",
      "p = 2609 q = 2617 --- 0.4796 seconds ---\n",
      "p = 2659 q = 2663 --- 0.7493 seconds ---\n",
      "p = 2689 q = 2693 --- 0.6525 seconds ---\n",
      "p = 2719 q = 2729 --- 0.1558 seconds ---\n",
      "p = 2767 q = 2777 --- 0.7809 seconds ---\n",
      "p = 2803 q = 2819 --- 0.7451 seconds ---\n",
      "p = 2857 q = 2861 --- 0.3755 seconds ---\n",
      "p = 2909 q = 2917 --- 0.5593 seconds ---\n",
      "p = 2963 q = 2969 --- 0.6638 seconds ---\n",
      "p = 3019 q = 3023 --- 0.9685 seconds ---\n",
      "p = 3067 q = 3079 --- 0.6602 seconds ---\n",
      "p = 3121 q = 3137 --- 0.3152 seconds ---\n",
      "p = 3187 q = 3191 --- 0.6755 seconds ---\n",
      "p = 3229 q = 3251 --- 0.5496 seconds ---\n",
      "p = 3299 q = 3301 --- 0.3689 seconds ---\n",
      "p = 3329 q = 3331 --- 1.3034 seconds ---\n",
      "p = 3371 q = 3373 --- 1.2079 seconds ---\n",
      "p = 3433 q = 3449 --- 1.1335 seconds ---\n",
      "p = 3469 q = 3491 --- 0.8055 seconds ---\n",
      "p = 3529 q = 3533 --- 1.4236 seconds ---\n",
      "p = 3559 q = 3571 --- 0.6119 seconds ---\n",
      "p = 3613 q = 3617 --- 0.6249 seconds ---\n",
      "p = 3659 q = 3671 --- 1.2016 seconds ---\n",
      "p = 3701 q = 3709 --- 0.2651 seconds ---\n",
      "p = 3761 q = 3767 --- 1.1034 seconds ---\n",
      "p = 3803 q = 3821 --- 1.1959 seconds ---\n",
      "p = 3853 q = 3863 --- 0.3852 seconds ---\n",
      "p = 3911 q = 3917 --- 1.3006 seconds ---\n",
      "p = 3943 q = 3947 --- 0.7028 seconds ---\n",
      "p = 4007 q = 4013 --- 1.2101 seconds ---\n",
      "p = 4051 q = 4057 --- 1.092 seconds ---\n",
      "p = 4099 q = 4111 --- 0.6161 seconds ---\n",
      "p = 4153 q = 4157 --- 0.8442 seconds ---\n",
      "p = 4217 q = 4219 --- 1.2944 seconds ---\n",
      "p = 4253 q = 4259 --- 1.5889 seconds ---\n",
      "p = 4289 q = 4297 --- 1.3933 seconds ---\n",
      "p = 4357 q = 4363 --- 1.0849 seconds ---\n",
      "p = 4421 q = 4423 --- 1.9544 seconds ---\n",
      "p = 4463 q = 4481 --- 1.5792 seconds ---\n",
      "p = 4517 q = 4519 --- 1.5 seconds ---\n",
      "p = 4567 q = 4583 --- 0.9875 seconds ---\n",
      "p = 4637 q = 4639 --- 1.512 seconds ---\n",
      "p = 4663 q = 4673 --- 0.532 seconds ---\n",
      "p = 4723 q = 4729 --- 2.103 seconds ---\n",
      "p = 4787 q = 4789 --- 1.6648 seconds ---\n",
      "p = 4817 q = 4831 --- 1.5475 seconds ---\n",
      "p = 4903 q = 4909 --- 2.1935 seconds ---\n",
      "p = 4943 q = 4951 --- 2.4966 seconds ---\n",
      "p = 4987 q = 4993 --- 1.1803 seconds ---\n",
      "p = 5021 q = 5023 --- 0.8501 seconds ---\n",
      "p = 5081 q = 5087 --- 2.2316 seconds ---\n",
      "p = 5119 q = 5147 --- 1.8999 seconds ---\n",
      "p = 5189 q = 5197 --- 1.891 seconds ---\n",
      "p = 5237 q = 5261 --- 2.3179 seconds ---\n",
      "p = 5303 q = 5309 --- 2.299 seconds ---\n",
      "p = 5381 q = 5387 --- 2.3072 seconds ---\n",
      "p = 5417 q = 5419 --- 2.3217 seconds ---\n",
      "p = 5449 q = 5471 --- 0.5385 seconds ---\n",
      "p = 5503 q = 5507 --- 1.4273 seconds ---\n",
      "p = 5557 q = 5563 --- 1.4879 seconds ---\n",
      "p = 5623 q = 5639 --- 3.3262 seconds ---\n",
      "p = 5657 q = 5659 --- 2.344 seconds ---\n",
      "p = 5701 q = 5711 --- 1.093 seconds ---\n",
      "p = 5749 q = 5779 --- 0.7986 seconds ---\n",
      "p = 5813 q = 5821 --- 0.5988 seconds ---\n",
      "p = 5851 q = 5857 --- 0.6375 seconds ---\n",
      "p = 5881 q = 5897 --- 1.9435 seconds ---\n",
      "p = 5953 q = 5981 --- 3.0267 seconds ---\n",
      "p = 6037 q = 6043 --- 1.8067 seconds ---\n",
      "p = 6079 q = 6089 --- 0.9051 seconds ---\n",
      "p = 6131 q = 6133 --- 3.4219 seconds ---\n",
      "p = 6197 q = 6199 --- 2.9328 seconds ---\n",
      "p = 6229 q = 6247 --- 2.9134 seconds ---\n",
      "p = 6277 q = 6287 --- 3.9913 seconds ---\n",
      "p = 6323 q = 6329 --- 3.55 seconds ---\n",
      "p = 6361 q = 6367 --- 3.4075 seconds ---\n",
      "p = 6421 q = 6427 --- 3.4015 seconds ---\n",
      "p = 6481 q = 6491 --- 3.0534 seconds ---\n",
      "p = 6553 q = 6563 --- 1.257 seconds ---\n",
      "p = 6599 q = 6607 --- 3.5046 seconds ---\n",
      "p = 6661 q = 6673 --- 1.8387 seconds ---\n",
      "p = 6703 q = 6709 --- 4.4902 seconds ---\n",
      "p = 6763 q = 6779 --- 4.716 seconds ---\n",
      "p = 6823 q = 6827 --- 2.3644 seconds ---\n",
      "p = 6863 q = 6869 --- 3.7381 seconds ---\n",
      "p = 6911 q = 6917 --- 4.0524 seconds ---\n",
      "p = 6967 q = 6971 --- 3.5921 seconds ---\n",
      "p = 7001 q = 7013 --- 4.2716 seconds ---\n",
      "p = 7057 q = 7069 --- 3.9497 seconds ---\n",
      "p = 7127 q = 7129 --- 3.9007 seconds ---\n",
      "p = 7193 q = 7207 --- 2.5626 seconds ---\n",
      "p = 7237 q = 7243 --- 2.4736 seconds ---\n",
      "p = 7307 q = 7309 --- 3.8604 seconds ---\n",
      "p = 7351 q = 7369 --- 1.8125 seconds ---\n",
      "p = 7451 q = 7457 --- 4.7324 seconds ---\n",
      "p = 7489 q = 7499 --- 1.5268 seconds ---\n",
      "p = 7537 q = 7541 --- 5.6682 seconds ---\n",
      "p = 7573 q = 7577 --- 2.9581 seconds ---\n",
      "p = 7607 q = 7621 --- 3.2966 seconds ---\n",
      "p = 7673 q = 7681 --- 0.6926 seconds ---\n",
      "p = 7717 q = 7723 --- 3.0761 seconds ---\n",
      "p = 7759 q = 7789 --- 1.4874 seconds ---\n",
      "p = 7841 q = 7853 --- 5.0568 seconds ---\n",
      "p = 7883 q = 7901 --- 5.1483 seconds ---\n",
      "p = 7937 q = 7949 --- 5.208 seconds ---\n",
      "p = 8011 q = 8017 --- 3.5258 seconds ---\n",
      "p = 8081 q = 8087 --- 5.5522 seconds ---\n",
      "p = 8117 q = 8123 --- 5.6685 seconds ---\n",
      "p = 8179 q = 8191 --- 2.9445 seconds ---\n",
      "p = 8233 q = 8237 --- 3.552 seconds ---\n",
      "p = 8287 q = 8291 --- 2.3554 seconds ---\n",
      "p = 8329 q = 8353 --- 6.8711 seconds ---\n",
      "p = 8389 q = 8419 --- 1.6889 seconds ---\n",
      "p = 8447 q = 8461 --- 3.7798 seconds ---\n",
      "p = 8527 q = 8537 --- 8.75 seconds ---\n",
      "p = 8581 q = 8597 --- 7.2993 seconds ---\n",
      "p = 8629 q = 8641 --- 7.5098 seconds ---\n",
      "p = 8681 q = 8689 --- 5.1172 seconds ---\n",
      "p = 8719 q = 8731 --- 2.7103 seconds ---\n",
      "p = 8761 q = 8779 --- 8.134 seconds ---\n",
      "p = 8821 q = 8831 --- 7.6038 seconds ---\n",
      "p = 8863 q = 8867 --- 3.7508 seconds ---\n",
      "p = 8933 q = 8941 --- 7.2771 seconds ---\n",
      "p = 8999 q = 9001 --- 8.5252 seconds ---\n",
      "p = 9041 q = 9043 --- 8.5519 seconds ---\n",
      "p = 9103 q = 9109 --- 8.1985 seconds ---\n",
      "p = 9157 q = 9161 --- 0.9747 seconds ---\n",
      "p = 9203 q = 9209 --- 6.9 seconds ---\n",
      "p = 9257 q = 9277 --- 8.3217 seconds ---\n",
      "p = 9319 q = 9323 --- 8.8035 seconds ---\n",
      "p = 9371 q = 9377 --- 7.2466 seconds ---\n",
      "p = 9419 q = 9421 --- 9.8034 seconds ---\n",
      "p = 9461 q = 9463 --- 10.3513 seconds ---\n",
      "p = 9497 q = 9511 --- 5.3129 seconds ---\n",
      "p = 9551 q = 9587 --- 7.7111 seconds ---\n",
      "p = 9629 q = 9631 --- 9.4676 seconds ---\n",
      "p = 9679 q = 9689 --- 2.3101 seconds ---\n",
      "p = 9739 q = 9743 --- 9.4102 seconds ---\n",
      "p = 9787 q = 9791 --- 8.4091 seconds ---\n",
      "p = 9833 q = 9839 --- 8.2935 seconds ---\n"
     ]
    },
    {
     "name": "stdout",
     "output_type": "stream",
     "text": [
      "p = 9883 q = 9887 --- 4.9216 seconds ---\n",
      "p = 9931 q = 9941 --- 12.2592 seconds ---\n",
      "Sucess rate: 204/1\n",
      "[0.0001, 0.0001, 0.0003, 0.0005, 0.0026, 0.0016, 0.0014, 0.0044, 0.0064, 0.0023, 0.0049, 0.0153, 0.0087, 0.0235, 0.0206, 0.0197, 0.026, 0.0361, 0.0443, 0.0041, 0.0186, 0.0142, 0.0569, 0.0176, 0.0494, 0.0195, 0.0307, 0.1008, 0.0241, 0.0829, 0.0675, 0.1231, 0.1243, 0.1326, 0.1222, 0.0289, 0.1948, 0.2103, 0.1403, 0.1533, 0.0766, 0.195, 0.2622, 0.2925, 0.246, 0.2267, 0.3901, 0.0922, 0.4052, 0.2021, 0.3081, 0.1738, 0.4913, 0.2843, 0.1514, 0.4397, 0.3021, 0.4026, 0.5863, 0.5812, 0.272, 0.2602, 0.4796, 0.7493, 0.6525, 0.1558, 0.7809, 0.7451, 0.3755, 0.5593, 0.6638, 0.9685, 0.6602, 0.3152, 0.6755, 0.5496, 0.3689, 1.3034, 1.2079, 1.1335, 0.8055, 1.4236, 0.6119, 0.6249, 1.2016, 0.2651, 1.1034, 1.1959, 0.3852, 1.3006, 0.7028, 1.2101, 1.092, 0.6161, 0.8442, 1.2944, 1.5889, 1.3933, 1.0849, 1.9544, 1.5792, 1.5, 0.9875, 1.512, 0.532, 2.103, 1.6648, 1.5475, 2.1935, 2.4966, 1.1803, 0.8501, 2.2316, 1.8999, 1.891, 2.3179, 2.299, 2.3072, 2.3217, 0.5385, 1.4273, 1.4879, 3.3262, 2.344, 1.093, 0.7986, 0.5988, 0.6375, 1.9435, 3.0267, 1.8067, 0.9051, 3.4219, 2.9328, 2.9134, 3.9913, 3.55, 3.4075, 3.4015, 3.0534, 1.257, 3.5046, 1.8387, 4.4902, 4.716, 2.3644, 3.7381, 4.0524, 3.5921, 4.2716, 3.9497, 3.9007, 2.5626, 2.4736, 3.8604, 1.8125, 4.7324, 1.5268, 5.6682, 2.9581, 3.2966, 0.6926, 3.0761, 1.4874, 5.0568, 5.1483, 5.208, 3.5258, 5.5522, 5.6685, 2.9445, 3.552, 2.3554, 6.8711, 1.6889, 3.7798, 8.75, 7.2993, 7.5098, 5.1172, 2.7103, 8.134, 7.6038, 3.7508, 7.2771, 8.5252, 8.5519, 8.1985, 0.9747, 6.9, 8.3217, 8.8035, 7.2466, 9.8034, 10.3513, 5.3129, 7.7111, 9.4676, 2.3101, 9.4102, 8.4091, 8.2935, 4.9216, 12.2592]\n",
      "[323, 1763, 4757, 9797, 16637, 25591, 36863, 51983, 67591, 82919, 111547, 136891, 164009, 194477, 223693, 265189, 320347, 359999, 404471, 444853, 509771, 568507, 644773, 695531, 772637, 853751, 938957, 1022117, 1089911, 1185917, 1254391, 1382951, 1488391, 1607743, 1687397, 1806047, 2005007, 2099597, 2205221, 2331713, 2461757, 2585663, 2712509, 2883203, 3041527, 3196943, 3437267, 3549431, 3767417, 3980021, 4112783, 4334723, 4498577, 4652633, 4968377, 5157437, 5336099, 5541307, 5716877, 5948717, 6199931, 6502499, 6827753, 7080917, 7241477, 7420151, 7683959, 7901657, 8173877, 8485553, 8797147, 9126437, 9443293, 9790577, 10169717, 10497479, 10889999, 11088899, 11370383, 11840417, 12110279, 12467957, 12709189, 13068221, 13432189, 13727009, 14167687, 14531263, 14884139, 15319387, 15563021, 16080091, 16434907, 16850989, 17264021, 17791523, 18113527, 18429833, 19009591, 19554083, 19998703, 20412323, 20930561, 21511043, 21790199, 22335067, 22924943, 23270927, 24068827, 24472793, 24900091, 25220483, 25847047, 26347493, 26967233, 27551857, 28153627, 28987447, 29354723, 29811479, 30305021, 30913591, 31708097, 32012963, 32558411, 33223471, 33837473, 34269307, 34680257, 35604893, 36481591, 37015031, 37601423, 38415203, 38912563, 39463499, 40018267, 40500487, 41267767, 42068171, 43007339, 43599593, 44448853, 44970427, 45846377, 46580621, 47141947, 47803387, 48566957, 49098013, 49885933, 50808383, 51839951, 52417591, 53406863, 54169519, 55562107, 56160011, 56836517, 57380621, 57972947, 58936313, 59598391, 60434851, 61575373, 62283583, 63091213, 64224187, 65351047, 65934391, 66994189, 67815221, 68707517, 69572137, 70626991, 71470067, 72794999, 73770857, 74563189, 75429209, 76125589, 76912819, 77898251, 78588221, 79869953, 80999999, 81757763, 82919227, 83887277, 84750427, 85877189, 86881037, 87871867, 88736399, 89529443, 90325967, 91565437, 92736899, 93779831, 94887077, 95824517, 96746887, 97713221, 98724071]\n"
     ]
    }
   ],
   "source": [
    "time_array_fermat, prime_array_fermat = tm.time_crack(fermat.crack_primes,10000)"
   ]
  },
  {
   "cell_type": "markdown",
   "id": "inner-population",
   "metadata": {},
   "source": [
    "Sucess rate: 204/1  \n",
    "Pre calculated values for up to 10000"
   ]
  },
  {
   "cell_type": "code",
   "execution_count": 4,
   "id": "interesting-closure",
   "metadata": {},
   "outputs": [],
   "source": [
    "time_array_fermat = [0.0001, 0.0001, 0.0003, 0.0005, 0.0026, 0.0016, 0.0014, 0.0044, 0.0064, 0.0023, 0.0049, 0.0153, 0.0087, 0.0235, 0.0206, 0.0197, 0.026, 0.0361, 0.0443, 0.0041, 0.0186, 0.0142, 0.0569, 0.0176, 0.0494, 0.0195, 0.0307, 0.1008, 0.0241, 0.0829, 0.0675, 0.1231, 0.1243, 0.1326, 0.1222, 0.0289, 0.1948, 0.2103, 0.1403, 0.1533, 0.0766, 0.195, 0.2622, 0.2925, 0.246, 0.2267, 0.3901, 0.0922, 0.4052, 0.2021, 0.3081, 0.1738, 0.4913, 0.2843, 0.1514, 0.4397, 0.3021, 0.4026, 0.5863, 0.5812, 0.272, 0.2602, 0.4796, 0.7493, 0.6525, 0.1558, 0.7809, 0.7451, 0.3755, 0.5593, 0.6638, 0.9685, 0.6602, 0.3152, 0.6755, 0.5496, 0.3689, 1.3034, 1.2079, 1.1335, 0.8055, 1.4236, 0.6119, 0.6249, 1.2016, 0.2651, 1.1034, 1.1959, 0.3852, 1.3006, 0.7028, 1.2101, 1.092, 0.6161, 0.8442, 1.2944, 1.5889, 1.3933, 1.0849, 1.9544, 1.5792, 1.5, 0.9875, 1.512, 0.532, 2.103, 1.6648, 1.5475, 2.1935, 2.4966, 1.1803, 0.8501, 2.2316, 1.8999, 1.891, 2.3179, 2.299, 2.3072, 2.3217, 0.5385, 1.4273, 1.4879, 3.3262, 2.344, 1.093, 0.7986, 0.5988, 0.6375, 1.9435, 3.0267, 1.8067, 0.9051, 3.4219, 2.9328, 2.9134, 3.9913, 3.55, 3.4075, 3.4015, 3.0534, 1.257, 3.5046, 1.8387, 4.4902, 4.716, 2.3644, 3.7381, 4.0524, 3.5921, 4.2716, 3.9497, 3.9007, 2.5626, 2.4736, 3.8604, 1.8125, 4.7324, 1.5268, 5.6682, 2.9581, 3.2966, 0.6926, 3.0761, 1.4874, 5.0568, 5.1483, 5.208, 3.5258, 5.5522, 5.6685, 2.9445, 3.552, 2.3554, 6.8711, 1.6889, 3.7798, 8.75, 7.2993, 7.5098, 5.1172, 2.7103, 8.134, 7.6038, 3.7508, 7.2771, 8.5252, 8.5519, 8.1985, 0.9747, 6.9, 8.3217, 8.8035, 7.2466, 9.8034, 10.3513, 5.3129, 7.7111, 9.4676, 2.3101, 9.4102, 8.4091, 8.2935, 4.9216, 12.2592]\n",
    "prime_array_fermat = [323, 1763, 4757, 9797, 16637, 25591, 36863, 51983, 67591, 82919, 111547, 136891, 164009, 194477, 223693, 265189, 320347, 359999, 404471, 444853, 509771, 568507, 644773, 695531, 772637, 853751, 938957, 1022117, 1089911, 1185917, 1254391, 1382951, 1488391, 1607743, 1687397, 1806047, 2005007, 2099597, 2205221, 2331713, 2461757, 2585663, 2712509, 2883203, 3041527, 3196943, 3437267, 3549431, 3767417, 3980021, 4112783, 4334723, 4498577, 4652633, 4968377, 5157437, 5336099, 5541307, 5716877, 5948717, 6199931, 6502499, 6827753, 7080917, 7241477, 7420151, 7683959, 7901657, 8173877, 8485553, 8797147, 9126437, 9443293, 9790577, 10169717, 10497479, 10889999, 11088899, 11370383, 11840417, 12110279, 12467957, 12709189, 13068221, 13432189, 13727009, 14167687, 14531263, 14884139, 15319387, 15563021, 16080091, 16434907, 16850989, 17264021, 17791523, 18113527, 18429833, 19009591, 19554083, 19998703, 20412323, 20930561, 21511043, 21790199, 22335067, 22924943, 23270927, 24068827, 24472793, 24900091, 25220483, 25847047, 26347493, 26967233, 27551857, 28153627, 28987447, 29354723, 29811479, 30305021, 30913591, 31708097, 32012963, 32558411, 33223471, 33837473, 34269307, 34680257, 35604893, 36481591, 37015031, 37601423, 38415203, 38912563, 39463499, 40018267, 40500487, 41267767, 42068171, 43007339, 43599593, 44448853, 44970427, 45846377, 46580621, 47141947, 47803387, 48566957, 49098013, 49885933, 50808383, 51839951, 52417591, 53406863, 54169519, 55562107, 56160011, 56836517, 57380621, 57972947, 58936313, 59598391, 60434851, 61575373, 62283583, 63091213, 64224187, 65351047, 65934391, 66994189, 67815221, 68707517, 69572137, 70626991, 71470067, 72794999, 73770857, 74563189, 75429209, 76125589, 76912819, 77898251, 78588221, 79869953, 80999999, 81757763, 82919227, 83887277, 84750427, 85877189, 86881037, 87871867, 88736399, 89529443, 90325967, 91565437, 92736899, 93779831, 94887077, 95824517, 96746887, 97713221, 98724071]\n"
   ]
  },
  {
   "cell_type": "code",
   "execution_count": 5,
   "id": "czech-liechtenstein",
   "metadata": {},
   "outputs": [
    {
     "data": {
      "image/png": "[encoded data removed]",
      "text/plain": [
       "<Figure size 432x288 with 1 Axes>"
      ]
     },
     "metadata": {
      "needs_background": "light"
     },
     "output_type": "display_data"
    }
   ],
   "source": [
    "fig, fermat = plt.subplots()\n",
    "fermat.plot(prime_array_fermat, time_array_fermat,'o')\n",
    "\n",
    "fermat.set(xlabel='n (module de chiffrement)', ylabel='time (s)',\n",
    "       title='Fermat Algorithm')\n",
    "fermat.grid()\n",
    "plt.xscale(\"log\")\n",
    "#fig.savefig(\"test.png\")\n",
    "plt.show()"
   ]
  },
  {
   "cell_type": "markdown",
   "id": "demanding-flour",
   "metadata": {},
   "source": [
    "Pre calulcated values for big numbers"
   ]
  },
  {
   "cell_type": "code",
   "execution_count": 9,
   "id": "extreme-hybrid",
   "metadata": {},
   "outputs": [],
   "source": [
    "bits_fermat = [6, 8, 10, 12,14, 16,18, 20, 22, 24, 26, 28, 30, 32, 34, 36, 38, 40, 42, 44, 46, 48, 50, 52, 54, 56, 58, 60, 62]\n",
    "time_fermat = [0.0, 0.0, 0.0, 0.0, 0.0, 0.0, 0.0, 0.0, 0.0, 0.0001, 0.0003, 0.0001, 0.0001, 0.0008, 0.0, 0.0109, 0.0127, 0.0886, 0.0824, 0.0353, 0.0018, 0.0323, 0.1987, 0.2663, 13.5137, 41.8314, 9.1224, 207.9861, 212.7311]"
   ]
  },
  {
   "cell_type": "code",
   "execution_count": 11,
   "id": "canadian-australian",
   "metadata": {},
   "outputs": [
    {
     "data": {
      "image/png": "[encoded data removed]",
      "text/plain": [
       "<Figure size 432x288 with 1 Axes>"
      ]
     },
     "metadata": {
      "needs_background": "light"
     },
     "output_type": "display_data"
    }
   ],
   "source": [
    "fig, p_1 = plt.subplots()\n",
    "p_1.plot(bits_fermat, time_fermat,'o')\n",
    "\n",
    "p_1.set(xlabel='bits', ylabel='time (s)',\n",
    "       title='P-1 Algorithm')\n",
    "p_1.grid()\n",
    "\n",
    "#fig.savefig(\"test.png\")\n",
    "plt.show()"
   ]
  },
  {
   "cell_type": "markdown",
   "id": "verbal-extra",
   "metadata": {},
   "source": [
    "P-1 pollard:"
   ]
  },
  {
   "cell_type": "code",
   "execution_count": 2,
   "id": "stuffed-albania",
   "metadata": {},
   "outputs": [
    {
     "name": "stdout",
     "output_type": "stream",
     "text": [
      "p = 3 q = 2 --- 0.0 seconds ---\n",
      "p = 17 q = 19 --- 0.0001 seconds ---\n",
      "p = 41 q = 43 --- 0.0001 seconds ---\n",
      "p = 71 q = 67 --- 0.0003 seconds ---\n",
      "p = 97 q = 101 --- 0.0003 seconds ---\n",
      "p = 127 q = 131 --- 0.002 seconds ---\n",
      "p = 163 q = 157 --- 0.0019 seconds ---\n",
      "p = 193 q = 191 --- 0.0016 seconds ---\n",
      "p = 229 q = 227 --- 0.0046 seconds ---\n",
      "p = 257 q = 263 --- 0.0072 seconds ---\n",
      "p = 283 q = 293 --- 0.005 seconds ---\n",
      "p = 331 q = 337 --- 0.0053 seconds ---\n",
      "p = 373 q = 367 --- 0.0144 seconds ---\n",
      "p = 401 q = 409 --- 0.0109 seconds ---\n",
      "p = 443 q = 439 --- 0.0171 seconds ---\n",
      "p = 467 q = 479 --- 0.0541 seconds ---\n",
      "p = 521 q = 509 --- 0.0183 seconds ---\n",
      "p = 569 q = 563 --- 0.0255 seconds ---\n",
      "p = 601 q = 599 --- 0.037 seconds ---\n",
      "p = 631 q = 641 --- 0.0454 seconds ---\n",
      "p = 673 q = 661 --- 0.0045 seconds ---\n",
      "p = 709 q = 719 --- 0.0133 seconds ---\n",
      "p = 757 q = 751 --- 0.0113 seconds ---\n",
      "p = 809 q = 797 --- 0.0588 seconds ---\n",
      "p = 829 q = 839 --- 0.0243 seconds ---\n",
      "p = 881 q = 877 --- 0.0584 seconds ---\n",
      "p = 919 q = 929 --- 0.021 seconds ---\n",
      "p = 967 q = 971 --- 0.034 seconds ---\n",
      "p = 1009 q = 1013 --- 0.0951 seconds ---\n",
      "p = 1049 q = 1039 --- 0.0446 seconds ---\n",
      "p = 1091 q = 1087 --- 0.0951 seconds ---\n",
      "p = 1123 q = 1117 --- 0.0576 seconds ---\n",
      "p = 1171 q = 1181 --- 0.1095 seconds ---\n",
      "p = 1217 q = 1223 --- 0.1182 seconds ---\n",
      "p = 1277 q = 1259 --- 0.1576 seconds ---\n",
      "p = 1297 q = 1301 --- 0.134 seconds ---\n",
      "Couldn't crack p = 1327 q = 1361\n",
      "p = 1409 q = 1423 --- 0.1823 seconds ---\n",
      "p = 1451 q = 1447 --- 0.1921 seconds ---\n",
      "p = 1483 q = 1487 --- 0.1415 seconds ---\n",
      "p = 1531 q = 1523 --- 0.1626 seconds ---\n",
      "p = 1567 q = 1571 --- 0.0801 seconds ---\n",
      "p = 1609 q = 1607 --- 0.2095 seconds ---\n",
      "p = 1657 q = 1637 --- 0.281 seconds ---\n",
      "p = 1697 q = 1699 --- 0.2093 seconds ---\n",
      "p = 1741 q = 1747 --- 0.2318 seconds ---\n",
      "p = 1787 q = 1789 --- 0.3549 seconds ---\n",
      "p = 1861 q = 1847 --- 0.3266 seconds ---\n",
      "p = 1889 q = 1879 --- 0.087 seconds ---\n",
      "p = 1933 q = 1949 --- 0.4357 seconds ---\n",
      "p = 1993 q = 1997 --- 0.2272 seconds ---\n",
      "p = 2029 q = 2027 --- 0.3207 seconds ---\n",
      "p = 2081 q = 2083 --- 0.1417 seconds ---\n",
      "p = 2113 q = 2129 --- 0.467 seconds ---\n",
      "p = 2161 q = 2153 --- 0.3688 seconds ---\n",
      "p = 2221 q = 2237 --- 0.1994 seconds ---\n",
      "p = 2269 q = 2273 --- 0.4994 seconds ---\n",
      "p = 2311 q = 2309 --- 0.3407 seconds ---\n",
      "p = 2357 q = 2351 --- 0.4379 seconds ---\n",
      "p = 2393 q = 2389 --- 0.5269 seconds ---\n",
      "p = 2437 q = 2441 --- 0.6485 seconds ---\n",
      "p = 2503 q = 2477 --- 0.3285 seconds ---\n",
      "p = 2549 q = 2551 --- 0.2821 seconds ---\n",
      "p = 2617 q = 2609 --- 0.5315 seconds ---\n",
      "p = 2663 q = 2659 --- 0.7108 seconds ---\n",
      "p = 2689 q = 2693 --- 0.8379 seconds ---\n",
      "p = 2729 q = 2719 --- 0.1919 seconds ---\n",
      "p = 2777 q = 2767 --- 0.8199 seconds ---\n",
      "p = 2803 q = 2819 --- 0.9006 seconds ---\n",
      "p = 2861 q = 2857 --- 0.3154 seconds ---\n",
      "p = 2917 q = 2909 --- 0.6876 seconds ---\n",
      "p = 2969 q = 2963 --- 0.7778 seconds ---\n",
      "p = 3019 q = 3023 --- 1.2373 seconds ---\n",
      "p = 3079 q = 3067 --- 0.8053 seconds ---\n",
      "p = 3121 q = 3137 --- 0.3737 seconds ---\n",
      "p = 3191 q = 3187 --- 0.8271 seconds ---\n",
      "p = 3251 q = 3229 --- 0.8183 seconds ---\n",
      "p = 3301 q = 3299 --- 0.6564 seconds ---\n",
      "p = 3329 q = 3331 --- 1.2104 seconds ---\n",
      "p = 3373 q = 3371 --- 1.3017 seconds ---\n",
      "p = 3433 q = 3449 --- 1.2963 seconds ---\n",
      "p = 3469 q = 3491 --- 1.1832 seconds ---\n",
      "p = 3529 q = 3533 --- 1.259 seconds ---\n",
      "p = 3571 q = 3559 --- 0.7239 seconds ---\n",
      "p = 3613 q = 3617 --- 0.6696 seconds ---\n",
      "p = 3659 q = 3671 --- 1.1632 seconds ---\n",
      "p = 3701 q = 3709 --- 0.2398 seconds ---\n",
      "p = 3761 q = 3767 --- 1.2053 seconds ---\n",
      "p = 3821 q = 3803 --- 1.3875 seconds ---\n",
      "p = 3853 q = 3863 --- 0.4172 seconds ---\n",
      "p = 3911 q = 3917 --- 1.4002 seconds ---\n",
      "p = 3943 q = 3947 --- 0.8907 seconds ---\n",
      "p = 4013 q = 4007 --- 1.3152 seconds ---\n",
      "p = 4051 q = 4057 --- 1.3812 seconds ---\n",
      "p = 4111 q = 4099 --- 0.577 seconds ---\n",
      "p = 4153 q = 4157 --- 0.892 seconds ---\n",
      "p = 4217 q = 4219 --- 1.4087 seconds ---\n",
      "p = 4253 q = 4259 --- 2.6808 seconds ---\n",
      "p = 4289 q = 4297 --- 1.4096 seconds ---\n",
      "p = 4357 q = 4363 --- 0.924 seconds ---\n",
      "p = 4421 q = 4423 --- 2.1559 seconds ---\n",
      "p = 4481 q = 4463 --- 1.97 seconds ---\n",
      "p = 4519 q = 4517 --- 1.5635 seconds ---\n",
      "p = 4583 q = 4567 --- 1.2707 seconds ---\n",
      "p = 4637 q = 4639 --- 1.7319 seconds ---\n",
      "p = 4663 q = 4673 --- 0.7735 seconds ---\n",
      "p = 4729 q = 4723 --- 2.4481 seconds ---\n",
      "p = 4789 q = 4787 --- 1.7858 seconds ---\n",
      "p = 4831 q = 4817 --- 1.6227 seconds ---\n",
      "p = 4903 q = 4909 --- 2.6543 seconds ---\n",
      "p = 4951 q = 4943 --- 2.9991 seconds ---\n",
      "p = 4993 q = 4987 --- 1.3164 seconds ---\n",
      "p = 5023 q = 5021 --- 0.9631 seconds ---\n",
      "p = 5081 q = 5087 --- 2.2616 seconds ---\n",
      "p = 5147 q = 5119 --- 1.9545 seconds ---\n",
      "p = 5197 q = 5189 --- 2.2084 seconds ---\n",
      "p = 5237 q = 5261 --- 2.3113 seconds ---\n",
      "p = 5303 q = 5309 --- 2.6392 seconds ---\n",
      "p = 5381 q = 5387 --- 2.5502 seconds ---\n",
      "p = 5419 q = 5417 --- 2.4239 seconds ---\n",
      "p = 5449 q = 5471 --- 0.602 seconds ---\n",
      "p = 5503 q = 5507 --- 1.6834 seconds ---\n",
      "p = 5563 q = 5557 --- 1.7443 seconds ---\n",
      "p = 5623 q = 5639 --- 4.0155 seconds ---\n",
      "p = 5659 q = 5657 --- 2.5827 seconds ---\n",
      "p = 5701 q = 5711 --- 1.1642 seconds ---\n",
      "p = 5779 q = 5749 --- 0.896 seconds ---\n",
      "p = 5821 q = 5813 --- 0.5716 seconds ---\n",
      "p = 5851 q = 5857 --- 0.5781 seconds ---\n",
      "p = 5881 q = 5897 --- 2.1127 seconds ---\n",
      "p = 5981 q = 5953 --- 3.8943 seconds ---\n",
      "p = 6043 q = 6037 --- 1.9005 seconds ---\n",
      "p = 6089 q = 6079 --- 1.4171 seconds ---\n",
      "p = 6133 q = 6131 --- 3.4037 seconds ---\n",
      "p = 6199 q = 6197 --- 3.8823 seconds ---\n",
      "p = 6229 q = 6247 --- 3.0669 seconds ---\n",
      "p = 6287 q = 6277 --- 4.4261 seconds ---\n",
      "p = 6323 q = 6329 --- 3.6036 seconds ---\n",
      "p = 6361 q = 6367 --- 3.1638 seconds ---\n",
      "p = 6427 q = 6421 --- 3.6444 seconds ---\n",
      "p = 6481 q = 6491 --- 2.9615 seconds ---\n",
      "p = 6553 q = 6563 --- 1.12 seconds ---\n",
      "p = 6607 q = 6599 --- 3.4972 seconds ---\n",
      "p = 6661 q = 6673 --- 1.6108 seconds ---\n",
      "p = 6709 q = 6703 --- 4.4809 seconds ---\n",
      "p = 6763 q = 6779 --- 4.7448 seconds ---\n",
      "p = 6823 q = 6827 --- 2.7512 seconds ---\n",
      "p = 6863 q = 6869 --- 4.0245 seconds ---\n",
      "p = 6917 q = 6911 --- 3.9428 seconds ---\n",
      "p = 6971 q = 6967 --- 3.4408 seconds ---\n",
      "p = 7001 q = 7013 --- 4.3342 seconds ---\n",
      "p = 7057 q = 7069 --- 4.0228 seconds ---\n",
      "p = 7129 q = 7127 --- 4.0749 seconds ---\n",
      "p = 7193 q = 7207 --- 2.7078 seconds ---\n",
      "p = 7237 q = 7243 --- 2.7202 seconds ---\n",
      "p = 7309 q = 7307 --- 4.4515 seconds ---\n",
      "p = 7351 q = 7369 --- 1.9519 seconds ---\n",
      "p = 7451 q = 7457 --- 5.6055 seconds ---\n",
      "p = 7489 q = 7499 --- 1.5651 seconds ---\n",
      "p = 7541 q = 7537 --- 5.4449 seconds ---\n",
      "p = 7573 q = 7577 --- 3.4822 seconds ---\n",
      "p = 7621 q = 7607 --- 3.3174 seconds ---\n",
      "p = 7681 q = 7673 --- 0.7313 seconds ---\n",
      "p = 7723 q = 7717 --- 3.065 seconds ---\n",
      "p = 7789 q = 7759 --- 1.7151 seconds ---\n",
      "p = 7841 q = 7853 --- 5.3468 seconds ---\n",
      "p = 7901 q = 7883 --- 5.7065 seconds ---\n",
      "p = 7937 q = 7949 --- 5.5176 seconds ---\n",
      "p = 8011 q = 8017 --- 3.5401 seconds ---\n",
      "p = 8081 q = 8087 --- 5.4838 seconds ---\n",
      "p = 8123 q = 8117 --- 5.9387 seconds ---\n",
      "p = 8191 q = 8179 --- 3.1999 seconds ---\n",
      "p = 8233 q = 8237 --- 4.0808 seconds ---\n",
      "p = 8291 q = 8287 --- 4.1737 seconds ---\n",
      "p = 8353 q = 8329 --- 7.4243 seconds ---\n",
      "p = 8419 q = 8389 --- 1.8565 seconds ---\n",
      "p = 8461 q = 8447 --- 4.9708 seconds ---\n",
      "p = 8527 q = 8537 --- 8.4855 seconds ---\n",
      "p = 8581 q = 8597 --- 6.8496 seconds ---\n",
      "p = 8641 q = 8629 --- 9.9372 seconds ---\n",
      "p = 8681 q = 8689 --- 5.8576 seconds ---\n",
      "p = 8731 q = 8719 --- 3.0353 seconds ---\n",
      "p = 8779 q = 8761 --- 8.4402 seconds ---\n",
      "p = 8821 q = 8831 --- 8.5004 seconds ---\n",
      "p = 8867 q = 8863 --- 4.5633 seconds ---\n",
      "p = 8933 q = 8941 --- 8.3461 seconds ---\n",
      "p = 9001 q = 8999 --- 9.6529 seconds ---\n",
      "p = 9041 q = 9043 --- 9.353 seconds ---\n",
      "p = 9109 q = 9103 --- 8.9358 seconds ---\n",
      "p = 9157 q = 9161 --- 0.9723 seconds ---\n",
      "p = 9203 q = 9209 --- 8.1987 seconds ---\n",
      "p = 9257 q = 9277 --- 9.5935 seconds ---\n",
      "p = 9323 q = 9319 --- 9.6645 seconds ---\n",
      "p = 9377 q = 9371 --- 8.8883 seconds ---\n",
      "p = 9421 q = 9419 --- 11.5081 seconds ---\n",
      "p = 9461 q = 9463 --- 12.6517 seconds ---\n",
      "p = 9511 q = 9497 --- 5.6759 seconds ---\n",
      "p = 9551 q = 9587 --- 8.6167 seconds ---\n",
      "p = 9629 q = 9631 --- 11.0262 seconds ---\n",
      "p = 9689 q = 9679 --- 2.4345 seconds ---\n",
      "p = 9739 q = 9743 --- 10.6413 seconds ---\n",
      "p = 9791 q = 9787 --- 9.1108 seconds ---\n",
      "p = 9833 q = 9839 --- 9.8131 seconds ---\n"
     ]
    },
    {
     "name": "stdout",
     "output_type": "stream",
     "text": [
      "p = 9883 q = 9887 --- 5.4559 seconds ---\n",
      "p = 9941 q = 9931 --- 12.1245 seconds ---\n",
      "Sucess rate: 204/1\n",
      "[0.0, 0.0001, 0.0001, 0.0003, 0.0003, 0.002, 0.0019, 0.0016, 0.0046, 0.0072, 0.005, 0.0053, 0.0144, 0.0109, 0.0171, 0.0541, 0.0183, 0.0255, 0.037, 0.0454, 0.0045, 0.0133, 0.0113, 0.0588, 0.0243, 0.0584, 0.021, 0.034, 0.0951, 0.0446, 0.0951, 0.0576, 0.1095, 0.1182, 0.1576, 0.134, 0.1823, 0.1921, 0.1415, 0.1626, 0.0801, 0.2095, 0.281, 0.2093, 0.2318, 0.3549, 0.3266, 0.087, 0.4357, 0.2272, 0.3207, 0.1417, 0.467, 0.3688, 0.1994, 0.4994, 0.3407, 0.4379, 0.5269, 0.6485, 0.3285, 0.2821, 0.5315, 0.7108, 0.8379, 0.1919, 0.8199, 0.9006, 0.3154, 0.6876, 0.7778, 1.2373, 0.8053, 0.3737, 0.8271, 0.8183, 0.6564, 1.2104, 1.3017, 1.2963, 1.1832, 1.259, 0.7239, 0.6696, 1.1632, 0.2398, 1.2053, 1.3875, 0.4172, 1.4002, 0.8907, 1.3152, 1.3812, 0.577, 0.892, 1.4087, 2.6808, 1.4096, 0.924, 2.1559, 1.97, 1.5635, 1.2707, 1.7319, 0.7735, 2.4481, 1.7858, 1.6227, 2.6543, 2.9991, 1.3164, 0.9631, 2.2616, 1.9545, 2.2084, 2.3113, 2.6392, 2.5502, 2.4239, 0.602, 1.6834, 1.7443, 4.0155, 2.5827, 1.1642, 0.896, 0.5716, 0.5781, 2.1127, 3.8943, 1.9005, 1.4171, 3.4037, 3.8823, 3.0669, 4.4261, 3.6036, 3.1638, 3.6444, 2.9615, 1.12, 3.4972, 1.6108, 4.4809, 4.7448, 2.7512, 4.0245, 3.9428, 3.4408, 4.3342, 4.0228, 4.0749, 2.7078, 2.7202, 4.4515, 1.9519, 5.6055, 1.5651, 5.4449, 3.4822, 3.3174, 0.7313, 3.065, 1.7151, 5.3468, 5.7065, 5.5176, 3.5401, 5.4838, 5.9387, 3.1999, 4.0808, 4.1737, 7.4243, 1.8565, 4.9708, 8.4855, 6.8496, 9.9372, 5.8576, 3.0353, 8.4402, 8.5004, 4.5633, 8.3461, 9.6529, 9.353, 8.9358, 0.9723, 8.1987, 9.5935, 9.6645, 8.8883, 11.5081, 12.6517, 5.6759, 8.6167, 11.0262, 2.4345, 10.6413, 9.1108, 9.8131, 5.4559, 12.1245]\n",
      "[6, 323, 1763, 4757, 9797, 16637, 25591, 36863, 51983, 67591, 82919, 111547, 136891, 164009, 194477, 223693, 265189, 320347, 359999, 404471, 444853, 509771, 568507, 644773, 695531, 772637, 853751, 938957, 1022117, 1089911, 1185917, 1254391, 1382951, 1488391, 1607743, 1687397, 2005007, 2099597, 2205221, 2331713, 2461757, 2585663, 2712509, 2883203, 3041527, 3196943, 3437267, 3549431, 3767417, 3980021, 4112783, 4334723, 4498577, 4652633, 4968377, 5157437, 5336099, 5541307, 5716877, 5948717, 6199931, 6502499, 6827753, 7080917, 7241477, 7420151, 7683959, 7901657, 8173877, 8485553, 8797147, 9126437, 9443293, 9790577, 10169717, 10497479, 10889999, 11088899, 11370383, 11840417, 12110279, 12467957, 12709189, 13068221, 13432189, 13727009, 14167687, 14531263, 14884139, 15319387, 15563021, 16080091, 16434907, 16850989, 17264021, 17791523, 18113527, 18429833, 19009591, 19554083, 19998703, 20412323, 20930561, 21511043, 21790199, 22335067, 22924943, 23270927, 24068827, 24472793, 24900091, 25220483, 25847047, 26347493, 26967233, 27551857, 28153627, 28987447, 29354723, 29811479, 30305021, 30913591, 31708097, 32012963, 32558411, 33223471, 33837473, 34269307, 34680257, 35604893, 36481591, 37015031, 37601423, 38415203, 38912563, 39463499, 40018267, 40500487, 41267767, 42068171, 43007339, 43599593, 44448853, 44970427, 45846377, 46580621, 47141947, 47803387, 48566957, 49098013, 49885933, 50808383, 51839951, 52417591, 53406863, 54169519, 55562107, 56160011, 56836517, 57380621, 57972947, 58936313, 59598391, 60434851, 61575373, 62283583, 63091213, 64224187, 65351047, 65934391, 66994189, 67815221, 68707517, 69572137, 70626991, 71470067, 72794999, 73770857, 74563189, 75429209, 76125589, 76912819, 77898251, 78588221, 79869953, 80999999, 81757763, 82919227, 83887277, 84750427, 85877189, 86881037, 87871867, 88736399, 89529443, 90325967, 91565437, 92736899, 93779831, 94887077, 95824517, 96746887, 97713221, 98724071]\n"
     ]
    }
   ],
   "source": [
    "time_array_p_1, prime_array_p_1 = tm.time_crack(p_1_pollard.crack_primes,10000)"
   ]
  },
  {
   "cell_type": "markdown",
   "id": "satisfactory-significance",
   "metadata": {},
   "source": [
    "Pre calculated values for up to 10000"
   ]
  },
  {
   "cell_type": "code",
   "execution_count": 4,
   "id": "assured-cookbook",
   "metadata": {},
   "outputs": [],
   "source": [
    "time_array_p_1 = [0.0, 0.0001, 0.0001, 0.0003, 0.0003, 0.002, 0.0019, 0.0016, 0.0046, 0.0072, 0.005, 0.0053, 0.0144, 0.0109, 0.0171, 0.0541, 0.0183, 0.0255, 0.037, 0.0454, 0.0045, 0.0133, 0.0113, 0.0588, 0.0243, 0.0584, 0.021, 0.034, 0.0951, 0.0446, 0.0951, 0.0576, 0.1095, 0.1182, 0.1576, 0.134, 0.1823, 0.1921, 0.1415, 0.1626, 0.0801, 0.2095, 0.281, 0.2093, 0.2318, 0.3549, 0.3266, 0.087, 0.4357, 0.2272, 0.3207, 0.1417, 0.467, 0.3688, 0.1994, 0.4994, 0.3407, 0.4379, 0.5269, 0.6485, 0.3285, 0.2821, 0.5315, 0.7108, 0.8379, 0.1919, 0.8199, 0.9006, 0.3154, 0.6876, 0.7778, 1.2373, 0.8053, 0.3737, 0.8271, 0.8183, 0.6564, 1.2104, 1.3017, 1.2963, 1.1832, 1.259, 0.7239, 0.6696, 1.1632, 0.2398, 1.2053, 1.3875, 0.4172, 1.4002, 0.8907, 1.3152, 1.3812, 0.577, 0.892, 1.4087, 2.6808, 1.4096, 0.924, 2.1559, 1.97, 1.5635, 1.2707, 1.7319, 0.7735, 2.4481, 1.7858, 1.6227, 2.6543, 2.9991, 1.3164, 0.9631, 2.2616, 1.9545, 2.2084, 2.3113, 2.6392, 2.5502, 2.4239, 0.602, 1.6834, 1.7443, 4.0155, 2.5827, 1.1642, 0.896, 0.5716, 0.5781, 2.1127, 3.8943, 1.9005, 1.4171, 3.4037, 3.8823, 3.0669, 4.4261, 3.6036, 3.1638, 3.6444, 2.9615, 1.12, 3.4972, 1.6108, 4.4809, 4.7448, 2.7512, 4.0245, 3.9428, 3.4408, 4.3342, 4.0228, 4.0749, 2.7078, 2.7202, 4.4515, 1.9519, 5.6055, 1.5651, 5.4449, 3.4822, 3.3174, 0.7313, 3.065, 1.7151, 5.3468, 5.7065, 5.5176, 3.5401, 5.4838, 5.9387, 3.1999, 4.0808, 4.1737, 7.4243, 1.8565, 4.9708, 8.4855, 6.8496, 9.9372, 5.8576, 3.0353, 8.4402, 8.5004, 4.5633, 8.3461, 9.6529, 9.353, 8.9358, 0.9723, 8.1987, 9.5935, 9.6645, 8.8883, 11.5081, 12.6517, 5.6759, 8.6167, 11.0262, 2.4345, 10.6413, 9.1108, 9.8131, 5.4559, 12.1245]\n",
    "prime_array_p_1 = [6, 323, 1763, 4757, 9797, 16637, 25591, 36863, 51983, 67591, 82919, 111547, 136891, 164009, 194477, 223693, 265189, 320347, 359999, 404471, 444853, 509771, 568507, 644773, 695531, 772637, 853751, 938957, 1022117, 1089911, 1185917, 1254391, 1382951, 1488391, 1607743, 1687397, 2005007, 2099597, 2205221, 2331713, 2461757, 2585663, 2712509, 2883203, 3041527, 3196943, 3437267, 3549431, 3767417, 3980021, 4112783, 4334723, 4498577, 4652633, 4968377, 5157437, 5336099, 5541307, 5716877, 5948717, 6199931, 6502499, 6827753, 7080917, 7241477, 7420151, 7683959, 7901657, 8173877, 8485553, 8797147, 9126437, 9443293, 9790577, 10169717, 10497479, 10889999, 11088899, 11370383, 11840417, 12110279, 12467957, 12709189, 13068221, 13432189, 13727009, 14167687, 14531263, 14884139, 15319387, 15563021, 16080091, 16434907, 16850989, 17264021, 17791523, 18113527, 18429833, 19009591, 19554083, 19998703, 20412323, 20930561, 21511043, 21790199, 22335067, 22924943, 23270927, 24068827, 24472793, 24900091, 25220483, 25847047, 26347493, 26967233, 27551857, 28153627, 28987447, 29354723, 29811479, 30305021, 30913591, 31708097, 32012963, 32558411, 33223471, 33837473, 34269307, 34680257, 35604893, 36481591, 37015031, 37601423, 38415203, 38912563, 39463499, 40018267, 40500487, 41267767, 42068171, 43007339, 43599593, 44448853, 44970427, 45846377, 46580621, 47141947, 47803387, 48566957, 49098013, 49885933, 50808383, 51839951, 52417591, 53406863, 54169519, 55562107, 56160011, 56836517, 57380621, 57972947, 58936313, 59598391, 60434851, 61575373, 62283583, 63091213, 64224187, 65351047, 65934391, 66994189, 67815221, 68707517, 69572137, 70626991, 71470067, 72794999, 73770857, 74563189, 75429209, 76125589, 76912819, 77898251, 78588221, 79869953, 80999999, 81757763, 82919227, 83887277, 84750427, 85877189, 86881037, 87871867, 88736399, 89529443, 90325967, 91565437, 92736899, 93779831, 94887077, 95824517, 96746887, 97713221, 98724071]"
   ]
  },
  {
   "cell_type": "code",
   "execution_count": 13,
   "id": "sealed-installation",
   "metadata": {},
   "outputs": [
    {
     "data": {
      "image/png": "[encoded data removed]",
      "text/plain": [
       "<Figure size 432x288 with 1 Axes>"
      ]
     },
     "metadata": {
      "needs_background": "light"
     },
     "output_type": "display_data"
    }
   ],
   "source": [
    "fig, p_1 = plt.subplots()\n",
    "p_1.plot(prime_array_p_1, time_array_p_1,'o')\n",
    "\n",
    "p_1.set(xlabel='n (module de chiffrement)', ylabel='time (s)',\n",
    "       title='P-1 Algorithm')\n",
    "p_1.grid()\n",
    "plt.xscale(\"log\")\n",
    "#fig.savefig(\"test.png\")\n",
    "plt.show()\n"
   ]
  }
 ],
 "metadata": {
  "kernelspec": {
   "display_name": "Python 3",
   "language": "python",
   "name": "python3"
  },
  "language_info": {
   "codemirror_mode": {
    "name": "ipython",
    "version": 3
   },
   "file_extension": ".py",
   "mimetype": "text/x-python",
   "name": "python",
   "nbconvert_exporter": "python",
   "pygments_lexer": "ipython3",
   "version": "3.9.2"
  }
 },
 "nbformat": 4,
 "nbformat_minor": 5
}
