{
 "cells": [
  {
   "cell_type": "markdown",
   "id": "c3b390e8",
   "metadata": {},
   "source": [
    "# FMSI Project Notebook\n",
    "\n",
    "Authors:\n",
    "- Benjamin Peter\n",
    "- Bastien Coutadeur\n",
    "- Alexandre Dias\n",
    "- Mathieu Guérin"
   ]
  },
  {
   "cell_type": "markdown",
   "id": "d8d0f83b",
   "metadata": {},
   "source": [
    "Importing our work:"
   ]
  },
  {
   "cell_type": "code",
   "execution_count": 29,
   "id": "ccf66d6d",
   "metadata": {},
   "outputs": [],
   "source": [
    "# Generating prime numbers\n",
    "from genPrime import erathosthene, is_prime\n",
    "from miller_rabin import MillerRabin, generate_prime\n",
    "\n",
    "# RSA Implementation\n",
    "from rsa import RSA\n",
    "\n",
    "# Cracking RSA\n",
    "import p_1_pollard\n",
    "import rho_pollard\n",
    "import fermat\n",
    "\n",
    "#Timer\n",
    "import time_cracking as tm\n",
    "\n",
    "#Plot\n",
    "import matplotlib.pyplot as plt\n",
    "\n",
    "# Helper functions\n",
    "from helper import tuple_val_eq"
   ]
  },
  {
   "cell_type": "markdown",
   "id": "0fe11eb5",
   "metadata": {},
   "source": [
    "## Prime numbers generation"
   ]
  },
  {
   "cell_type": "markdown",
   "id": "ccae91ce",
   "metadata": {},
   "source": [
    "### Sieve of Eratosthenes"
   ]
  },
  {
   "cell_type": "code",
   "execution_count": 30,
   "id": "9f2d0f8e",
   "metadata": {
    "scrolled": true
   },
   "outputs": [
    {
     "name": "stdout",
     "output_type": "stream",
     "text": [
      "Generating prime numbers between 2 and 1024...\n",
      "[2, 3, 5, 7, 11, 13, 17, 19, 23, 29, 31, 37, 41, 43, 47, 53, 59, 61, 67, 71, 73, 79, 83, 89, 97, 101, 103, 107, 109, 113, 127, 131, 137, 139, 149, 151, 157, 163, 167, 173, 179, 181, 191, 193, 197, 199, 211, 223, 227, 229, 233, 239, 241, 251, 257, 263, 269, 271, 277, 281, 283, 293, 307, 311, 313, 317, 331, 337, 347, 349, 353, 359, 367, 373, 379, 383, 389, 397, 401, 409, 419, 421, 431, 433, 439, 443, 449, 457, 461, 463, 467, 479, 487, 491, 499, 503, 509, 521, 523, 541, 547, 557, 563, 569, 571, 577, 587, 593, 599, 601, 607, 613, 617, 619, 631, 641, 643, 647, 653, 659, 661, 673, 677, 683, 691, 701, 709, 719, 727, 733, 739, 743, 751, 757, 761, 769, 773, 787, 797, 809, 811, 821, 823, 827, 829, 839, 853, 857, 859, 863, 877, 881, 883, 887, 907, 911, 919, 929, 937, 941, 947, 953, 967, 971, 977, 983, 991, 997, 1009, 1013, 1019, 1021]\n",
      "\n",
      "Success: All the numbers are prime numbers!\n"
     ]
    }
   ],
   "source": [
    "print(\"Generating prime numbers between 2 and 1024...\")\n",
    "L = erathosthene(1024)\n",
    "print(L)\n",
    "\n",
    "print()  # Newline\n",
    "not_primes = []\n",
    "for p in L:\n",
    "    if not is_prime(p):\n",
    "        not_primes.append(p)\n",
    "if not not_primes:\n",
    "    print(\"Success: All the numbers are prime numbers!\")\n",
    "else:\n",
    "    print(\"Error: Found non-prime numbers:\", not_primes)"
   ]
  },
  {
   "cell_type": "code",
   "execution_count": 31,
   "id": "866a6f84",
   "metadata": {
    "scrolled": false
   },
   "outputs": [
    {
     "name": "stdout",
     "output_type": "stream",
     "text": [
      "Generating prime numbers between 2 and 1048576...\n",
      "Success: All the numbers are prime numbers!\n"
     ]
    }
   ],
   "source": [
    "print(\"Generating prime numbers between 2 and 1048576...\")\n",
    "L = erathosthene(1048576)\n",
    "\n",
    "not_primes = []\n",
    "for p in L:\n",
    "    if not is_prime(p):\n",
    "        not_primes.append(p)\n",
    "if not not_primes:\n",
    "    print(\"Success: All the numbers are prime numbers!\")\n",
    "else:\n",
    "    print(\"Error: Found non-prime numbers:\", not_primes)"
   ]
  },
  {
   "cell_type": "markdown",
   "id": "e9d653a6",
   "metadata": {},
   "source": [
    "### Basic primality test\n",
    "\n",
    "We've implemented a basic primality test (`is_prime`), used above for checking that the sieve of eratosthenes works properly."
   ]
  },
  {
   "cell_type": "markdown",
   "id": "c58b0dd8",
   "metadata": {},
   "source": [
    "### Miller-Rabin primality test\n",
    "\n",
    "We've implemented the Miller-Rabin primality test, faster than `is_prime`, for generating large prime numbers:"
   ]
  },
  {
   "cell_type": "code",
   "execution_count": 32,
   "id": "e47524a4",
   "metadata": {},
   "outputs": [
    {
     "name": "stdout",
     "output_type": "stream",
     "text": [
      "Generate random prime numbers between 2^127 and 2^128...\n",
      "1: 212659407101257677537315165326047185203\n",
      "2: 329455217275556876933008068050725541447\n",
      "3: 233659037363431862337099720621374144431\n"
     ]
    }
   ],
   "source": [
    "print(\"Generate random prime numbers between 2^127 and 2^128...\")\n",
    "print(\"1:\", generate_prime(128))\n",
    "print(\"2:\", generate_prime(128))\n",
    "print(\"3:\", generate_prime(128))"
   ]
  },
  {
   "cell_type": "code",
   "execution_count": 33,
   "id": "0acc3f5a",
   "metadata": {},
   "outputs": [
    {
     "name": "stdout",
     "output_type": "stream",
     "text": [
      "Generate random prime numbers between 2^1023 and 2^1024...\n",
      "94419281295186173518848948488404535637615727332979012770006999533981123303045213633616250862405901105159870392603765699393161187899836010197535132295173544486165968460896901823631188108024250095159664698791361469452532534745829449353083008312161057200084212442368985455135460855032715048806314030762073320511\n"
     ]
    }
   ],
   "source": [
    "# Works for generating large prime numbers:\n",
    "print(\"Generate random prime numbers between 2^1023 and 2^1024...\")\n",
    "print(generate_prime(1024))"
   ]
  },
  {
   "cell_type": "markdown",
   "id": "803bb5f3",
   "metadata": {},
   "source": [
    "## RSA Implementation"
   ]
  },
  {
   "cell_type": "code",
   "execution_count": 34,
   "id": "62f5fdda",
   "metadata": {},
   "outputs": [
    {
     "data": {
      "text/plain": [
       "((3233, 7), (3233, 1783))"
      ]
     },
     "execution_count": 34,
     "metadata": {},
     "output_type": "execute_result"
    }
   ],
   "source": [
    "# Generate RSA public and private keys from given prime numbers\n",
    "RSA.generate_keys(61, 53)"
   ]
  },
  {
   "cell_type": "code",
   "execution_count": 35,
   "id": "80f33222",
   "metadata": {},
   "outputs": [],
   "source": [
    "# Generate a RSA object from given prime numbers\n",
    "r = RSA.generate(61, 53)"
   ]
  },
  {
   "cell_type": "code",
   "execution_count": 36,
   "id": "62896979",
   "metadata": {},
   "outputs": [
    {
     "data": {
      "text/plain": [
       "3233"
      ]
     },
     "execution_count": 36,
     "metadata": {},
     "output_type": "execute_result"
    }
   ],
   "source": [
    "# The RSA ciphering modulus\n",
    "r.n"
   ]
  },
  {
   "cell_type": "code",
   "execution_count": 37,
   "id": "90bbd887",
   "metadata": {},
   "outputs": [
    {
     "data": {
      "text/plain": [
       "7"
      ]
     },
     "execution_count": 37,
     "metadata": {},
     "output_type": "execute_result"
    }
   ],
   "source": [
    "# The RSA public exponent\n",
    "r.e"
   ]
  },
  {
   "cell_type": "code",
   "execution_count": 38,
   "id": "a0c4207c",
   "metadata": {},
   "outputs": [
    {
     "data": {
      "text/plain": [
       "(3233, 7)"
      ]
     },
     "execution_count": 38,
     "metadata": {},
     "output_type": "execute_result"
    }
   ],
   "source": [
    "# The RSA public key\n",
    "r.pub_key()"
   ]
  },
  {
   "cell_type": "code",
   "execution_count": 39,
   "id": "d3438557",
   "metadata": {},
   "outputs": [
    {
     "data": {
      "text/plain": [
       "1783"
      ]
     },
     "execution_count": 39,
     "metadata": {},
     "output_type": "execute_result"
    }
   ],
   "source": [
    "# The RSA private exponent\n",
    "r.d"
   ]
  },
  {
   "cell_type": "code",
   "execution_count": 40,
   "id": "ea4f14e5",
   "metadata": {},
   "outputs": [
    {
     "data": {
      "text/plain": [
       "(3233, 1783)"
      ]
     },
     "execution_count": 40,
     "metadata": {},
     "output_type": "execute_result"
    }
   ],
   "source": [
    "# The RSA private key\n",
    "r.priv_key()"
   ]
  },
  {
   "cell_type": "markdown",
   "id": "8ad05312",
   "metadata": {},
   "source": [
    "### Encryption"
   ]
  },
  {
   "cell_type": "code",
   "execution_count": 41,
   "id": "3fd731d2",
   "metadata": {},
   "outputs": [
    {
     "name": "stdout",
     "output_type": "stream",
     "text": [
      "Our message: Hello, world!\n"
     ]
    }
   ],
   "source": [
    "# Our clear message\n",
    "msg = \"Hello, world!\"\n",
    "print(\"Our message:\", msg)"
   ]
  },
  {
   "cell_type": "code",
   "execution_count": 42,
   "id": "8a6010ee",
   "metadata": {},
   "outputs": [
    {
     "name": "stdout",
     "output_type": "stream",
     "text": [
      "Encrypted message: [1087, 3071, 1877, 1877, 3183, 1129, 2774, 863, 3183, 1797, 1877, 2872, 2417]\n"
     ]
    }
   ],
   "source": [
    "# Encrypt a message\n",
    "encrypted_msg = r.encrypt(\"Hello, world!\")\n",
    "print(\"Encrypted message:\", encrypted_msg)"
   ]
  },
  {
   "cell_type": "markdown",
   "id": "ef89e11b",
   "metadata": {},
   "source": [
    "Encryption is done character per character."
   ]
  },
  {
   "cell_type": "markdown",
   "id": "c25723c7",
   "metadata": {},
   "source": [
    "### Decryption"
   ]
  },
  {
   "cell_type": "code",
   "execution_count": 43,
   "id": "f6b191c0",
   "metadata": {
    "scrolled": true
   },
   "outputs": [
    {
     "name": "stdout",
     "output_type": "stream",
     "text": [
      "Decrypted message: Hello, world!\n",
      "This matches our original message!\n"
     ]
    }
   ],
   "source": [
    "decrypted_msg = r.decrypt(encrypted_msg)\n",
    "print(\"Decrypted message:\", decrypted_msg)\n",
    "if decrypted_msg == msg:\n",
    "    print(\"This matches our original message!\")\n",
    "else:\n",
    "    print(\"This does not match our original message..\")"
   ]
  },
  {
   "cell_type": "markdown",
   "id": "b4f99986",
   "metadata": {},
   "source": [
    "## Cracking RSA\n",
    "\n",
    "We've implemented three cracking algorithms:\n",
    "- Pollard's p-1 Algorithm\n",
    "- Pollard's rho Algorithm\n",
    "- Fermat's factorization Algorithm\n",
    "\n",
    "_Note:  \n",
    "In the examples below, we're using `tuple_val_eq` to check if the cracked primes match what is expected.  \n",
    "This checks if `(p1, q1) == (p2, q2)` or `(p1, q1) == (q2, p2)`_ "
   ]
  },
  {
   "cell_type": "markdown",
   "id": "e34e3c91",
   "metadata": {},
   "source": [
    "### Pollard's p-1 Algorithm"
   ]
  },
  {
   "cell_type": "code",
   "execution_count": 44,
   "id": "f14a9f47",
   "metadata": {},
   "outputs": [
    {
     "name": "stdout",
     "output_type": "stream",
     "text": [
      "Our message: Hello, world! This is my very secret message.\n",
      "Encrypting using RSA, from prime numbers (661, 673)\n",
      "\n",
      "********** Cracking with Fermat factorisation **********\n",
      "\n",
      "Cracked primes: (673, 661)\n",
      "Success!\n",
      "\n",
      "Cracked message: Hello, world! This is my very secret message.\n",
      "Success!\n"
     ]
    }
   ],
   "source": [
    "msg = \"Hello, world! This is my very secret message.\"\n",
    "print(\"Our message:\", msg)\n",
    "\n",
    "primes = (661, 673)\n",
    "print(\"Encrypting using RSA, from prime numbers\", primes)\n",
    "r = RSA.generate(*primes)\n",
    "encrypted_msg = r.encrypt(msg)\n",
    "# print(\"Encrypted data:\", encrypted_msg)\n",
    "\n",
    "print()  # Newline\n",
    "print(10 * '*', \"Cracking with Fermat factorisation\", 10 * '*')\n",
    "\n",
    "print()  # Newline\n",
    "cracked_primes = p_1_pollard.crack_primes(r.n)\n",
    "print(\"Cracked primes:\", cracked_primes)\n",
    "print(\"Success!\" if tuple_val_eq(cracked_primes, primes) else \"Failure.\")\n",
    "\n",
    "print()  # Newline\n",
    "cracked_msg = p_1_pollard.crack_msg(encrypted_msg, r.n)\n",
    "print(\"Cracked message:\", cracked_msg)\n",
    "print(\"Success!\" if cracked_msg == msg else \"Failure.\")"
   ]
  },
  {
   "cell_type": "markdown",
   "id": "d669bc58",
   "metadata": {},
   "source": [
    "### Pollard's rho Algorithm"
   ]
  },
  {
   "cell_type": "code",
   "execution_count": 45,
   "id": "1c357b39",
   "metadata": {},
   "outputs": [
    {
     "name": "stdout",
     "output_type": "stream",
     "text": [
      "Our message: Hello, world! This is my very secret message.\n",
      "Encrypting using RSA, from prime numbers (661, 673)\n",
      "\n",
      "********** Cracking with Fermat factorisation **********\n",
      "\n",
      "Cracked primes: (673, 661)\n",
      "Success!\n",
      "\n",
      "Cracked message: Hello, world! This is my very secret message.\n",
      "Success!\n"
     ]
    }
   ],
   "source": [
    "msg = \"Hello, world! This is my very secret message.\"\n",
    "print(\"Our message:\", msg)\n",
    "\n",
    "primes = (661, 673)\n",
    "print(\"Encrypting using RSA, from prime numbers\", primes)\n",
    "r = RSA.generate(*primes)\n",
    "encrypted_msg = r.encrypt(msg)\n",
    "# print(\"Encrypted data:\", encrypted_msg)\n",
    "\n",
    "print()  # Newline\n",
    "print(10 * '*', \"Cracking with Fermat factorisation\", 10 * '*')\n",
    "\n",
    "print()  # Newline\n",
    "cracked_primes = rho_pollard.crack_primes(r.n)\n",
    "print(\"Cracked primes:\", cracked_primes)\n",
    "print(\"Success!\" if tuple_val_eq(cracked_primes, primes) else \"Failure.\")\n",
    "\n",
    "print()  # Newline\n",
    "cracked_msg = rho_pollard.crack_msg(encrypted_msg, r.n)\n",
    "print(\"Cracked message:\", cracked_msg)\n",
    "print(\"Success!\" if cracked_msg == msg else \"Failure.\")"
   ]
  },
  {
   "cell_type": "markdown",
   "id": "cfa928c2",
   "metadata": {},
   "source": [
    "### Fermat's factorization Algorithm"
   ]
  },
  {
   "cell_type": "code",
   "execution_count": 46,
   "id": "3352b17b",
   "metadata": {},
   "outputs": [
    {
     "name": "stdout",
     "output_type": "stream",
     "text": [
      "Our message: Hello, world! This is my very secret message.\n",
      "Encrypting using RSA, from prime numbers (661, 673)\n",
      "\n",
      "********** Cracking with Fermat factorisation **********\n",
      "\n",
      "Cracked primes: (661, 673)\n",
      "Success!\n",
      "\n",
      "Cracked message: Hello, world! This is my very secret message.\n",
      "Success!\n"
     ]
    }
   ],
   "source": [
    "msg = \"Hello, world! This is my very secret message.\"\n",
    "print(\"Our message:\", msg)\n",
    "\n",
    "primes = (661, 673)\n",
    "print(\"Encrypting using RSA, from prime numbers\", primes)\n",
    "r = RSA.generate(*primes)\n",
    "encrypted_msg = r.encrypt(msg)\n",
    "# print(\"Encrypted data:\", encrypted_msg)\n",
    "\n",
    "print()  # Newline\n",
    "print(10 * '*', \"Cracking with Fermat factorisation\", 10 * '*')\n",
    "\n",
    "print()  # Newline\n",
    "cracked_primes = fermat.crack_primes(r.n)\n",
    "print(\"Cracked primes:\", cracked_primes)\n",
    "print(\"Success!\" if tuple_val_eq(cracked_primes, primes) else \"Failure.\")\n",
    "\n",
    "print()  # Newline\n",
    "cracked_msg = fermat.crack_msg(encrypted_msg, r.n)\n",
    "print(\"Cracked message:\", cracked_msg)\n",
    "print(\"Success!\" if cracked_msg == msg else \"Failure.\")"
   ]
  },
  {
   "cell_type": "code",
   "execution_count": 48,
   "id": "third-comfort",
   "metadata": {},
   "outputs": [
    {
     "ename": "TypeError",
     "evalue": "time_crack() takes 1 positional argument but 2 were given",
     "output_type": "error",
     "traceback": [
      "\u001b[0;31m---------------------------------------------------------------------------\u001b[0m",
      "\u001b[0;31mTypeError\u001b[0m                                 Traceback (most recent call last)",
      "\u001b[0;32m<ipython-input-48-ce230595d1c8>\u001b[0m in \u001b[0;36m<module>\u001b[0;34m\u001b[0m\n\u001b[0;32m----> 1\u001b[0;31m \u001b[0mtime_array_rho\u001b[0m\u001b[0;34m,\u001b[0m \u001b[0mprime_array_rho\u001b[0m \u001b[0;34m=\u001b[0m \u001b[0mtm\u001b[0m\u001b[0;34m.\u001b[0m\u001b[0mtime_crack\u001b[0m\u001b[0;34m(\u001b[0m\u001b[0mrho_pollard\u001b[0m\u001b[0;34m.\u001b[0m\u001b[0mcrack_primes\u001b[0m\u001b[0;34m,\u001b[0m\u001b[0;36m1000\u001b[0m\u001b[0;34m)\u001b[0m\u001b[0;34m\u001b[0m\u001b[0;34m\u001b[0m\u001b[0m\n\u001b[0m",
      "\u001b[0;31mTypeError\u001b[0m: time_crack() takes 1 positional argument but 2 were given"
     ]
    }
   ],
   "source": [
    "time_array_rho, prime_array_rho = tm.time_crack(rho_pollard.crack_primes,1000)"
   ]
  },
  {
   "cell_type": "code",
   "execution_count": null,
   "id": "coordinate-original",
   "metadata": {},
   "outputs": [],
   "source": [
    "plt.plot(prime_array_rho, time_array_rho,'o')"
   ]
  },
  {
   "cell_type": "code",
   "execution_count": null,
   "id": "enabling-execution",
   "metadata": {},
   "outputs": [],
   "source": [
    "time_array_fermat, prime_array_fermat = tm.time_crack(fermat.crack_primes,10000)"
   ]
  },
  {
   "cell_type": "code",
   "execution_count": null,
   "id": "czech-liechtenstein",
   "metadata": {},
   "outputs": [],
   "source": [
    "plt.plot(prime_array_fermat, time_array_fermat,'o')"
   ]
  },
  {
   "cell_type": "code",
   "execution_count": null,
   "id": "stuffed-albania",
   "metadata": {},
   "outputs": [],
   "source": [
    "time_array_p_1, prime_array_p_1 = tm.time_crack(p_1_pollard.crack_primes,10000)"
   ]
  },
  {
   "cell_type": "code",
   "execution_count": null,
   "id": "sealed-installation",
   "metadata": {},
   "outputs": [],
   "source": [
    "plt.plot(prime_array_p_1, time_array_p_1,'o')"
   ]
  },
  {
   "cell_type": "code",
   "execution_count": null,
   "id": "interesting-closure",
   "metadata": {},
   "outputs": [],
   "source": []
  },
  {
   "cell_type": "code",
   "execution_count": null,
   "id": "talented-timber",
   "metadata": {},
   "outputs": [],
   "source": []
  },
  {
   "cell_type": "code",
   "execution_count": null,
   "id": "leading-tracy",
   "metadata": {},
   "outputs": [],
   "source": []
  },
  {
   "cell_type": "code",
   "execution_count": null,
   "id": "developmental-jaguar",
   "metadata": {},
   "outputs": [],
   "source": []
  },
  {
   "cell_type": "code",
   "execution_count": null,
   "id": "honey-orlando",
   "metadata": {},
   "outputs": [],
   "source": []
  }
 ],
 "metadata": {
  "kernelspec": {
   "display_name": "Python 3",
   "language": "python",
   "name": "python3"
  },
  "language_info": {
   "codemirror_mode": {
    "name": "ipython",
    "version": 3
   },
   "file_extension": ".py",
   "mimetype": "text/x-python",
   "name": "python",
   "nbconvert_exporter": "python",
   "pygments_lexer": "ipython3",
   "version": "3.9.2"
  }
 },
 "nbformat": 4,
 "nbformat_minor": 5
}
